{
  "nbformat": 4,
  "nbformat_minor": 0,
  "metadata": {
    "accelerator": "GPU",
    "colab": {
      "name": "lstm_initial_ds.ipynb",
      "provenance": [],
      "collapsed_sections": []
    },
    "kernelspec": {
      "display_name": "Python 3",
      "name": "python3"
    }
  },
  "cells": [
    {
      "cell_type": "code",
      "metadata": {
        "id": "V7VfePkEylPF"
      },
      "source": [
        "!pip install PersianStemmer\n",
        "!pip install transformers\n",
        "!pip install https://github.com/htaghizadeh/PersianStemmer-Python/archive/master.zip --upgrade\n",
        "!pip install hazm\n",
        "!pip install demoji"
      ],
      "execution_count": null,
      "outputs": []
    },
    {
      "cell_type": "code",
      "metadata": {
        "id": "m_pW2wESKOgM"
      },
      "source": [
        "from google.colab import drive\n",
        "import sys\n",
        "drive.mount('/content/drive')\n",
        "sys.path.insert(0, '/content/drive/My Drive/modules')"
      ],
      "execution_count": null,
      "outputs": []
    },
    {
      "cell_type": "code",
      "metadata": {
        "id": "HGz500ubzCrf"
      },
      "source": [
        "import pandas as pd\n",
        "import preprocess\n",
        "import numpy as np\n",
        "import tensorflow as tf\n",
        "import demoji\n",
        "from tensorflow.keras.preprocessing.text import Tokenizer\n",
        "from tensorflow.keras.preprocessing.sequence import pad_sequences\n",
        "from sklearn.model_selection import train_test_split\n",
        "from tensorflow import keras\n",
        "from keras.models import Sequential\n",
        "from keras.layers import Embedding\n",
        "from keras.layers import Dropout\n",
        "from keras.layers import LSTM\n",
        "from keras.layers import Dense\n",
        "import matplotlib.pyplot as plt\n",
        "np.random.seed(42)\n",
        "tf.random.set_seed(42)\n",
        "demoji.download_codes()"
      ],
      "execution_count": null,
      "outputs": []
    },
    {
      "cell_type": "code",
      "metadata": {
        "id": "z8COkEpA7fIM"
      },
      "source": [
        "def create_vector_from_data(train_data_df, test_data_df):\n",
        "    train_sentence_list = [row.sentence for index, row in train_data_df.iterrows()]\n",
        "    train_labels_list = [row.label for index, row in train_data_df.iterrows()]\n",
        "    tokenizer = Tokenizer(oov_token='<UNK>')\n",
        "    tokenizer.fit_on_texts(train_sentence_list)\n",
        "    train_sequences = tokenizer.texts_to_sequences(train_sentence_list)\n",
        "    maxlen = max([len(x) for x in train_sequences])\n",
        "    train_padded = pad_sequences(train_sequences, padding='post', truncating='post', maxlen=maxlen)\n",
        "\n",
        "    test_sentence_list = [row.sentence for index, row in test_data_df.iterrows()]\n",
        "    test_labels_list = [row.label for index, row in test_data_df.iterrows()]\n",
        "    test_sequences = tokenizer.texts_to_sequences(test_sentence_list)\n",
        "    test_padded = pad_sequences(test_sequences, padding='post', truncating='post', maxlen=maxlen)\n",
        "    return train_padded, train_labels_list, test_padded, test_labels_list, len(tokenizer.word_index)+1, maxlen"
      ],
      "execution_count": null,
      "outputs": []
    },
    {
      "cell_type": "code",
      "metadata": {
        "id": "sRUZ3oEEzztw"
      },
      "source": [
        "def plot_history(history):\n",
        "    acc = history.history['accuracy']\n",
        "    val_acc = history.history['val_accuracy']\n",
        "    loss = history.history['loss']\n",
        "    val_loss = history.history['val_loss']\n",
        "    x = range(1, len(acc) + 1)\n",
        "    plt.figure(figsize=(12, 5))\n",
        "    plt.subplot(1, 2, 1)\n",
        "    plt.plot(x, acc, 'b', label='Training acc')\n",
        "    plt.plot(x, val_acc, 'r', label='Validation acc')\n",
        "    plt.title('Training and validation accuracy')\n",
        "    plt.legend()\n",
        "    plt.subplot(1, 2, 2)\n",
        "    plt.plot(x, loss, 'b', label='Training loss')\n",
        "    plt.plot(x, val_loss, 'r', label='Validation loss')\n",
        "    plt.title('Training and validation loss')\n",
        "    plt.legend()"
      ],
      "execution_count": null,
      "outputs": []
    },
    {
      "cell_type": "code",
      "metadata": {
        "id": "tVcwFNWBzvLM"
      },
      "source": [
        "dataset = pd.read_csv('/content/drive/MyDrive/data/initial_dataset.csv')\n",
        "dataset = preprocess.auto_preprocess(dataframe=dataset, stop_words_type='custom', stemming = True)\n",
        "train, test = train_test_split(dataset, test_size=0.2, random_state=42)\n",
        "train_vectors, train_labels_list, test_vectors, test_labels_list, vocab_size, maxlen = create_vector_from_data(train_data_df=train, test_data_df=test)"
      ],
      "execution_count": null,
      "outputs": []
    },
    {
      "cell_type": "code",
      "metadata": {
        "id": "2ZskqoduH6Rw"
      },
      "source": [
        "dataset = tf.data.Dataset.from_tensor_slices((train_vectors, train_labels_list))\n",
        "train_data = dataset.shuffle(100).batch(32)\n",
        "test_dataset = tf.data.Dataset.from_tensor_slices((test_vectors, test_labels_list))\n",
        "test_data = test_dataset.batch(64)"
      ],
      "execution_count": null,
      "outputs": []
    },
    {
      "cell_type": "code",
      "metadata": {
        "id": "qIOVcjFRACXH",
        "colab": {
          "base_uri": "https://localhost:8080/"
        },
        "outputId": "079d288d-1bb1-4460-fc5e-9c66ca71ebb6"
      },
      "source": [
        "checkpoint_filepath = './'\n",
        "model_checkpoint_callback = tf.keras.callbacks.ModelCheckpoint(\n",
        "    filepath=checkpoint_filepath,\n",
        "    save_weights_only=True,\n",
        "    monitor='val_loss',\n",
        "    mode='min',\n",
        "    save_best_only=True)\n",
        "model = Sequential()\n",
        "model.add(Embedding(input_dim=vocab_size, output_dim=50, input_length=maxlen, mask_zero = True))\n",
        "model.add(LSTM(64, dropout=0.1))\n",
        "model.add(Dense(1, activation='sigmoid'))\n",
        "adam = tf.keras.optimizers.Adam(learning_rate=0.001)\n",
        "model.compile(loss=\"binary_crossentropy\", optimizer=adam, metrics=[\"accuracy\"])\n",
        "model.summary()\n",
        "history = model.fit(train_data, epochs=6, validation_data = test_data, class_weight={0:1, 1:5}, callbacks=[model_checkpoint_callback])"
      ],
      "execution_count": null,
      "outputs": [
        {
          "output_type": "stream",
          "text": [
            "Model: \"sequential\"\n",
            "_________________________________________________________________\n",
            "Layer (type)                 Output Shape              Param #   \n",
            "=================================================================\n",
            "embedding (Embedding)        (None, 108, 50)           168350    \n",
            "_________________________________________________________________\n",
            "lstm (LSTM)                  (None, 64)                29440     \n",
            "_________________________________________________________________\n",
            "dense (Dense)                (None, 1)                 65        \n",
            "=================================================================\n",
            "Total params: 197,855\n",
            "Trainable params: 197,855\n",
            "Non-trainable params: 0\n",
            "_________________________________________________________________\n",
            "Epoch 1/6\n",
            "50/50 [==============================] - 8s 43ms/step - loss: 1.1316 - accuracy: 0.7861 - val_loss: 0.6500 - val_accuracy: 0.7544\n",
            "Epoch 2/6\n",
            "50/50 [==============================] - 1s 15ms/step - loss: 0.7851 - accuracy: 0.8450 - val_loss: 0.3739 - val_accuracy: 0.8897\n",
            "Epoch 3/6\n",
            "50/50 [==============================] - 1s 16ms/step - loss: 0.3679 - accuracy: 0.9492 - val_loss: 0.3422 - val_accuracy: 0.8897\n",
            "Epoch 4/6\n",
            "50/50 [==============================] - 1s 16ms/step - loss: 0.2044 - accuracy: 0.9667 - val_loss: 0.3377 - val_accuracy: 0.9173\n",
            "Epoch 5/6\n",
            "50/50 [==============================] - 1s 16ms/step - loss: 0.1088 - accuracy: 0.9824 - val_loss: 0.3404 - val_accuracy: 0.9098\n",
            "Epoch 6/6\n",
            "50/50 [==============================] - 1s 15ms/step - loss: 0.0653 - accuracy: 0.9878 - val_loss: 0.3861 - val_accuracy: 0.9073\n"
          ],
          "name": "stdout"
        }
      ]
    },
    {
      "cell_type": "code",
      "metadata": {
        "id": "_T1DmpwU8dm5"
      },
      "source": [
        "# keras.utils.plot_model(model)"
      ],
      "execution_count": null,
      "outputs": []
    },
    {
      "cell_type": "code",
      "metadata": {
        "colab": {
          "base_uri": "https://localhost:8080/",
          "height": 336
        },
        "id": "fTKjpayhz6xj",
        "outputId": "bf3e1a48-f3b3-43ac-be80-4502786dcce5"
      },
      "source": [
        "plot_history(history)"
      ],
      "execution_count": null,
      "outputs": [
        {
          "output_type": "display_data",
          "data": {
            "image/png": "[encoded data removed]",
            "text/plain": [
              "<Figure size 864x360 with 2 Axes>"
            ]
          },
          "metadata": {
            "tags": [],
            "needs_background": "light"
          }
        }
      ]
    },
    {
      "cell_type": "code",
      "metadata": {
        "id": "ih0Bcz_Y-et7"
      },
      "source": [
        "model.load_weights(checkpoint_filepath)"
      ],
      "execution_count": null,
      "outputs": []
    },
    {
      "cell_type": "code",
      "metadata": {
        "id": "AtpJWo9YCu5r"
      },
      "source": [
        "# results = model.predict_classes(test_data)\n",
        "results = (model.predict(test_data) > 0.5).astype(\"int32\")"
      ],
      "execution_count": null,
      "outputs": []
    },
    {
      "cell_type": "code",
      "metadata": {
        "id": "3pZYWawBBYEH"
      },
      "source": [
        "from sklearn.metrics import accuracy_score\n",
        "from sklearn.metrics import precision_score\n",
        "from sklearn.metrics import recall_score\n",
        "from sklearn.metrics import f1_score"
      ],
      "execution_count": null,
      "outputs": []
    },
    {
      "cell_type": "code",
      "metadata": {
        "id": "hp68eTZPB56l",
        "colab": {
          "base_uri": "https://localhost:8080/"
        },
        "outputId": "68bb2229-c297-4f4a-c3c0-74c264cf1da3"
      },
      "source": [
        "f1 = (f1_score(test_labels_list,results ))*100\n",
        "f1 = round(f1,2)\n",
        "print('f1 score is: ',f1)\n",
        "\n",
        "accuracy = (accuracy_score(test_labels_list,results ))*100\n",
        "accuracy = round(accuracy,2)\n",
        "print('accuracy score is: ',accuracy)\n",
        "\n",
        "precision = (precision_score(test_labels_list,results ))*100\n",
        "precision = round(precision,2)\n",
        "print('precision score is: ',precision)\n",
        "\n",
        "recall = (recall_score(test_labels_list,results ))*100\n",
        "recall = round(recall,2)\n",
        "print('recall score is: ',recall)\n"
      ],
      "execution_count": null,
      "outputs": [
        {
          "output_type": "stream",
          "text": [
            "f1 score is:  74.81\n",
            "accuracy score is:  91.73\n",
            "precision score is:  80.33\n",
            "recall score is:  70.0\n"
          ],
          "name": "stdout"
        }
      ]
    }
  ]
}
