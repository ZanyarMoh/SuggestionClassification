{
  "nbformat": 4,
  "nbformat_minor": 0,
  "metadata": {
    "accelerator": "GPU",
    "colab": {
      "name": "lstm_initial_ds.ipynb",
      "provenance": [],
      "collapsed_sections": []
    },
    "kernelspec": {
      "display_name": "Python 3",
      "name": "python3"
    },
    "widgets": {
      "application/vnd.jupyter.widget-state+json": {
        "80d79d168f9844ee94d8e05f6bde772d": {
          "model_module": "@jupyter-widgets/controls",
          "model_name": "HBoxModel",
          "model_module_version": "1.5.0",
          "state": {
            "_dom_classes": [],
            "_model_module": "@jupyter-widgets/controls",
            "_model_module_version": "1.5.0",
            "_model_name": "HBoxModel",
            "_view_count": null,
            "_view_module": "@jupyter-widgets/controls",
            "_view_module_version": "1.5.0",
            "_view_name": "HBoxView",
            "box_style": "",
            "children": [
              "IPY_MODEL_b34ee3b8cc9043c09b7a18e40f8b91f8",
              "IPY_MODEL_1627cd9e2f154190914e4c6bb20a9d8c",
              "IPY_MODEL_e48ff33e3f7844cba5062e1f96d4859c"
            ],
            "layout": "IPY_MODEL_8f2c0d6f2e8440749510050da346a811"
          }
        },
        "b34ee3b8cc9043c09b7a18e40f8b91f8": {
          "model_module": "@jupyter-widgets/controls",
          "model_name": "HTMLModel",
          "model_module_version": "1.5.0",
          "state": {
            "_dom_classes": [],
            "_model_module": "@jupyter-widgets/controls",
            "_model_module_version": "1.5.0",
            "_model_name": "HTMLModel",
            "_view_count": null,
            "_view_module": "@jupyter-widgets/controls",
            "_view_module_version": "1.5.0",
            "_view_name": "HTMLView",
            "description": "",
            "description_tooltip": null,
            "layout": "IPY_MODEL_91f87f5e96d643fbabca8e9f9264a002",
            "placeholder": "​",
            "style": "IPY_MODEL_36e7ae08125346819a3f6cebc2a9a5c9",
            "value": "Downloading: 100%"
          }
        },
        "1627cd9e2f154190914e4c6bb20a9d8c": {
          "model_module": "@jupyter-widgets/controls",
          "model_name": "FloatProgressModel",
          "model_module_version": "1.5.0",
          "state": {
            "_dom_classes": [],
            "_model_module": "@jupyter-widgets/controls",
            "_model_module_version": "1.5.0",
            "_model_name": "FloatProgressModel",
            "_view_count": null,
            "_view_module": "@jupyter-widgets/controls",
            "_view_module_version": "1.5.0",
            "_view_name": "ProgressView",
            "bar_style": "success",
            "description": "",
            "description_tooltip": null,
            "layout": "IPY_MODEL_7eb8279d9612400aa741b3db407a0092",
            "max": 434,
            "min": 0,
            "orientation": "horizontal",
            "style": "IPY_MODEL_f1dd7c66d7024cf0812c4eba4b384ceb",
            "value": 434
          }
        },
        "e48ff33e3f7844cba5062e1f96d4859c": {
          "model_module": "@jupyter-widgets/controls",
          "model_name": "HTMLModel",
          "model_module_version": "1.5.0",
          "state": {
            "_dom_classes": [],
            "_model_module": "@jupyter-widgets/controls",
            "_model_module_version": "1.5.0",
            "_model_name": "HTMLModel",
            "_view_count": null,
            "_view_module": "@jupyter-widgets/controls",
            "_view_module_version": "1.5.0",
            "_view_name": "HTMLView",
            "description": "",
            "description_tooltip": null,
            "layout": "IPY_MODEL_d52e5f4b50924544bc1a766086232ae4",
            "placeholder": "​",
            "style": "IPY_MODEL_db80da80b54b4bea9d2242bdfcb3a707",
            "value": " 434/434 [00:00&lt;00:00, 3.42kB/s]"
          }
        },
        "8f2c0d6f2e8440749510050da346a811": {
          "model_module": "@jupyter-widgets/base",
          "model_name": "LayoutModel",
          "model_module_version": "1.2.0",
          "state": {
            "_model_module": "@jupyter-widgets/base",
            "_model_module_version": "1.2.0",
            "_model_name": "LayoutModel",
            "_view_count": null,
            "_view_module": "@jupyter-widgets/base",
            "_view_module_version": "1.2.0",
            "_view_name": "LayoutView",
            "align_content": null,
            "align_items": null,
            "align_self": null,
            "border": null,
            "bottom": null,
            "display": null,
            "flex": null,
            "flex_flow": null,
            "grid_area": null,
            "grid_auto_columns": null,
            "grid_auto_flow": null,
            "grid_auto_rows": null,
            "grid_column": null,
            "grid_gap": null,
            "grid_row": null,
            "grid_template_areas": null,
            "grid_template_columns": null,
            "grid_template_rows": null,
            "height": null,
            "justify_content": null,
            "justify_items": null,
            "left": null,
            "margin": null,
            "max_height": null,
            "max_width": null,
            "min_height": null,
            "min_width": null,
            "object_fit": null,
            "object_position": null,
            "order": null,
            "overflow": null,
            "overflow_x": null,
            "overflow_y": null,
            "padding": null,
            "right": null,
            "top": null,
            "visibility": null,
            "width": null
          }
        },
        "91f87f5e96d643fbabca8e9f9264a002": {
          "model_module": "@jupyter-widgets/base",
          "model_name": "LayoutModel",
          "model_module_version": "1.2.0",
          "state": {
            "_model_module": "@jupyter-widgets/base",
            "_model_module_version": "1.2.0",
            "_model_name": "LayoutModel",
            "_view_count": null,
            "_view_module": "@jupyter-widgets/base",
            "_view_module_version": "1.2.0",
            "_view_name": "LayoutView",
            "align_content": null,
            "align_items": null,
            "align_self": null,
            "border": null,
            "bottom": null,
            "display": null,
            "flex": null,
            "flex_flow": null,
            "grid_area": null,
            "grid_auto_columns": null,
            "grid_auto_flow": null,
            "grid_auto_rows": null,
            "grid_column": null,
            "grid_gap": null,
            "grid_row": null,
            "grid_template_areas": null,
            "grid_template_columns": null,
            "grid_template_rows": null,
            "height": null,
            "justify_content": null,
            "justify_items": null,
            "left": null,
            "margin": null,
            "max_height": null,
            "max_width": null,
            "min_height": null,
            "min_width": null,
            "object_fit": null,
            "object_position": null,
            "order": null,
            "overflow": null,
            "overflow_x": null,
            "overflow_y": null,
            "padding": null,
            "right": null,
            "top": null,
            "visibility": null,
            "width": null
          }
        },
        "36e7ae08125346819a3f6cebc2a9a5c9": {
          "model_module": "@jupyter-widgets/controls",
          "model_name": "DescriptionStyleModel",
          "model_module_version": "1.5.0",
          "state": {
            "_model_module": "@jupyter-widgets/controls",
            "_model_module_version": "1.5.0",
            "_model_name": "DescriptionStyleModel",
            "_view_count": null,
            "_view_module": "@jupyter-widgets/base",
            "_view_module_version": "1.2.0",
            "_view_name": "StyleView",
            "description_width": ""
          }
        },
        "7eb8279d9612400aa741b3db407a0092": {
          "model_module": "@jupyter-widgets/base",
          "model_name": "LayoutModel",
          "model_module_version": "1.2.0",
          "state": {
            "_model_module": "@jupyter-widgets/base",
            "_model_module_version": "1.2.0",
            "_model_name": "LayoutModel",
            "_view_count": null,
            "_view_module": "@jupyter-widgets/base",
            "_view_module_version": "1.2.0",
            "_view_name": "LayoutView",
            "align_content": null,
            "align_items": null,
            "align_self": null,
            "border": null,
            "bottom": null,
            "display": null,
            "flex": null,
            "flex_flow": null,
            "grid_area": null,
            "grid_auto_columns": null,
            "grid_auto_flow": null,
            "grid_auto_rows": null,
            "grid_column": null,
            "grid_gap": null,
            "grid_row": null,
            "grid_template_areas": null,
            "grid_template_columns": null,
            "grid_template_rows": null,
            "height": null,
            "justify_content": null,
            "justify_items": null,
            "left": null,
            "margin": null,
            "max_height": null,
            "max_width": null,
            "min_height": null,
            "min_width": null,
            "object_fit": null,
            "object_position": null,
            "order": null,
            "overflow": null,
            "overflow_x": null,
            "overflow_y": null,
            "padding": null,
            "right": null,
            "top": null,
            "visibility": null,
            "width": null
          }
        },
        "f1dd7c66d7024cf0812c4eba4b384ceb": {
          "model_module": "@jupyter-widgets/controls",
          "model_name": "ProgressStyleModel",
          "model_module_version": "1.5.0",
          "state": {
            "_model_module": "@jupyter-widgets/controls",
            "_model_module_version": "1.5.0",
            "_model_name": "ProgressStyleModel",
            "_view_count": null,
            "_view_module": "@jupyter-widgets/base",
            "_view_module_version": "1.2.0",
            "_view_name": "StyleView",
            "bar_color": null,
            "description_width": ""
          }
        },
        "d52e5f4b50924544bc1a766086232ae4": {
          "model_module": "@jupyter-widgets/base",
          "model_name": "LayoutModel",
          "model_module_version": "1.2.0",
          "state": {
            "_model_module": "@jupyter-widgets/base",
            "_model_module_version": "1.2.0",
            "_model_name": "LayoutModel",
            "_view_count": null,
            "_view_module": "@jupyter-widgets/base",
            "_view_module_version": "1.2.0",
            "_view_name": "LayoutView",
            "align_content": null,
            "align_items": null,
            "align_self": null,
            "border": null,
            "bottom": null,
            "display": null,
            "flex": null,
            "flex_flow": null,
            "grid_area": null,
            "grid_auto_columns": null,
            "grid_auto_flow": null,
            "grid_auto_rows": null,
            "grid_column": null,
            "grid_gap": null,
            "grid_row": null,
            "grid_template_areas": null,
            "grid_template_columns": null,
            "grid_template_rows": null,
            "height": null,
            "justify_content": null,
            "justify_items": null,
            "left": null,
            "margin": null,
            "max_height": null,
            "max_width": null,
            "min_height": null,
            "min_width": null,
            "object_fit": null,
            "object_position": null,
            "order": null,
            "overflow": null,
            "overflow_x": null,
            "overflow_y": null,
            "padding": null,
            "right": null,
            "top": null,
            "visibility": null,
            "width": null
          }
        },
        "db80da80b54b4bea9d2242bdfcb3a707": {
          "model_module": "@jupyter-widgets/controls",
          "model_name": "DescriptionStyleModel",
          "model_module_version": "1.5.0",
          "state": {
            "_model_module": "@jupyter-widgets/controls",
            "_model_module_version": "1.5.0",
            "_model_name": "DescriptionStyleModel",
            "_view_count": null,
            "_view_module": "@jupyter-widgets/base",
            "_view_module_version": "1.2.0",
            "_view_name": "StyleView",
            "description_width": ""
          }
        },
        "36ca1c8464e44b4ca10a38f7e87e97d5": {
          "model_module": "@jupyter-widgets/controls",
          "model_name": "HBoxModel",
          "model_module_version": "1.5.0",
          "state": {
            "_dom_classes": [],
            "_model_module": "@jupyter-widgets/controls",
            "_model_module_version": "1.5.0",
            "_model_name": "HBoxModel",
            "_view_count": null,
            "_view_module": "@jupyter-widgets/controls",
            "_view_module_version": "1.5.0",
            "_view_name": "HBoxView",
            "box_style": "",
            "children": [
              "IPY_MODEL_537cc5fa8a5043b99f55612a269767e9",
              "IPY_MODEL_747bae034edd48d3ace2b7db390caca9",
              "IPY_MODEL_ef0b66de21b949a0ac399a42de6b9324"
            ],
            "layout": "IPY_MODEL_a7c58a1131944bb0a458455cb009a830"
          }
        },
        "537cc5fa8a5043b99f55612a269767e9": {
          "model_module": "@jupyter-widgets/controls",
          "model_name": "HTMLModel",
          "model_module_version": "1.5.0",
          "state": {
            "_dom_classes": [],
            "_model_module": "@jupyter-widgets/controls",
            "_model_module_version": "1.5.0",
            "_model_name": "HTMLModel",
            "_view_count": null,
            "_view_module": "@jupyter-widgets/controls",
            "_view_module_version": "1.5.0",
            "_view_name": "HTMLView",
            "description": "",
            "description_tooltip": null,
            "layout": "IPY_MODEL_1bb427539d44434c932b1265924aacdb",
            "placeholder": "​",
            "style": "IPY_MODEL_ddf1fef3c0c040c6845196e38f27da9f",
            "value": "Downloading: 100%"
          }
        },
        "747bae034edd48d3ace2b7db390caca9": {
          "model_module": "@jupyter-widgets/controls",
          "model_name": "FloatProgressModel",
          "model_module_version": "1.5.0",
          "state": {
            "_dom_classes": [],
            "_model_module": "@jupyter-widgets/controls",
            "_model_module_version": "1.5.0",
            "_model_name": "FloatProgressModel",
            "_view_count": null,
            "_view_module": "@jupyter-widgets/controls",
            "_view_module_version": "1.5.0",
            "_view_name": "ProgressView",
            "bar_style": "success",
            "description": "",
            "description_tooltip": null,
            "layout": "IPY_MODEL_76864a158b6a4013a37439cdb9b8dd38",
            "max": 1215509,
            "min": 0,
            "orientation": "horizontal",
            "style": "IPY_MODEL_5f65413d95634fc89c3b9da240d4fa95",
            "value": 1215509
          }
        },
        "ef0b66de21b949a0ac399a42de6b9324": {
          "model_module": "@jupyter-widgets/controls",
          "model_name": "HTMLModel",
          "model_module_version": "1.5.0",
          "state": {
            "_dom_classes": [],
            "_model_module": "@jupyter-widgets/controls",
            "_model_module_version": "1.5.0",
            "_model_name": "HTMLModel",
            "_view_count": null,
            "_view_module": "@jupyter-widgets/controls",
            "_view_module_version": "1.5.0",
            "_view_name": "HTMLView",
            "description": "",
            "description_tooltip": null,
            "layout": "IPY_MODEL_42980fb111ae45328d60ca4f9c6fa2dd",
            "placeholder": "​",
            "style": "IPY_MODEL_afd31d1ac2894356b79b6012eea5359b",
            "value": " 1.16M/1.16M [00:00&lt;00:00, 4.49MB/s]"
          }
        },
        "a7c58a1131944bb0a458455cb009a830": {
          "model_module": "@jupyter-widgets/base",
          "model_name": "LayoutModel",
          "model_module_version": "1.2.0",
          "state": {
            "_model_module": "@jupyter-widgets/base",
            "_model_module_version": "1.2.0",
            "_model_name": "LayoutModel",
            "_view_count": null,
            "_view_module": "@jupyter-widgets/base",
            "_view_module_version": "1.2.0",
            "_view_name": "LayoutView",
            "align_content": null,
            "align_items": null,
            "align_self": null,
            "border": null,
            "bottom": null,
            "display": null,
            "flex": null,
            "flex_flow": null,
            "grid_area": null,
            "grid_auto_columns": null,
            "grid_auto_flow": null,
            "grid_auto_rows": null,
            "grid_column": null,
            "grid_gap": null,
            "grid_row": null,
            "grid_template_areas": null,
            "grid_template_columns": null,
            "grid_template_rows": null,
            "height": null,
            "justify_content": null,
            "justify_items": null,
            "left": null,
            "margin": null,
            "max_height": null,
            "max_width": null,
            "min_height": null,
            "min_width": null,
            "object_fit": null,
            "object_position": null,
            "order": null,
            "overflow": null,
            "overflow_x": null,
            "overflow_y": null,
            "padding": null,
            "right": null,
            "top": null,
            "visibility": null,
            "width": null
          }
        },
        "1bb427539d44434c932b1265924aacdb": {
          "model_module": "@jupyter-widgets/base",
          "model_name": "LayoutModel",
          "model_module_version": "1.2.0",
          "state": {
            "_model_module": "@jupyter-widgets/base",
            "_model_module_version": "1.2.0",
            "_model_name": "LayoutModel",
            "_view_count": null,
            "_view_module": "@jupyter-widgets/base",
            "_view_module_version": "1.2.0",
            "_view_name": "LayoutView",
            "align_content": null,
            "align_items": null,
            "align_self": null,
            "border": null,
            "bottom": null,
            "display": null,
            "flex": null,
            "flex_flow": null,
            "grid_area": null,
            "grid_auto_columns": null,
            "grid_auto_flow": null,
            "grid_auto_rows": null,
            "grid_column": null,
            "grid_gap": null,
            "grid_row": null,
            "grid_template_areas": null,
            "grid_template_columns": null,
            "grid_template_rows": null,
            "height": null,
            "justify_content": null,
            "justify_items": null,
            "left": null,
            "margin": null,
            "max_height": null,
            "max_width": null,
            "min_height": null,
            "min_width": null,
            "object_fit": null,
            "object_position": null,
            "order": null,
            "overflow": null,
            "overflow_x": null,
            "overflow_y": null,
            "padding": null,
            "right": null,
            "top": null,
            "visibility": null,
            "width": null
          }
        },
        "ddf1fef3c0c040c6845196e38f27da9f": {
          "model_module": "@jupyter-widgets/controls",
          "model_name": "DescriptionStyleModel",
          "model_module_version": "1.5.0",
          "state": {
            "_model_module": "@jupyter-widgets/controls",
            "_model_module_version": "1.5.0",
            "_model_name": "DescriptionStyleModel",
            "_view_count": null,
            "_view_module": "@jupyter-widgets/base",
            "_view_module_version": "1.2.0",
            "_view_name": "StyleView",
            "description_width": ""
          }
        },
        "76864a158b6a4013a37439cdb9b8dd38": {
          "model_module": "@jupyter-widgets/base",
          "model_name": "LayoutModel",
          "model_module_version": "1.2.0",
          "state": {
            "_model_module": "@jupyter-widgets/base",
            "_model_module_version": "1.2.0",
            "_model_name": "LayoutModel",
            "_view_count": null,
            "_view_module": "@jupyter-widgets/base",
            "_view_module_version": "1.2.0",
            "_view_name": "LayoutView",
            "align_content": null,
            "align_items": null,
            "align_self": null,
            "border": null,
            "bottom": null,
            "display": null,
            "flex": null,
            "flex_flow": null,
            "grid_area": null,
            "grid_auto_columns": null,
            "grid_auto_flow": null,
            "grid_auto_rows": null,
            "grid_column": null,
            "grid_gap": null,
            "grid_row": null,
            "grid_template_areas": null,
            "grid_template_columns": null,
            "grid_template_rows": null,
            "height": null,
            "justify_content": null,
            "justify_items": null,
            "left": null,
            "margin": null,
            "max_height": null,
            "max_width": null,
            "min_height": null,
            "min_width": null,
            "object_fit": null,
            "object_position": null,
            "order": null,
            "overflow": null,
            "overflow_x": null,
            "overflow_y": null,
            "padding": null,
            "right": null,
            "top": null,
            "visibility": null,
            "width": null
          }
        },
        "5f65413d95634fc89c3b9da240d4fa95": {
          "model_module": "@jupyter-widgets/controls",
          "model_name": "ProgressStyleModel",
          "model_module_version": "1.5.0",
          "state": {
            "_model_module": "@jupyter-widgets/controls",
            "_model_module_version": "1.5.0",
            "_model_name": "ProgressStyleModel",
            "_view_count": null,
            "_view_module": "@jupyter-widgets/base",
            "_view_module_version": "1.2.0",
            "_view_name": "StyleView",
            "bar_color": null,
            "description_width": ""
          }
        },
        "42980fb111ae45328d60ca4f9c6fa2dd": {
          "model_module": "@jupyter-widgets/base",
          "model_name": "LayoutModel",
          "model_module_version": "1.2.0",
          "state": {
            "_model_module": "@jupyter-widgets/base",
            "_model_module_version": "1.2.0",
            "_model_name": "LayoutModel",
            "_view_count": null,
            "_view_module": "@jupyter-widgets/base",
            "_view_module_version": "1.2.0",
            "_view_name": "LayoutView",
            "align_content": null,
            "align_items": null,
            "align_self": null,
            "border": null,
            "bottom": null,
            "display": null,
            "flex": null,
            "flex_flow": null,
            "grid_area": null,
            "grid_auto_columns": null,
            "grid_auto_flow": null,
            "grid_auto_rows": null,
            "grid_column": null,
            "grid_gap": null,
            "grid_row": null,
            "grid_template_areas": null,
            "grid_template_columns": null,
            "grid_template_rows": null,
            "height": null,
            "justify_content": null,
            "justify_items": null,
            "left": null,
            "margin": null,
            "max_height": null,
            "max_width": null,
            "min_height": null,
            "min_width": null,
            "object_fit": null,
            "object_position": null,
            "order": null,
            "overflow": null,
            "overflow_x": null,
            "overflow_y": null,
            "padding": null,
            "right": null,
            "top": null,
            "visibility": null,
            "width": null
          }
        },
        "afd31d1ac2894356b79b6012eea5359b": {
          "model_module": "@jupyter-widgets/controls",
          "model_name": "DescriptionStyleModel",
          "model_module_version": "1.5.0",
          "state": {
            "_model_module": "@jupyter-widgets/controls",
            "_model_module_version": "1.5.0",
            "_model_name": "DescriptionStyleModel",
            "_view_count": null,
            "_view_module": "@jupyter-widgets/base",
            "_view_module_version": "1.2.0",
            "_view_name": "StyleView",
            "description_width": ""
          }
        }
      }
    }
  },
  "cells": [
    {
      "cell_type": "code",
      "metadata": {
        "id": "V7VfePkEylPF",
        "colab": {
          "base_uri": "https://localhost:8080/"
        },
        "outputId": "f27e635d-192b-414f-ed37-835afe93171e"
      },
      "source": [
        "!pip install PersianStemmer\n",
        "!pip install transformers\n",
        "!pip install https://github.com/htaghizadeh/PersianStemmer-Python/archive/master.zip --upgrade\n",
        "!pip install hazm\n",
        "!pip install demoji"
      ],
      "execution_count": 1,
      "outputs": [
        {
          "output_type": "stream",
          "name": "stdout",
          "text": [
            "Collecting PersianStemmer\n",
            "  Downloading persianstemmer-1.0.0.tar.gz (810 kB)\n",
            "\u001b[?25l\r\u001b[K     |▍                               | 10 kB 38.7 MB/s eta 0:00:01\r\u001b[K     |▉                               | 20 kB 41.0 MB/s eta 0:00:01\r\u001b[K     |█▏                              | 30 kB 44.7 MB/s eta 0:00:01\r\u001b[K     |█▋                              | 40 kB 26.6 MB/s eta 0:00:01\r\u001b[K     |██                              | 51 kB 14.6 MB/s eta 0:00:01\r\u001b[K     |██▍                             | 61 kB 16.8 MB/s eta 0:00:01\r\u001b[K     |██▉                             | 71 kB 18.7 MB/s eta 0:00:01\r\u001b[K     |███▎                            | 81 kB 19.6 MB/s eta 0:00:01\r\u001b[K     |███▋                            | 92 kB 21.3 MB/s eta 0:00:01\r\u001b[K     |████                            | 102 kB 23.0 MB/s eta 0:00:01\r\u001b[K     |████▌                           | 112 kB 23.0 MB/s eta 0:00:01\r\u001b[K     |████▉                           | 122 kB 23.0 MB/s eta 0:00:01\r\u001b[K     |█████▎                          | 133 kB 23.0 MB/s eta 0:00:01\r\u001b[K     |█████▋                          | 143 kB 23.0 MB/s eta 0:00:01\r\u001b[K     |██████                          | 153 kB 23.0 MB/s eta 0:00:01\r\u001b[K     |██████▌                         | 163 kB 23.0 MB/s eta 0:00:01\r\u001b[K     |██████▉                         | 174 kB 23.0 MB/s eta 0:00:01\r\u001b[K     |███████▎                        | 184 kB 23.0 MB/s eta 0:00:01\r\u001b[K     |███████▊                        | 194 kB 23.0 MB/s eta 0:00:01\r\u001b[K     |████████                        | 204 kB 23.0 MB/s eta 0:00:01\r\u001b[K     |████████▌                       | 215 kB 23.0 MB/s eta 0:00:01\r\u001b[K     |█████████                       | 225 kB 23.0 MB/s eta 0:00:01\r\u001b[K     |█████████▎                      | 235 kB 23.0 MB/s eta 0:00:01\r\u001b[K     |█████████▊                      | 245 kB 23.0 MB/s eta 0:00:01\r\u001b[K     |██████████▏                     | 256 kB 23.0 MB/s eta 0:00:01\r\u001b[K     |██████████▌                     | 266 kB 23.0 MB/s eta 0:00:01\r\u001b[K     |███████████                     | 276 kB 23.0 MB/s eta 0:00:01\r\u001b[K     |███████████▎                    | 286 kB 23.0 MB/s eta 0:00:01\r\u001b[K     |███████████▊                    | 296 kB 23.0 MB/s eta 0:00:01\r\u001b[K     |████████████▏                   | 307 kB 23.0 MB/s eta 0:00:01\r\u001b[K     |████████████▌                   | 317 kB 23.0 MB/s eta 0:00:01\r\u001b[K     |█████████████                   | 327 kB 23.0 MB/s eta 0:00:01\r\u001b[K     |█████████████▍                  | 337 kB 23.0 MB/s eta 0:00:01\r\u001b[K     |█████████████▊                  | 348 kB 23.0 MB/s eta 0:00:01\r\u001b[K     |██████████████▏                 | 358 kB 23.0 MB/s eta 0:00:01\r\u001b[K     |██████████████▋                 | 368 kB 23.0 MB/s eta 0:00:01\r\u001b[K     |███████████████                 | 378 kB 23.0 MB/s eta 0:00:01\r\u001b[K     |███████████████▍                | 389 kB 23.0 MB/s eta 0:00:01\r\u001b[K     |███████████████▊                | 399 kB 23.0 MB/s eta 0:00:01\r\u001b[K     |████████████████▏               | 409 kB 23.0 MB/s eta 0:00:01\r\u001b[K     |████████████████▋               | 419 kB 23.0 MB/s eta 0:00:01\r\u001b[K     |█████████████████               | 430 kB 23.0 MB/s eta 0:00:01\r\u001b[K     |█████████████████▍              | 440 kB 23.0 MB/s eta 0:00:01\r\u001b[K     |█████████████████▉              | 450 kB 23.0 MB/s eta 0:00:01\r\u001b[K     |██████████████████▏             | 460 kB 23.0 MB/s eta 0:00:01\r\u001b[K     |██████████████████▋             | 471 kB 23.0 MB/s eta 0:00:01\r\u001b[K     |███████████████████             | 481 kB 23.0 MB/s eta 0:00:01\r\u001b[K     |███████████████████▍            | 491 kB 23.0 MB/s eta 0:00:01\r\u001b[K     |███████████████████▉            | 501 kB 23.0 MB/s eta 0:00:01\r\u001b[K     |████████████████████▎           | 512 kB 23.0 MB/s eta 0:00:01\r\u001b[K     |████████████████████▋           | 522 kB 23.0 MB/s eta 0:00:01\r\u001b[K     |█████████████████████           | 532 kB 23.0 MB/s eta 0:00:01\r\u001b[K     |█████████████████████▍          | 542 kB 23.0 MB/s eta 0:00:01\r\u001b[K     |█████████████████████▉          | 552 kB 23.0 MB/s eta 0:00:01\r\u001b[K     |██████████████████████▎         | 563 kB 23.0 MB/s eta 0:00:01\r\u001b[K     |██████████████████████▋         | 573 kB 23.0 MB/s eta 0:00:01\r\u001b[K     |███████████████████████         | 583 kB 23.0 MB/s eta 0:00:01\r\u001b[K     |███████████████████████▌        | 593 kB 23.0 MB/s eta 0:00:01\r\u001b[K     |███████████████████████▉        | 604 kB 23.0 MB/s eta 0:00:01\r\u001b[K     |████████████████████████▎       | 614 kB 23.0 MB/s eta 0:00:01\r\u001b[K     |████████████████████████▊       | 624 kB 23.0 MB/s eta 0:00:01\r\u001b[K     |█████████████████████████       | 634 kB 23.0 MB/s eta 0:00:01\r\u001b[K     |█████████████████████████▌      | 645 kB 23.0 MB/s eta 0:00:01\r\u001b[K     |█████████████████████████▉      | 655 kB 23.0 MB/s eta 0:00:01\r\u001b[K     |██████████████████████████▎     | 665 kB 23.0 MB/s eta 0:00:01\r\u001b[K     |██████████████████████████▊     | 675 kB 23.0 MB/s eta 0:00:01\r\u001b[K     |███████████████████████████     | 686 kB 23.0 MB/s eta 0:00:01\r\u001b[K     |███████████████████████████▌    | 696 kB 23.0 MB/s eta 0:00:01\r\u001b[K     |████████████████████████████    | 706 kB 23.0 MB/s eta 0:00:01\r\u001b[K     |████████████████████████████▎   | 716 kB 23.0 MB/s eta 0:00:01\r\u001b[K     |████████████████████████████▊   | 727 kB 23.0 MB/s eta 0:00:01\r\u001b[K     |█████████████████████████████▏  | 737 kB 23.0 MB/s eta 0:00:01\r\u001b[K     |█████████████████████████████▌  | 747 kB 23.0 MB/s eta 0:00:01\r\u001b[K     |██████████████████████████████  | 757 kB 23.0 MB/s eta 0:00:01\r\u001b[K     |██████████████████████████████▍ | 768 kB 23.0 MB/s eta 0:00:01\r\u001b[K     |██████████████████████████████▊ | 778 kB 23.0 MB/s eta 0:00:01\r\u001b[K     |███████████████████████████████▏| 788 kB 23.0 MB/s eta 0:00:01\r\u001b[K     |███████████████████████████████▌| 798 kB 23.0 MB/s eta 0:00:01\r\u001b[K     |████████████████████████████████| 808 kB 23.0 MB/s eta 0:00:01\r\u001b[K     |████████████████████████████████| 810 kB 23.0 MB/s \n",
            "\u001b[?25hCollecting patricia-trie\n",
            "  Downloading patricia-trie-10.tar.gz (6.7 kB)\n",
            "Building wheels for collected packages: PersianStemmer, patricia-trie\n",
            "  Building wheel for PersianStemmer (setup.py) ... \u001b[?25l\u001b[?25hdone\n",
            "  Created wheel for PersianStemmer: filename=PersianStemmer-1.0.0-py3-none-any.whl size=810281 sha256=255dfc103e2bfebc4750a3050c7cefa4f25a846652f3e4bca0060de3f6c14ee2\n",
            "  Stored in directory: /root/.cache/pip/wheels/d2/f7/96/55f0070725e6ce1191aa9a931e962fc0f551b68ed919fb7f8e\n",
            "  Building wheel for patricia-trie (setup.py) ... \u001b[?25l\u001b[?25hdone\n",
            "  Created wheel for patricia-trie: filename=patricia_trie-10-py3-none-any.whl size=7768 sha256=1b0c2b46ed3902d42078892a3a7c49a268634d23eb04af70887163ec573ae8dd\n",
            "  Stored in directory: /root/.cache/pip/wheels/32/89/b4/46456cda461ffee3f6ef09a68bccb5d175b65ff2b922b5b5b8\n",
            "Successfully built PersianStemmer patricia-trie\n",
            "Installing collected packages: patricia-trie, PersianStemmer\n",
            "Successfully installed PersianStemmer-1.0.0 patricia-trie-10\n",
            "Collecting transformers\n",
            "  Downloading transformers-4.18.0-py3-none-any.whl (4.0 MB)\n",
            "\u001b[K     |████████████████████████████████| 4.0 MB 16.4 MB/s \n",
            "\u001b[?25hRequirement already satisfied: requests in /usr/local/lib/python3.7/dist-packages (from transformers) (2.23.0)\n",
            "Requirement already satisfied: filelock in /usr/local/lib/python3.7/dist-packages (from transformers) (3.6.0)\n",
            "Requirement already satisfied: packaging>=20.0 in /usr/local/lib/python3.7/dist-packages (from transformers) (21.3)\n",
            "Requirement already satisfied: regex!=2019.12.17 in /usr/local/lib/python3.7/dist-packages (from transformers) (2019.12.20)\n",
            "Requirement already satisfied: numpy>=1.17 in /usr/local/lib/python3.7/dist-packages (from transformers) (1.21.6)\n",
            "Requirement already satisfied: tqdm>=4.27 in /usr/local/lib/python3.7/dist-packages (from transformers) (4.64.0)\n",
            "Collecting pyyaml>=5.1\n",
            "  Downloading PyYAML-6.0-cp37-cp37m-manylinux_2_5_x86_64.manylinux1_x86_64.manylinux_2_12_x86_64.manylinux2010_x86_64.whl (596 kB)\n",
            "\u001b[K     |████████████████████████████████| 596 kB 51.9 MB/s \n",
            "\u001b[?25hCollecting sacremoses\n",
            "  Downloading sacremoses-0.0.49-py3-none-any.whl (895 kB)\n",
            "\u001b[K     |████████████████████████████████| 895 kB 44.3 MB/s \n",
            "\u001b[?25hCollecting huggingface-hub<1.0,>=0.1.0\n",
            "  Downloading huggingface_hub-0.5.1-py3-none-any.whl (77 kB)\n",
            "\u001b[K     |████████████████████████████████| 77 kB 5.8 MB/s \n",
            "\u001b[?25hRequirement already satisfied: importlib-metadata in /usr/local/lib/python3.7/dist-packages (from transformers) (4.11.3)\n",
            "Collecting tokenizers!=0.11.3,<0.13,>=0.11.1\n",
            "  Downloading tokenizers-0.12.1-cp37-cp37m-manylinux_2_12_x86_64.manylinux2010_x86_64.whl (6.6 MB)\n",
            "\u001b[K     |████████████████████████████████| 6.6 MB 43.2 MB/s \n",
            "\u001b[?25hRequirement already satisfied: typing-extensions>=3.7.4.3 in /usr/local/lib/python3.7/dist-packages (from huggingface-hub<1.0,>=0.1.0->transformers) (4.1.1)\n",
            "Requirement already satisfied: pyparsing!=3.0.5,>=2.0.2 in /usr/local/lib/python3.7/dist-packages (from packaging>=20.0->transformers) (3.0.8)\n",
            "Requirement already satisfied: zipp>=0.5 in /usr/local/lib/python3.7/dist-packages (from importlib-metadata->transformers) (3.8.0)\n",
            "Requirement already satisfied: urllib3!=1.25.0,!=1.25.1,<1.26,>=1.21.1 in /usr/local/lib/python3.7/dist-packages (from requests->transformers) (1.24.3)\n",
            "Requirement already satisfied: idna<3,>=2.5 in /usr/local/lib/python3.7/dist-packages (from requests->transformers) (2.10)\n",
            "Requirement already satisfied: chardet<4,>=3.0.2 in /usr/local/lib/python3.7/dist-packages (from requests->transformers) (3.0.4)\n",
            "Requirement already satisfied: certifi>=2017.4.17 in /usr/local/lib/python3.7/dist-packages (from requests->transformers) (2021.10.8)\n",
            "Requirement already satisfied: click in /usr/local/lib/python3.7/dist-packages (from sacremoses->transformers) (7.1.2)\n",
            "Requirement already satisfied: joblib in /usr/local/lib/python3.7/dist-packages (from sacremoses->transformers) (1.1.0)\n",
            "Requirement already satisfied: six in /usr/local/lib/python3.7/dist-packages (from sacremoses->transformers) (1.15.0)\n",
            "Installing collected packages: pyyaml, tokenizers, sacremoses, huggingface-hub, transformers\n",
            "  Attempting uninstall: pyyaml\n",
            "    Found existing installation: PyYAML 3.13\n",
            "    Uninstalling PyYAML-3.13:\n",
            "      Successfully uninstalled PyYAML-3.13\n",
            "Successfully installed huggingface-hub-0.5.1 pyyaml-6.0 sacremoses-0.0.49 tokenizers-0.12.1 transformers-4.18.0\n",
            "Collecting https://github.com/htaghizadeh/PersianStemmer-Python/archive/master.zip\n",
            "  Downloading https://github.com/htaghizadeh/PersianStemmer-Python/archive/master.zip\n",
            "\u001b[K     - 811 kB 1.3 MB/s\n",
            "\u001b[?25hRequirement already satisfied: patricia-trie in /usr/local/lib/python3.7/dist-packages (from PersianStemmer==1.0.1) (10)\n",
            "Building wheels for collected packages: PersianStemmer\n",
            "  Building wheel for PersianStemmer (setup.py) ... \u001b[?25l\u001b[?25hdone\n",
            "  Created wheel for PersianStemmer: filename=PersianStemmer-1.0.1-py3-none-any.whl size=809904 sha256=dc84fda4d8aef9b6269411f2371a4a6d2e4ceb45cfebd653e69a898b56585301\n",
            "  Stored in directory: /tmp/pip-ephem-wheel-cache-2k81nrqc/wheels/7c/4f/ee/84dac1abee1c37b411c746dff1a9cdccf9d8cf9c8f5e15f734\n",
            "Successfully built PersianStemmer\n",
            "Installing collected packages: PersianStemmer\n",
            "  Attempting uninstall: PersianStemmer\n",
            "    Found existing installation: PersianStemmer 1.0.0\n",
            "    Uninstalling PersianStemmer-1.0.0:\n",
            "      Successfully uninstalled PersianStemmer-1.0.0\n",
            "Successfully installed PersianStemmer-1.0.1\n",
            "Collecting hazm\n",
            "  Downloading hazm-0.7.0-py3-none-any.whl (316 kB)\n",
            "\u001b[K     |████████████████████████████████| 316 kB 30.5 MB/s \n",
            "\u001b[?25hCollecting libwapiti>=0.2.1\n",
            "  Downloading libwapiti-0.2.1.tar.gz (233 kB)\n",
            "\u001b[K     |████████████████████████████████| 233 kB 60.1 MB/s \n",
            "\u001b[?25hCollecting nltk==3.3\n",
            "  Downloading nltk-3.3.0.zip (1.4 MB)\n",
            "\u001b[K     |████████████████████████████████| 1.4 MB 59.4 MB/s \n",
            "\u001b[?25hRequirement already satisfied: six in /usr/local/lib/python3.7/dist-packages (from nltk==3.3->hazm) (1.15.0)\n",
            "Building wheels for collected packages: nltk, libwapiti\n",
            "  Building wheel for nltk (setup.py) ... \u001b[?25l\u001b[?25hdone\n",
            "  Created wheel for nltk: filename=nltk-3.3-py3-none-any.whl size=1394486 sha256=9e93e03b0a43115a0450d0f29333b7026eee9d94341b9b0349e52278710657b2\n",
            "  Stored in directory: /root/.cache/pip/wheels/9b/fd/0c/d92302c876e5de87ebd7fc0979d82edb93e2d8d768bf71fac4\n",
            "  Building wheel for libwapiti (setup.py) ... \u001b[?25l\u001b[?25hdone\n",
            "  Created wheel for libwapiti: filename=libwapiti-0.2.1-cp37-cp37m-linux_x86_64.whl size=153956 sha256=4496c19596b4253f6a290891b0e155343357406edad704df9e9cd1a9a7810e09\n",
            "  Stored in directory: /root/.cache/pip/wheels/ab/b2/5b/0fe4b8f5c0e65341e8ea7bb3f4a6ebabfe8b1ac31322392dbf\n",
            "Successfully built nltk libwapiti\n",
            "Installing collected packages: nltk, libwapiti, hazm\n",
            "  Attempting uninstall: nltk\n",
            "    Found existing installation: nltk 3.2.5\n",
            "    Uninstalling nltk-3.2.5:\n",
            "      Successfully uninstalled nltk-3.2.5\n",
            "Successfully installed hazm-0.7.0 libwapiti-0.2.1 nltk-3.3\n",
            "Collecting demoji\n",
            "  Downloading demoji-1.1.0-py3-none-any.whl (42 kB)\n",
            "\u001b[K     |████████████████████████████████| 42 kB 1.9 MB/s \n",
            "\u001b[?25hInstalling collected packages: demoji\n",
            "Successfully installed demoji-1.1.0\n"
          ]
        }
      ]
    },
    {
      "cell_type": "code",
      "metadata": {
        "id": "m_pW2wESKOgM",
        "colab": {
          "base_uri": "https://localhost:8080/"
        },
        "outputId": "d8c4107f-3b15-4740-870a-666c7f12352c"
      },
      "source": [
        "from google.colab import drive\n",
        "import sys\n",
        "drive.mount('/content/drive')\n",
        "sys.path.insert(0, '/content/drive/My Drive/modules') #Adds preprocessing module to current session."
      ],
      "execution_count": 2,
      "outputs": [
        {
          "output_type": "stream",
          "name": "stdout",
          "text": [
            "Mounted at /content/drive\n"
          ]
        }
      ]
    },
    {
      "cell_type": "code",
      "metadata": {
        "id": "HGz500ubzCrf",
        "colab": {
          "base_uri": "https://localhost:8080/"
        },
        "outputId": "70e2f32a-8bd5-4f94-d581-610dd700fbaf"
      },
      "source": [
        "import pandas as pd\n",
        "import preprocess\n",
        "import numpy as np\n",
        "import tensorflow as tf\n",
        "import demoji\n",
        "from tensorflow.keras.preprocessing.text import Tokenizer\n",
        "from tensorflow.keras.preprocessing.sequence import pad_sequences\n",
        "from sklearn.model_selection import train_test_split\n",
        "from tensorflow import keras\n",
        "from keras.models import Sequential\n",
        "from keras.layers import Embedding\n",
        "from keras.layers import Dropout\n",
        "from keras.layers import LSTM\n",
        "from keras.layers import Dense\n",
        "import matplotlib.pyplot as plt\n",
        "np.random.seed(42)\n",
        "tf.random.set_seed(42)\n",
        "demoji.download_codes()"
      ],
      "execution_count": 3,
      "outputs": [
        {
          "output_type": "stream",
          "name": "stderr",
          "text": [
            "/usr/local/lib/python3.7/dist-packages/ipykernel_launcher.py:18: FutureWarning: The demoji.download_codes attribute is deprecated and will be removed from demoji in a future version. It is an unused attribute as emoji codes are now distributed directly with the demoji package.\n"
          ]
        }
      ]
    },
    {
      "cell_type": "code",
      "metadata": {
        "id": "z8COkEpA7fIM"
      },
      "source": [
        "def create_vector_from_data(train_data_df, test_data_df):\n",
        "    train_sentence_list = [row.sentence for index, row in train_data_df.iterrows()]\n",
        "    train_labels_list = [row.label for index, row in train_data_df.iterrows()]\n",
        "    tokenizer = Tokenizer(oov_token='<UNK>')\n",
        "    tokenizer.fit_on_texts(train_sentence_list)\n",
        "    train_sequences = tokenizer.texts_to_sequences(train_sentence_list)\n",
        "    maxlen = max([len(x) for x in train_sequences])\n",
        "    train_padded = pad_sequences(train_sequences, padding='post', truncating='post', maxlen=maxlen)\n",
        "\n",
        "    test_sentence_list = [row.sentence for index, row in test_data_df.iterrows()]\n",
        "    test_labels_list = [row.label for index, row in test_data_df.iterrows()]\n",
        "    test_sequences = tokenizer.texts_to_sequences(test_sentence_list)\n",
        "    test_padded = pad_sequences(test_sequences, padding='post', truncating='post', maxlen=maxlen)\n",
        "    return train_padded, train_labels_list, test_padded, test_labels_list, len(tokenizer.word_index)+1, maxlen"
      ],
      "execution_count": 4,
      "outputs": []
    },
    {
      "cell_type": "code",
      "metadata": {
        "id": "sRUZ3oEEzztw"
      },
      "source": [
        "def plot_history(history):\n",
        "    acc = history.history['accuracy']\n",
        "    val_acc = history.history['val_accuracy']\n",
        "    loss = history.history['loss']\n",
        "    val_loss = history.history['val_loss']\n",
        "    x = range(1, len(acc) + 1)\n",
        "    plt.figure(figsize=(12, 5))\n",
        "    plt.subplot(1, 2, 1)\n",
        "    plt.plot(x, acc, 'b', label='Training acc')\n",
        "    plt.plot(x, val_acc, 'r', label='Validation acc')\n",
        "    plt.title('Training and validation accuracy')\n",
        "    plt.legend()\n",
        "    plt.subplot(1, 2, 2)\n",
        "    plt.plot(x, loss, 'b', label='Training loss')\n",
        "    plt.plot(x, val_loss, 'r', label='Validation loss')\n",
        "    plt.title('Training and validation loss')\n",
        "    plt.legend()"
      ],
      "execution_count": 5,
      "outputs": []
    },
    {
      "cell_type": "code",
      "metadata": {
        "id": "tVcwFNWBzvLM",
        "colab": {
          "base_uri": "https://localhost:8080/",
          "height": 185,
          "referenced_widgets": [
            "80d79d168f9844ee94d8e05f6bde772d",
            "b34ee3b8cc9043c09b7a18e40f8b91f8",
            "1627cd9e2f154190914e4c6bb20a9d8c",
            "e48ff33e3f7844cba5062e1f96d4859c",
            "8f2c0d6f2e8440749510050da346a811",
            "91f87f5e96d643fbabca8e9f9264a002",
            "36e7ae08125346819a3f6cebc2a9a5c9",
            "7eb8279d9612400aa741b3db407a0092",
            "f1dd7c66d7024cf0812c4eba4b384ceb",
            "d52e5f4b50924544bc1a766086232ae4",
            "db80da80b54b4bea9d2242bdfcb3a707",
            "36ca1c8464e44b4ca10a38f7e87e97d5",
            "537cc5fa8a5043b99f55612a269767e9",
            "747bae034edd48d3ace2b7db390caca9",
            "ef0b66de21b949a0ac399a42de6b9324",
            "a7c58a1131944bb0a458455cb009a830",
            "1bb427539d44434c932b1265924aacdb",
            "ddf1fef3c0c040c6845196e38f27da9f",
            "76864a158b6a4013a37439cdb9b8dd38",
            "5f65413d95634fc89c3b9da240d4fa95",
            "42980fb111ae45328d60ca4f9c6fa2dd",
            "afd31d1ac2894356b79b6012eea5359b"
          ]
        },
        "outputId": "aeb4852e-9ef6-4ce9-a481-3f56ad0a16db"
      },
      "source": [
        "dataset = pd.read_csv('/content/drive/MyDrive/data/initial_dataset.csv')\n",
        "dataset = preprocess.auto_preprocess(dataframe=dataset, stop_words_type='custom', stemming = True)\n",
        "train, test = train_test_split(dataset, test_size=0.2, random_state=42)\n",
        "train_vectors, train_labels_list, test_vectors, test_labels_list, vocab_size, maxlen = create_vector_from_data(train_data_df=train, test_data_df=test)"
      ],
      "execution_count": 6,
      "outputs": [
        {
          "output_type": "stream",
          "name": "stdout",
          "text": [
            "custom stop words selected\n"
          ]
        },
        {
          "output_type": "display_data",
          "data": {
            "text/plain": [
              "Downloading:   0%|          | 0.00/434 [00:00<?, ?B/s]"
            ],
            "application/vnd.jupyter.widget-view+json": {
              "version_major": 2,
              "version_minor": 0,
              "model_id": "80d79d168f9844ee94d8e05f6bde772d"
            }
          },
          "metadata": {}
        },
        {
          "output_type": "display_data",
          "data": {
            "text/plain": [
              "Downloading:   0%|          | 0.00/1.16M [00:00<?, ?B/s]"
            ],
            "application/vnd.jupyter.widget-view+json": {
              "version_major": 2,
              "version_minor": 0,
              "model_id": "36ca1c8464e44b4ca10a38f7e87e97d5"
            }
          },
          "metadata": {}
        },
        {
          "output_type": "stream",
          "name": "stdout",
          "text": [
            "there are 5 outlier in data\n",
            "current dataframe length before remove 5 outlier sentence is: 2000\n",
            "current dataframe length after remove 5 outlier sentence is: 1995\n",
            "auto preprocess completed done on dataframe!\n",
            "Enjoy!\n"
          ]
        }
      ]
    },
    {
      "cell_type": "code",
      "metadata": {
        "id": "2ZskqoduH6Rw"
      },
      "source": [
        "dataset = tf.data.Dataset.from_tensor_slices((train_vectors, train_labels_list))\n",
        "train_data = dataset.shuffle(100).batch(16)\n",
        "test_dataset = tf.data.Dataset.from_tensor_slices((test_vectors, test_labels_list))\n",
        "test_data = test_dataset.batch(64)"
      ],
      "execution_count": 7,
      "outputs": []
    },
    {
      "cell_type": "code",
      "metadata": {
        "id": "qIOVcjFRACXH",
        "colab": {
          "base_uri": "https://localhost:8080/"
        },
        "outputId": "2cab0ddd-1394-42e4-d9b0-381f09f1b37e"
      },
      "source": [
        "checkpoint_filepath = './'\n",
        "model_checkpoint_callback = tf.keras.callbacks.ModelCheckpoint(\n",
        "        filepath=checkpoint_filepath,\n",
        "        save_weights_only=True,\n",
        "        monitor='val_loss',\n",
        "        mode='min',\n",
        "        save_best_only=True)\n",
        "model = Sequential()\n",
        "model.add(Embedding(input_dim=vocab_size, output_dim=50, input_length=maxlen, mask_zero=True))\n",
        "model.add(LSTM(64))\n",
        "model.add(Dense(1, activation='sigmoid'))\n",
        "adam = tf.keras.optimizers.Adam(learning_rate=0.001)\n",
        "model.compile(loss=\"binary_crossentropy\", optimizer=adam, metrics=[\"accuracy\"])\n",
        "model.summary()\n",
        "history = model.fit(train_data, epochs=6, validation_data=test_data, class_weight={0: 1, 1: 6},\n",
        "                    callbacks=[model_checkpoint_callback])"
      ],
      "execution_count": 8,
      "outputs": [
        {
          "output_type": "stream",
          "name": "stdout",
          "text": [
            "Model: \"sequential\"\n",
            "_________________________________________________________________\n",
            " Layer (type)                Output Shape              Param #   \n",
            "=================================================================\n",
            " embedding (Embedding)       (None, 108, 50)           168350    \n",
            "                                                                 \n",
            " lstm (LSTM)                 (None, 64)                29440     \n",
            "                                                                 \n",
            " dense (Dense)               (None, 1)                 65        \n",
            "                                                                 \n",
            "=================================================================\n",
            "Total params: 197,855\n",
            "Trainable params: 197,855\n",
            "Non-trainable params: 0\n",
            "_________________________________________________________________\n",
            "Epoch 1/6\n",
            "100/100 [==============================] - 11s 22ms/step - loss: 1.1327 - accuracy: 0.6078 - val_loss: 0.5943 - val_accuracy: 0.7569\n",
            "Epoch 2/6\n",
            "100/100 [==============================] - 1s 9ms/step - loss: 0.5068 - accuracy: 0.9148 - val_loss: 0.3430 - val_accuracy: 0.8822\n",
            "Epoch 3/6\n",
            "100/100 [==============================] - 1s 9ms/step - loss: 0.2979 - accuracy: 0.9461 - val_loss: 0.2975 - val_accuracy: 0.9223\n",
            "Epoch 4/6\n",
            "100/100 [==============================] - 1s 9ms/step - loss: 0.1410 - accuracy: 0.9762 - val_loss: 0.4046 - val_accuracy: 0.8997\n",
            "Epoch 5/6\n",
            "100/100 [==============================] - 1s 9ms/step - loss: 0.2426 - accuracy: 0.9662 - val_loss: 0.3968 - val_accuracy: 0.8847\n",
            "Epoch 6/6\n",
            "100/100 [==============================] - 1s 9ms/step - loss: 0.1000 - accuracy: 0.9799 - val_loss: 0.3703 - val_accuracy: 0.9023\n"
          ]
        }
      ]
    },
    {
      "cell_type": "code",
      "metadata": {
        "id": "_T1DmpwU8dm5"
      },
      "source": [
        "# keras.utils.plot_model(model)"
      ],
      "execution_count": 9,
      "outputs": []
    },
    {
      "cell_type": "code",
      "metadata": {
        "colab": {
          "base_uri": "https://localhost:8080/",
          "height": 336
        },
        "id": "fTKjpayhz6xj",
        "outputId": "e362ee83-f7d7-4a62-803d-1244490a3924"
      },
      "source": [
        "plot_history(history)"
      ],
      "execution_count": 10,
      "outputs": [
        {
          "output_type": "display_data",
          "data": {
            "text/plain": [
              "<Figure size 864x360 with 2 Axes>"
            ],
            "image/png": "[encoded data removed]"
          },
          "metadata": {
            "needs_background": "light"
          }
        }
      ]
    },
    {
      "cell_type": "code",
      "metadata": {
        "id": "ih0Bcz_Y-et7",
        "colab": {
          "base_uri": "https://localhost:8080/"
        },
        "outputId": "f5bb8780-be1b-488f-d803-2a7a2b2214e1"
      },
      "source": [
        "model.load_weights(checkpoint_filepath)"
      ],
      "execution_count": 11,
      "outputs": [
        {
          "output_type": "execute_result",
          "data": {
            "text/plain": [
              "<tensorflow.python.training.tracking.util.CheckpointLoadStatus at 0x7f090008c190>"
            ]
          },
          "metadata": {},
          "execution_count": 11
        }
      ]
    },
    {
      "cell_type": "code",
      "metadata": {
        "id": "AtpJWo9YCu5r"
      },
      "source": [
        "# results = model.predict_classes(test_data)\n",
        "results = (model.predict(test_data) > 0.5).astype(\"int32\")"
      ],
      "execution_count": 12,
      "outputs": []
    },
    {
      "cell_type": "code",
      "metadata": {
        "id": "3pZYWawBBYEH"
      },
      "source": [
        "from sklearn.metrics import accuracy_score\n",
        "from sklearn.metrics import precision_score\n",
        "from sklearn.metrics import recall_score\n",
        "from sklearn.metrics import f1_score"
      ],
      "execution_count": 13,
      "outputs": []
    },
    {
      "cell_type": "code",
      "metadata": {
        "id": "hp68eTZPB56l",
        "colab": {
          "base_uri": "https://localhost:8080/"
        },
        "outputId": "ea00bc07-2018-44aa-bd68-82447cdbc7c0"
      },
      "source": [
        "f1 = (f1_score(test_labels_list,results ))*100\n",
        "f1 = round(f1,2)\n",
        "print('f1 score is: ',f1)\n",
        "\n",
        "accuracy = (accuracy_score(test_labels_list,results ))*100\n",
        "accuracy = round(accuracy,2)\n",
        "print('accuracy score is: ',accuracy)\n",
        "\n",
        "precision = (precision_score(test_labels_list,results ))*100\n",
        "precision = round(precision,2)\n",
        "print('precision score is: ',precision)\n",
        "\n",
        "recall = (recall_score(test_labels_list,results ))*100\n",
        "recall = round(recall,2)\n",
        "print('recall score is: ',recall)\n"
      ],
      "execution_count": 14,
      "outputs": [
        {
          "output_type": "stream",
          "name": "stdout",
          "text": [
            "f1 score is:  77.37\n",
            "accuracy score is:  92.23\n",
            "precision score is:  79.1\n",
            "recall score is:  75.71\n"
          ]
        }
      ]
    }
  ]
}