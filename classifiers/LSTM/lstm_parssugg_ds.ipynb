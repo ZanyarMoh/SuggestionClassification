{
  "nbformat": 4,
  "nbformat_minor": 0,
  "metadata": {
    "colab": {
      "name": "lstm_parssugg_ds.ipynb",
      "provenance": []
    },
    "kernelspec": {
      "name": "python3",
      "display_name": "Python 3"
    },
    "language_info": {
      "name": "python"
    },
    "widgets": {
      "application/vnd.jupyter.widget-state+json": {
        "6764758e22f44fb48cfd681ad46199e1": {
          "model_module": "@jupyter-widgets/controls",
          "model_name": "HBoxModel",
          "model_module_version": "1.5.0",
          "state": {
            "_dom_classes": [],
            "_model_module": "@jupyter-widgets/controls",
            "_model_module_version": "1.5.0",
            "_model_name": "HBoxModel",
            "_view_count": null,
            "_view_module": "@jupyter-widgets/controls",
            "_view_module_version": "1.5.0",
            "_view_name": "HBoxView",
            "box_style": "",
            "children": [
              "IPY_MODEL_cab675008be64ab4835b034766d8e547",
              "IPY_MODEL_91ce32b0f39948e4a18dbde0d0f0aaed",
              "IPY_MODEL_9d77b36e1e1349499a7092b9e8e82ae7"
            ],
            "layout": "IPY_MODEL_69724b0bafc54a02a9f7d6325b03e177"
          }
        },
        "cab675008be64ab4835b034766d8e547": {
          "model_module": "@jupyter-widgets/controls",
          "model_name": "HTMLModel",
          "model_module_version": "1.5.0",
          "state": {
            "_dom_classes": [],
            "_model_module": "@jupyter-widgets/controls",
            "_model_module_version": "1.5.0",
            "_model_name": "HTMLModel",
            "_view_count": null,
            "_view_module": "@jupyter-widgets/controls",
            "_view_module_version": "1.5.0",
            "_view_name": "HTMLView",
            "description": "",
            "description_tooltip": null,
            "layout": "IPY_MODEL_c58b2652d66b45da810d4abb5aa4fe6a",
            "placeholder": "​",
            "style": "IPY_MODEL_972e02b072c045e695bdaa7b4e27205b",
            "value": "Downloading: 100%"
          }
        },
        "91ce32b0f39948e4a18dbde0d0f0aaed": {
          "model_module": "@jupyter-widgets/controls",
          "model_name": "FloatProgressModel",
          "model_module_version": "1.5.0",
          "state": {
            "_dom_classes": [],
            "_model_module": "@jupyter-widgets/controls",
            "_model_module_version": "1.5.0",
            "_model_name": "FloatProgressModel",
            "_view_count": null,
            "_view_module": "@jupyter-widgets/controls",
            "_view_module_version": "1.5.0",
            "_view_name": "ProgressView",
            "bar_style": "success",
            "description": "",
            "description_tooltip": null,
            "layout": "IPY_MODEL_e76455034fdf4f9db3bc9ebcfbebc859",
            "max": 434,
            "min": 0,
            "orientation": "horizontal",
            "style": "IPY_MODEL_b1784909e21a40d0ae9b1c3e3962a1b9",
            "value": 434
          }
        },
        "9d77b36e1e1349499a7092b9e8e82ae7": {
          "model_module": "@jupyter-widgets/controls",
          "model_name": "HTMLModel",
          "model_module_version": "1.5.0",
          "state": {
            "_dom_classes": [],
            "_model_module": "@jupyter-widgets/controls",
            "_model_module_version": "1.5.0",
            "_model_name": "HTMLModel",
            "_view_count": null,
            "_view_module": "@jupyter-widgets/controls",
            "_view_module_version": "1.5.0",
            "_view_name": "HTMLView",
            "description": "",
            "description_tooltip": null,
            "layout": "IPY_MODEL_d12b7c4eb7fc4e0ea9a80027b68b03d9",
            "placeholder": "​",
            "style": "IPY_MODEL_5a176730119c4eb1bb97333e48e12ebb",
            "value": " 434/434 [00:00&lt;00:00, 9.84kB/s]"
          }
        },
        "69724b0bafc54a02a9f7d6325b03e177": {
          "model_module": "@jupyter-widgets/base",
          "model_name": "LayoutModel",
          "model_module_version": "1.2.0",
          "state": {
            "_model_module": "@jupyter-widgets/base",
            "_model_module_version": "1.2.0",
            "_model_name": "LayoutModel",
            "_view_count": null,
            "_view_module": "@jupyter-widgets/base",
            "_view_module_version": "1.2.0",
            "_view_name": "LayoutView",
            "align_content": null,
            "align_items": null,
            "align_self": null,
            "border": null,
            "bottom": null,
            "display": null,
            "flex": null,
            "flex_flow": null,
            "grid_area": null,
            "grid_auto_columns": null,
            "grid_auto_flow": null,
            "grid_auto_rows": null,
            "grid_column": null,
            "grid_gap": null,
            "grid_row": null,
            "grid_template_areas": null,
            "grid_template_columns": null,
            "grid_template_rows": null,
            "height": null,
            "justify_content": null,
            "justify_items": null,
            "left": null,
            "margin": null,
            "max_height": null,
            "max_width": null,
            "min_height": null,
            "min_width": null,
            "object_fit": null,
            "object_position": null,
            "order": null,
            "overflow": null,
            "overflow_x": null,
            "overflow_y": null,
            "padding": null,
            "right": null,
            "top": null,
            "visibility": null,
            "width": null
          }
        },
        "c58b2652d66b45da810d4abb5aa4fe6a": {
          "model_module": "@jupyter-widgets/base",
          "model_name": "LayoutModel",
          "model_module_version": "1.2.0",
          "state": {
            "_model_module": "@jupyter-widgets/base",
            "_model_module_version": "1.2.0",
            "_model_name": "LayoutModel",
            "_view_count": null,
            "_view_module": "@jupyter-widgets/base",
            "_view_module_version": "1.2.0",
            "_view_name": "LayoutView",
            "align_content": null,
            "align_items": null,
            "align_self": null,
            "border": null,
            "bottom": null,
            "display": null,
            "flex": null,
            "flex_flow": null,
            "grid_area": null,
            "grid_auto_columns": null,
            "grid_auto_flow": null,
            "grid_auto_rows": null,
            "grid_column": null,
            "grid_gap": null,
            "grid_row": null,
            "grid_template_areas": null,
            "grid_template_columns": null,
            "grid_template_rows": null,
            "height": null,
            "justify_content": null,
            "justify_items": null,
            "left": null,
            "margin": null,
            "max_height": null,
            "max_width": null,
            "min_height": null,
            "min_width": null,
            "object_fit": null,
            "object_position": null,
            "order": null,
            "overflow": null,
            "overflow_x": null,
            "overflow_y": null,
            "padding": null,
            "right": null,
            "top": null,
            "visibility": null,
            "width": null
          }
        },
        "972e02b072c045e695bdaa7b4e27205b": {
          "model_module": "@jupyter-widgets/controls",
          "model_name": "DescriptionStyleModel",
          "model_module_version": "1.5.0",
          "state": {
            "_model_module": "@jupyter-widgets/controls",
            "_model_module_version": "1.5.0",
            "_model_name": "DescriptionStyleModel",
            "_view_count": null,
            "_view_module": "@jupyter-widgets/base",
            "_view_module_version": "1.2.0",
            "_view_name": "StyleView",
            "description_width": ""
          }
        },
        "e76455034fdf4f9db3bc9ebcfbebc859": {
          "model_module": "@jupyter-widgets/base",
          "model_name": "LayoutModel",
          "model_module_version": "1.2.0",
          "state": {
            "_model_module": "@jupyter-widgets/base",
            "_model_module_version": "1.2.0",
            "_model_name": "LayoutModel",
            "_view_count": null,
            "_view_module": "@jupyter-widgets/base",
            "_view_module_version": "1.2.0",
            "_view_name": "LayoutView",
            "align_content": null,
            "align_items": null,
            "align_self": null,
            "border": null,
            "bottom": null,
            "display": null,
            "flex": null,
            "flex_flow": null,
            "grid_area": null,
            "grid_auto_columns": null,
            "grid_auto_flow": null,
            "grid_auto_rows": null,
            "grid_column": null,
            "grid_gap": null,
            "grid_row": null,
            "grid_template_areas": null,
            "grid_template_columns": null,
            "grid_template_rows": null,
            "height": null,
            "justify_content": null,
            "justify_items": null,
            "left": null,
            "margin": null,
            "max_height": null,
            "max_width": null,
            "min_height": null,
            "min_width": null,
            "object_fit": null,
            "object_position": null,
            "order": null,
            "overflow": null,
            "overflow_x": null,
            "overflow_y": null,
            "padding": null,
            "right": null,
            "top": null,
            "visibility": null,
            "width": null
          }
        },
        "b1784909e21a40d0ae9b1c3e3962a1b9": {
          "model_module": "@jupyter-widgets/controls",
          "model_name": "ProgressStyleModel",
          "model_module_version": "1.5.0",
          "state": {
            "_model_module": "@jupyter-widgets/controls",
            "_model_module_version": "1.5.0",
            "_model_name": "ProgressStyleModel",
            "_view_count": null,
            "_view_module": "@jupyter-widgets/base",
            "_view_module_version": "1.2.0",
            "_view_name": "StyleView",
            "bar_color": null,
            "description_width": ""
          }
        },
        "d12b7c4eb7fc4e0ea9a80027b68b03d9": {
          "model_module": "@jupyter-widgets/base",
          "model_name": "LayoutModel",
          "model_module_version": "1.2.0",
          "state": {
            "_model_module": "@jupyter-widgets/base",
            "_model_module_version": "1.2.0",
            "_model_name": "LayoutModel",
            "_view_count": null,
            "_view_module": "@jupyter-widgets/base",
            "_view_module_version": "1.2.0",
            "_view_name": "LayoutView",
            "align_content": null,
            "align_items": null,
            "align_self": null,
            "border": null,
            "bottom": null,
            "display": null,
            "flex": null,
            "flex_flow": null,
            "grid_area": null,
            "grid_auto_columns": null,
            "grid_auto_flow": null,
            "grid_auto_rows": null,
            "grid_column": null,
            "grid_gap": null,
            "grid_row": null,
            "grid_template_areas": null,
            "grid_template_columns": null,
            "grid_template_rows": null,
            "height": null,
            "justify_content": null,
            "justify_items": null,
            "left": null,
            "margin": null,
            "max_height": null,
            "max_width": null,
            "min_height": null,
            "min_width": null,
            "object_fit": null,
            "object_position": null,
            "order": null,
            "overflow": null,
            "overflow_x": null,
            "overflow_y": null,
            "padding": null,
            "right": null,
            "top": null,
            "visibility": null,
            "width": null
          }
        },
        "5a176730119c4eb1bb97333e48e12ebb": {
          "model_module": "@jupyter-widgets/controls",
          "model_name": "DescriptionStyleModel",
          "model_module_version": "1.5.0",
          "state": {
            "_model_module": "@jupyter-widgets/controls",
            "_model_module_version": "1.5.0",
            "_model_name": "DescriptionStyleModel",
            "_view_count": null,
            "_view_module": "@jupyter-widgets/base",
            "_view_module_version": "1.2.0",
            "_view_name": "StyleView",
            "description_width": ""
          }
        },
        "0e5171039ceb4f6db606f33ae75b46e2": {
          "model_module": "@jupyter-widgets/controls",
          "model_name": "HBoxModel",
          "model_module_version": "1.5.0",
          "state": {
            "_dom_classes": [],
            "_model_module": "@jupyter-widgets/controls",
            "_model_module_version": "1.5.0",
            "_model_name": "HBoxModel",
            "_view_count": null,
            "_view_module": "@jupyter-widgets/controls",
            "_view_module_version": "1.5.0",
            "_view_name": "HBoxView",
            "box_style": "",
            "children": [
              "IPY_MODEL_2747e742a72c4b60b227f2f0a8d124ce",
              "IPY_MODEL_3921122b141b4af28420ab18a97e9c41",
              "IPY_MODEL_92294c31e830472a9443d93b2492ec74"
            ],
            "layout": "IPY_MODEL_119a9cdca5774fe19cbcfab0543c4475"
          }
        },
        "2747e742a72c4b60b227f2f0a8d124ce": {
          "model_module": "@jupyter-widgets/controls",
          "model_name": "HTMLModel",
          "model_module_version": "1.5.0",
          "state": {
            "_dom_classes": [],
            "_model_module": "@jupyter-widgets/controls",
            "_model_module_version": "1.5.0",
            "_model_name": "HTMLModel",
            "_view_count": null,
            "_view_module": "@jupyter-widgets/controls",
            "_view_module_version": "1.5.0",
            "_view_name": "HTMLView",
            "description": "",
            "description_tooltip": null,
            "layout": "IPY_MODEL_e79b953bb9f6480f8106e85a1b4c26a3",
            "placeholder": "​",
            "style": "IPY_MODEL_90a122ec954d43538e4b477440449889",
            "value": "Downloading: 100%"
          }
        },
        "3921122b141b4af28420ab18a97e9c41": {
          "model_module": "@jupyter-widgets/controls",
          "model_name": "FloatProgressModel",
          "model_module_version": "1.5.0",
          "state": {
            "_dom_classes": [],
            "_model_module": "@jupyter-widgets/controls",
            "_model_module_version": "1.5.0",
            "_model_name": "FloatProgressModel",
            "_view_count": null,
            "_view_module": "@jupyter-widgets/controls",
            "_view_module_version": "1.5.0",
            "_view_name": "ProgressView",
            "bar_style": "success",
            "description": "",
            "description_tooltip": null,
            "layout": "IPY_MODEL_cdc94da4f56b4d7bae82c9e076851f1b",
            "max": 1215509,
            "min": 0,
            "orientation": "horizontal",
            "style": "IPY_MODEL_d863558ca00f4a619dddcecf4dd14a7f",
            "value": 1215509
          }
        },
        "92294c31e830472a9443d93b2492ec74": {
          "model_module": "@jupyter-widgets/controls",
          "model_name": "HTMLModel",
          "model_module_version": "1.5.0",
          "state": {
            "_dom_classes": [],
            "_model_module": "@jupyter-widgets/controls",
            "_model_module_version": "1.5.0",
            "_model_name": "HTMLModel",
            "_view_count": null,
            "_view_module": "@jupyter-widgets/controls",
            "_view_module_version": "1.5.0",
            "_view_name": "HTMLView",
            "description": "",
            "description_tooltip": null,
            "layout": "IPY_MODEL_a6e810a1e35f422d80655e1000e010bb",
            "placeholder": "​",
            "style": "IPY_MODEL_73461e59392d488ca04d8941a2ad6623",
            "value": " 1.16M/1.16M [00:00&lt;00:00, 3.02MB/s]"
          }
        },
        "119a9cdca5774fe19cbcfab0543c4475": {
          "model_module": "@jupyter-widgets/base",
          "model_name": "LayoutModel",
          "model_module_version": "1.2.0",
          "state": {
            "_model_module": "@jupyter-widgets/base",
            "_model_module_version": "1.2.0",
            "_model_name": "LayoutModel",
            "_view_count": null,
            "_view_module": "@jupyter-widgets/base",
            "_view_module_version": "1.2.0",
            "_view_name": "LayoutView",
            "align_content": null,
            "align_items": null,
            "align_self": null,
            "border": null,
            "bottom": null,
            "display": null,
            "flex": null,
            "flex_flow": null,
            "grid_area": null,
            "grid_auto_columns": null,
            "grid_auto_flow": null,
            "grid_auto_rows": null,
            "grid_column": null,
            "grid_gap": null,
            "grid_row": null,
            "grid_template_areas": null,
            "grid_template_columns": null,
            "grid_template_rows": null,
            "height": null,
            "justify_content": null,
            "justify_items": null,
            "left": null,
            "margin": null,
            "max_height": null,
            "max_width": null,
            "min_height": null,
            "min_width": null,
            "object_fit": null,
            "object_position": null,
            "order": null,
            "overflow": null,
            "overflow_x": null,
            "overflow_y": null,
            "padding": null,
            "right": null,
            "top": null,
            "visibility": null,
            "width": null
          }
        },
        "e79b953bb9f6480f8106e85a1b4c26a3": {
          "model_module": "@jupyter-widgets/base",
          "model_name": "LayoutModel",
          "model_module_version": "1.2.0",
          "state": {
            "_model_module": "@jupyter-widgets/base",
            "_model_module_version": "1.2.0",
            "_model_name": "LayoutModel",
            "_view_count": null,
            "_view_module": "@jupyter-widgets/base",
            "_view_module_version": "1.2.0",
            "_view_name": "LayoutView",
            "align_content": null,
            "align_items": null,
            "align_self": null,
            "border": null,
            "bottom": null,
            "display": null,
            "flex": null,
            "flex_flow": null,
            "grid_area": null,
            "grid_auto_columns": null,
            "grid_auto_flow": null,
            "grid_auto_rows": null,
            "grid_column": null,
            "grid_gap": null,
            "grid_row": null,
            "grid_template_areas": null,
            "grid_template_columns": null,
            "grid_template_rows": null,
            "height": null,
            "justify_content": null,
            "justify_items": null,
            "left": null,
            "margin": null,
            "max_height": null,
            "max_width": null,
            "min_height": null,
            "min_width": null,
            "object_fit": null,
            "object_position": null,
            "order": null,
            "overflow": null,
            "overflow_x": null,
            "overflow_y": null,
            "padding": null,
            "right": null,
            "top": null,
            "visibility": null,
            "width": null
          }
        },
        "90a122ec954d43538e4b477440449889": {
          "model_module": "@jupyter-widgets/controls",
          "model_name": "DescriptionStyleModel",
          "model_module_version": "1.5.0",
          "state": {
            "_model_module": "@jupyter-widgets/controls",
            "_model_module_version": "1.5.0",
            "_model_name": "DescriptionStyleModel",
            "_view_count": null,
            "_view_module": "@jupyter-widgets/base",
            "_view_module_version": "1.2.0",
            "_view_name": "StyleView",
            "description_width": ""
          }
        },
        "cdc94da4f56b4d7bae82c9e076851f1b": {
          "model_module": "@jupyter-widgets/base",
          "model_name": "LayoutModel",
          "model_module_version": "1.2.0",
          "state": {
            "_model_module": "@jupyter-widgets/base",
            "_model_module_version": "1.2.0",
            "_model_name": "LayoutModel",
            "_view_count": null,
            "_view_module": "@jupyter-widgets/base",
            "_view_module_version": "1.2.0",
            "_view_name": "LayoutView",
            "align_content": null,
            "align_items": null,
            "align_self": null,
            "border": null,
            "bottom": null,
            "display": null,
            "flex": null,
            "flex_flow": null,
            "grid_area": null,
            "grid_auto_columns": null,
            "grid_auto_flow": null,
            "grid_auto_rows": null,
            "grid_column": null,
            "grid_gap": null,
            "grid_row": null,
            "grid_template_areas": null,
            "grid_template_columns": null,
            "grid_template_rows": null,
            "height": null,
            "justify_content": null,
            "justify_items": null,
            "left": null,
            "margin": null,
            "max_height": null,
            "max_width": null,
            "min_height": null,
            "min_width": null,
            "object_fit": null,
            "object_position": null,
            "order": null,
            "overflow": null,
            "overflow_x": null,
            "overflow_y": null,
            "padding": null,
            "right": null,
            "top": null,
            "visibility": null,
            "width": null
          }
        },
        "d863558ca00f4a619dddcecf4dd14a7f": {
          "model_module": "@jupyter-widgets/controls",
          "model_name": "ProgressStyleModel",
          "model_module_version": "1.5.0",
          "state": {
            "_model_module": "@jupyter-widgets/controls",
            "_model_module_version": "1.5.0",
            "_model_name": "ProgressStyleModel",
            "_view_count": null,
            "_view_module": "@jupyter-widgets/base",
            "_view_module_version": "1.2.0",
            "_view_name": "StyleView",
            "bar_color": null,
            "description_width": ""
          }
        },
        "a6e810a1e35f422d80655e1000e010bb": {
          "model_module": "@jupyter-widgets/base",
          "model_name": "LayoutModel",
          "model_module_version": "1.2.0",
          "state": {
            "_model_module": "@jupyter-widgets/base",
            "_model_module_version": "1.2.0",
            "_model_name": "LayoutModel",
            "_view_count": null,
            "_view_module": "@jupyter-widgets/base",
            "_view_module_version": "1.2.0",
            "_view_name": "LayoutView",
            "align_content": null,
            "align_items": null,
            "align_self": null,
            "border": null,
            "bottom": null,
            "display": null,
            "flex": null,
            "flex_flow": null,
            "grid_area": null,
            "grid_auto_columns": null,
            "grid_auto_flow": null,
            "grid_auto_rows": null,
            "grid_column": null,
            "grid_gap": null,
            "grid_row": null,
            "grid_template_areas": null,
            "grid_template_columns": null,
            "grid_template_rows": null,
            "height": null,
            "justify_content": null,
            "justify_items": null,
            "left": null,
            "margin": null,
            "max_height": null,
            "max_width": null,
            "min_height": null,
            "min_width": null,
            "object_fit": null,
            "object_position": null,
            "order": null,
            "overflow": null,
            "overflow_x": null,
            "overflow_y": null,
            "padding": null,
            "right": null,
            "top": null,
            "visibility": null,
            "width": null
          }
        },
        "73461e59392d488ca04d8941a2ad6623": {
          "model_module": "@jupyter-widgets/controls",
          "model_name": "DescriptionStyleModel",
          "model_module_version": "1.5.0",
          "state": {
            "_model_module": "@jupyter-widgets/controls",
            "_model_module_version": "1.5.0",
            "_model_name": "DescriptionStyleModel",
            "_view_count": null,
            "_view_module": "@jupyter-widgets/base",
            "_view_module_version": "1.2.0",
            "_view_name": "StyleView",
            "description_width": ""
          }
        }
      }
    }
  },
  "cells": [
    {
      "cell_type": "code",
      "execution_count": 1,
      "metadata": {
        "colab": {
          "base_uri": "https://localhost:8080/"
        },
        "id": "qlFrhebvcaDz",
        "outputId": "580d5ccd-f0ec-4e8a-9f3f-277465fffc34"
      },
      "outputs": [
        {
          "output_type": "stream",
          "name": "stdout",
          "text": [
            "Collecting PersianStemmer\n",
            "  Downloading persianstemmer-1.0.0.tar.gz (810 kB)\n",
            "\u001b[?25l\r\u001b[K     |▍                               | 10 kB 11.3 MB/s eta 0:00:01\r\u001b[K     |▉                               | 20 kB 10.9 MB/s eta 0:00:01\r\u001b[K     |█▏                              | 30 kB 7.9 MB/s eta 0:00:01\r\u001b[K     |█▋                              | 40 kB 9.0 MB/s eta 0:00:01\r\u001b[K     |██                              | 51 kB 6.8 MB/s eta 0:00:01\r\u001b[K     |██▍                             | 61 kB 8.0 MB/s eta 0:00:01\r\u001b[K     |██▉                             | 71 kB 8.1 MB/s eta 0:00:01\r\u001b[K     |███▎                            | 81 kB 9.0 MB/s eta 0:00:01\r\u001b[K     |███▋                            | 92 kB 8.0 MB/s eta 0:00:01\r\u001b[K     |████                            | 102 kB 7.8 MB/s eta 0:00:01\r\u001b[K     |████▌                           | 112 kB 7.8 MB/s eta 0:00:01\r\u001b[K     |████▉                           | 122 kB 7.8 MB/s eta 0:00:01\r\u001b[K     |█████▎                          | 133 kB 7.8 MB/s eta 0:00:01\r\u001b[K     |█████▋                          | 143 kB 7.8 MB/s eta 0:00:01\r\u001b[K     |██████                          | 153 kB 7.8 MB/s eta 0:00:01\r\u001b[K     |██████▌                         | 163 kB 7.8 MB/s eta 0:00:01\r\u001b[K     |██████▉                         | 174 kB 7.8 MB/s eta 0:00:01\r\u001b[K     |███████▎                        | 184 kB 7.8 MB/s eta 0:00:01\r\u001b[K     |███████▊                        | 194 kB 7.8 MB/s eta 0:00:01\r\u001b[K     |████████                        | 204 kB 7.8 MB/s eta 0:00:01\r\u001b[K     |████████▌                       | 215 kB 7.8 MB/s eta 0:00:01\r\u001b[K     |█████████                       | 225 kB 7.8 MB/s eta 0:00:01\r\u001b[K     |█████████▎                      | 235 kB 7.8 MB/s eta 0:00:01\r\u001b[K     |█████████▊                      | 245 kB 7.8 MB/s eta 0:00:01\r\u001b[K     |██████████▏                     | 256 kB 7.8 MB/s eta 0:00:01\r\u001b[K     |██████████▌                     | 266 kB 7.8 MB/s eta 0:00:01\r\u001b[K     |███████████                     | 276 kB 7.8 MB/s eta 0:00:01\r\u001b[K     |███████████▎                    | 286 kB 7.8 MB/s eta 0:00:01\r\u001b[K     |███████████▊                    | 296 kB 7.8 MB/s eta 0:00:01\r\u001b[K     |████████████▏                   | 307 kB 7.8 MB/s eta 0:00:01\r\u001b[K     |████████████▌                   | 317 kB 7.8 MB/s eta 0:00:01\r\u001b[K     |█████████████                   | 327 kB 7.8 MB/s eta 0:00:01\r\u001b[K     |█████████████▍                  | 337 kB 7.8 MB/s eta 0:00:01\r\u001b[K     |█████████████▊                  | 348 kB 7.8 MB/s eta 0:00:01\r\u001b[K     |██████████████▏                 | 358 kB 7.8 MB/s eta 0:00:01\r\u001b[K     |██████████████▋                 | 368 kB 7.8 MB/s eta 0:00:01\r\u001b[K     |███████████████                 | 378 kB 7.8 MB/s eta 0:00:01\r\u001b[K     |███████████████▍                | 389 kB 7.8 MB/s eta 0:00:01\r\u001b[K     |███████████████▊                | 399 kB 7.8 MB/s eta 0:00:01\r\u001b[K     |████████████████▏               | 409 kB 7.8 MB/s eta 0:00:01\r\u001b[K     |████████████████▋               | 419 kB 7.8 MB/s eta 0:00:01\r\u001b[K     |█████████████████               | 430 kB 7.8 MB/s eta 0:00:01\r\u001b[K     |█████████████████▍              | 440 kB 7.8 MB/s eta 0:00:01\r\u001b[K     |█████████████████▉              | 450 kB 7.8 MB/s eta 0:00:01\r\u001b[K     |██████████████████▏             | 460 kB 7.8 MB/s eta 0:00:01\r\u001b[K     |██████████████████▋             | 471 kB 7.8 MB/s eta 0:00:01\r\u001b[K     |███████████████████             | 481 kB 7.8 MB/s eta 0:00:01\r\u001b[K     |███████████████████▍            | 491 kB 7.8 MB/s eta 0:00:01\r\u001b[K     |███████████████████▉            | 501 kB 7.8 MB/s eta 0:00:01\r\u001b[K     |████████████████████▎           | 512 kB 7.8 MB/s eta 0:00:01\r\u001b[K     |████████████████████▋           | 522 kB 7.8 MB/s eta 0:00:01\r\u001b[K     |█████████████████████           | 532 kB 7.8 MB/s eta 0:00:01\r\u001b[K     |█████████████████████▍          | 542 kB 7.8 MB/s eta 0:00:01\r\u001b[K     |█████████████████████▉          | 552 kB 7.8 MB/s eta 0:00:01\r\u001b[K     |██████████████████████▎         | 563 kB 7.8 MB/s eta 0:00:01\r\u001b[K     |██████████████████████▋         | 573 kB 7.8 MB/s eta 0:00:01\r\u001b[K     |███████████████████████         | 583 kB 7.8 MB/s eta 0:00:01\r\u001b[K     |███████████████████████▌        | 593 kB 7.8 MB/s eta 0:00:01\r\u001b[K     |███████████████████████▉        | 604 kB 7.8 MB/s eta 0:00:01\r\u001b[K     |████████████████████████▎       | 614 kB 7.8 MB/s eta 0:00:01\r\u001b[K     |████████████████████████▊       | 624 kB 7.8 MB/s eta 0:00:01\r\u001b[K     |█████████████████████████       | 634 kB 7.8 MB/s eta 0:00:01\r\u001b[K     |█████████████████████████▌      | 645 kB 7.8 MB/s eta 0:00:01\r\u001b[K     |█████████████████████████▉      | 655 kB 7.8 MB/s eta 0:00:01\r\u001b[K     |██████████████████████████▎     | 665 kB 7.8 MB/s eta 0:00:01\r\u001b[K     |██████████████████████████▊     | 675 kB 7.8 MB/s eta 0:00:01\r\u001b[K     |███████████████████████████     | 686 kB 7.8 MB/s eta 0:00:01\r\u001b[K     |███████████████████████████▌    | 696 kB 7.8 MB/s eta 0:00:01\r\u001b[K     |████████████████████████████    | 706 kB 7.8 MB/s eta 0:00:01\r\u001b[K     |████████████████████████████▎   | 716 kB 7.8 MB/s eta 0:00:01\r\u001b[K     |████████████████████████████▊   | 727 kB 7.8 MB/s eta 0:00:01\r\u001b[K     |█████████████████████████████▏  | 737 kB 7.8 MB/s eta 0:00:01\r\u001b[K     |█████████████████████████████▌  | 747 kB 7.8 MB/s eta 0:00:01\r\u001b[K     |██████████████████████████████  | 757 kB 7.8 MB/s eta 0:00:01\r\u001b[K     |██████████████████████████████▍ | 768 kB 7.8 MB/s eta 0:00:01\r\u001b[K     |██████████████████████████████▊ | 778 kB 7.8 MB/s eta 0:00:01\r\u001b[K     |███████████████████████████████▏| 788 kB 7.8 MB/s eta 0:00:01\r\u001b[K     |███████████████████████████████▌| 798 kB 7.8 MB/s eta 0:00:01\r\u001b[K     |████████████████████████████████| 808 kB 7.8 MB/s eta 0:00:01\r\u001b[K     |████████████████████████████████| 810 kB 7.8 MB/s \n",
            "\u001b[?25hCollecting patricia-trie\n",
            "  Downloading patricia-trie-10.tar.gz (6.7 kB)\n",
            "Building wheels for collected packages: PersianStemmer, patricia-trie\n",
            "  Building wheel for PersianStemmer (setup.py) ... \u001b[?25l\u001b[?25hdone\n",
            "  Created wheel for PersianStemmer: filename=PersianStemmer-1.0.0-py3-none-any.whl size=810281 sha256=818bbfb0ec5e29f22d5c1dff3a07519ef66d3886dd6606c206c17f474d20e55d\n",
            "  Stored in directory: /root/.cache/pip/wheels/d2/f7/96/55f0070725e6ce1191aa9a931e962fc0f551b68ed919fb7f8e\n",
            "  Building wheel for patricia-trie (setup.py) ... \u001b[?25l\u001b[?25hdone\n",
            "  Created wheel for patricia-trie: filename=patricia_trie-10-py3-none-any.whl size=7768 sha256=5d507031b87cd94dd712ab1ead98a06289fa2840cb2870315938ddc3cbce7524\n",
            "  Stored in directory: /root/.cache/pip/wheels/32/89/b4/46456cda461ffee3f6ef09a68bccb5d175b65ff2b922b5b5b8\n",
            "Successfully built PersianStemmer patricia-trie\n",
            "Installing collected packages: patricia-trie, PersianStemmer\n",
            "Successfully installed PersianStemmer-1.0.0 patricia-trie-10\n",
            "Collecting transformers\n",
            "  Downloading transformers-4.18.0-py3-none-any.whl (4.0 MB)\n",
            "\u001b[K     |████████████████████████████████| 4.0 MB 5.7 MB/s \n",
            "\u001b[?25hCollecting sacremoses\n",
            "  Downloading sacremoses-0.0.49-py3-none-any.whl (895 kB)\n",
            "\u001b[K     |████████████████████████████████| 895 kB 42.1 MB/s \n",
            "\u001b[?25hRequirement already satisfied: filelock in /usr/local/lib/python3.7/dist-packages (from transformers) (3.6.0)\n",
            "Collecting huggingface-hub<1.0,>=0.1.0\n",
            "  Downloading huggingface_hub-0.5.1-py3-none-any.whl (77 kB)\n",
            "\u001b[K     |████████████████████████████████| 77 kB 3.0 MB/s \n",
            "\u001b[?25hCollecting tokenizers!=0.11.3,<0.13,>=0.11.1\n",
            "  Downloading tokenizers-0.12.1-cp37-cp37m-manylinux_2_12_x86_64.manylinux2010_x86_64.whl (6.6 MB)\n",
            "\u001b[K     |████████████████████████████████| 6.6 MB 42.2 MB/s \n",
            "\u001b[?25hRequirement already satisfied: requests in /usr/local/lib/python3.7/dist-packages (from transformers) (2.23.0)\n",
            "Collecting pyyaml>=5.1\n",
            "  Downloading PyYAML-6.0-cp37-cp37m-manylinux_2_5_x86_64.manylinux1_x86_64.manylinux_2_12_x86_64.manylinux2010_x86_64.whl (596 kB)\n",
            "\u001b[K     |████████████████████████████████| 596 kB 38.1 MB/s \n",
            "\u001b[?25hRequirement already satisfied: packaging>=20.0 in /usr/local/lib/python3.7/dist-packages (from transformers) (21.3)\n",
            "Requirement already satisfied: numpy>=1.17 in /usr/local/lib/python3.7/dist-packages (from transformers) (1.21.6)\n",
            "Requirement already satisfied: tqdm>=4.27 in /usr/local/lib/python3.7/dist-packages (from transformers) (4.64.0)\n",
            "Requirement already satisfied: importlib-metadata in /usr/local/lib/python3.7/dist-packages (from transformers) (4.11.3)\n",
            "Requirement already satisfied: regex!=2019.12.17 in /usr/local/lib/python3.7/dist-packages (from transformers) (2019.12.20)\n",
            "Requirement already satisfied: typing-extensions>=3.7.4.3 in /usr/local/lib/python3.7/dist-packages (from huggingface-hub<1.0,>=0.1.0->transformers) (4.1.1)\n",
            "Requirement already satisfied: pyparsing!=3.0.5,>=2.0.2 in /usr/local/lib/python3.7/dist-packages (from packaging>=20.0->transformers) (3.0.8)\n",
            "Requirement already satisfied: zipp>=0.5 in /usr/local/lib/python3.7/dist-packages (from importlib-metadata->transformers) (3.8.0)\n",
            "Requirement already satisfied: idna<3,>=2.5 in /usr/local/lib/python3.7/dist-packages (from requests->transformers) (2.10)\n",
            "Requirement already satisfied: chardet<4,>=3.0.2 in /usr/local/lib/python3.7/dist-packages (from requests->transformers) (3.0.4)\n",
            "Requirement already satisfied: urllib3!=1.25.0,!=1.25.1,<1.26,>=1.21.1 in /usr/local/lib/python3.7/dist-packages (from requests->transformers) (1.24.3)\n",
            "Requirement already satisfied: certifi>=2017.4.17 in /usr/local/lib/python3.7/dist-packages (from requests->transformers) (2021.10.8)\n",
            "Requirement already satisfied: joblib in /usr/local/lib/python3.7/dist-packages (from sacremoses->transformers) (1.1.0)\n",
            "Requirement already satisfied: click in /usr/local/lib/python3.7/dist-packages (from sacremoses->transformers) (7.1.2)\n",
            "Requirement already satisfied: six in /usr/local/lib/python3.7/dist-packages (from sacremoses->transformers) (1.15.0)\n",
            "Installing collected packages: pyyaml, tokenizers, sacremoses, huggingface-hub, transformers\n",
            "  Attempting uninstall: pyyaml\n",
            "    Found existing installation: PyYAML 3.13\n",
            "    Uninstalling PyYAML-3.13:\n",
            "      Successfully uninstalled PyYAML-3.13\n",
            "Successfully installed huggingface-hub-0.5.1 pyyaml-6.0 sacremoses-0.0.49 tokenizers-0.12.1 transformers-4.18.0\n",
            "Collecting https://github.com/htaghizadeh/PersianStemmer-Python/archive/master.zip\n",
            "  Downloading https://github.com/htaghizadeh/PersianStemmer-Python/archive/master.zip\n",
            "\u001b[K     | 811 kB 1.3 MB/s\n",
            "\u001b[?25hRequirement already satisfied: patricia-trie in /usr/local/lib/python3.7/dist-packages (from PersianStemmer==1.0.1) (10)\n",
            "Building wheels for collected packages: PersianStemmer\n",
            "  Building wheel for PersianStemmer (setup.py) ... \u001b[?25l\u001b[?25hdone\n",
            "  Created wheel for PersianStemmer: filename=PersianStemmer-1.0.1-py3-none-any.whl size=809904 sha256=c12e8f2d5730fff363e3a0ac63cc095b0cca2cce91fa2b83094e040a31b7caf3\n",
            "  Stored in directory: /tmp/pip-ephem-wheel-cache-w32fl7jz/wheels/7c/4f/ee/84dac1abee1c37b411c746dff1a9cdccf9d8cf9c8f5e15f734\n",
            "Successfully built PersianStemmer\n",
            "Installing collected packages: PersianStemmer\n",
            "  Attempting uninstall: PersianStemmer\n",
            "    Found existing installation: PersianStemmer 1.0.0\n",
            "    Uninstalling PersianStemmer-1.0.0:\n",
            "      Successfully uninstalled PersianStemmer-1.0.0\n",
            "Successfully installed PersianStemmer-1.0.1\n",
            "Collecting hazm\n",
            "  Downloading hazm-0.7.0-py3-none-any.whl (316 kB)\n",
            "\u001b[K     |████████████████████████████████| 316 kB 6.4 MB/s \n",
            "\u001b[?25hCollecting libwapiti>=0.2.1\n",
            "  Downloading libwapiti-0.2.1.tar.gz (233 kB)\n",
            "\u001b[K     |████████████████████████████████| 233 kB 13.3 MB/s \n",
            "\u001b[?25hCollecting nltk==3.3\n",
            "  Downloading nltk-3.3.0.zip (1.4 MB)\n",
            "\u001b[K     |████████████████████████████████| 1.4 MB 21.0 MB/s \n",
            "\u001b[?25hRequirement already satisfied: six in /usr/local/lib/python3.7/dist-packages (from nltk==3.3->hazm) (1.15.0)\n",
            "Building wheels for collected packages: nltk, libwapiti\n",
            "  Building wheel for nltk (setup.py) ... \u001b[?25l\u001b[?25hdone\n",
            "  Created wheel for nltk: filename=nltk-3.3-py3-none-any.whl size=1394490 sha256=4b7dc984723be47b38cfb8a8e5b870f2de4bd8b66d2d3d1bc8015c4d5063f06c\n",
            "  Stored in directory: /root/.cache/pip/wheels/9b/fd/0c/d92302c876e5de87ebd7fc0979d82edb93e2d8d768bf71fac4\n",
            "  Building wheel for libwapiti (setup.py) ... \u001b[?25l\u001b[?25hdone\n",
            "  Created wheel for libwapiti: filename=libwapiti-0.2.1-cp37-cp37m-linux_x86_64.whl size=155159 sha256=b0123d7c4d8edf66227e61c331ddcb4bf53cab237d6bc0ac33127a46bb13c18d\n",
            "  Stored in directory: /root/.cache/pip/wheels/ab/b2/5b/0fe4b8f5c0e65341e8ea7bb3f4a6ebabfe8b1ac31322392dbf\n",
            "Successfully built nltk libwapiti\n",
            "Installing collected packages: nltk, libwapiti, hazm\n",
            "  Attempting uninstall: nltk\n",
            "    Found existing installation: nltk 3.2.5\n",
            "    Uninstalling nltk-3.2.5:\n",
            "      Successfully uninstalled nltk-3.2.5\n",
            "Successfully installed hazm-0.7.0 libwapiti-0.2.1 nltk-3.3\n",
            "Collecting demoji\n",
            "  Downloading demoji-1.1.0-py3-none-any.whl (42 kB)\n",
            "\u001b[K     |████████████████████████████████| 42 kB 633 kB/s \n",
            "\u001b[?25hInstalling collected packages: demoji\n",
            "Successfully installed demoji-1.1.0\n"
          ]
        }
      ],
      "source": [
        "!pip install PersianStemmer\n",
        "!pip install transformers\n",
        "!pip install https://github.com/htaghizadeh/PersianStemmer-Python/archive/master.zip --upgrade\n",
        "!pip install hazm\n",
        "!pip install demoji"
      ]
    },
    {
      "cell_type": "code",
      "source": [
        "from google.colab import drive\n",
        "import sys\n",
        "drive.mount('/content/drive')\n",
        "sys.path.insert(0, '/content/drive/My Drive/modules') #Adds preprocessing module to current session."
      ],
      "metadata": {
        "colab": {
          "base_uri": "https://localhost:8080/"
        },
        "id": "fX77dOU1ckc-",
        "outputId": "9722266a-492f-48bc-8046-fa06d3f801b6"
      },
      "execution_count": 2,
      "outputs": [
        {
          "output_type": "stream",
          "name": "stdout",
          "text": [
            "Mounted at /content/drive\n"
          ]
        }
      ]
    },
    {
      "cell_type": "code",
      "source": [
        "import pandas as pd\n",
        "import preprocess\n",
        "import numpy as np\n",
        "import tensorflow as tf\n",
        "import demoji\n",
        "from tensorflow.keras.preprocessing.text import Tokenizer\n",
        "from tensorflow.keras.preprocessing.sequence import pad_sequences\n",
        "from sklearn.model_selection import train_test_split\n",
        "from tensorflow import keras\n",
        "from keras.models import Sequential\n",
        "from keras.layers import Embedding\n",
        "from keras.layers import Dropout\n",
        "from keras.layers import LSTM\n",
        "from keras.layers import Dense\n",
        "import matplotlib.pyplot as plt\n",
        "np.random.seed(42)\n",
        "tf.random.set_seed(42)\n",
        "demoji.download_codes()"
      ],
      "metadata": {
        "colab": {
          "base_uri": "https://localhost:8080/"
        },
        "id": "pTQDBOWQcnST",
        "outputId": "7cb0603d-09b9-4b73-fd4d-5581b3837b8f"
      },
      "execution_count": 3,
      "outputs": [
        {
          "output_type": "stream",
          "name": "stderr",
          "text": [
            "/usr/local/lib/python3.7/dist-packages/ipykernel_launcher.py:18: FutureWarning: The demoji.download_codes attribute is deprecated and will be removed from demoji in a future version. It is an unused attribute as emoji codes are now distributed directly with the demoji package.\n"
          ]
        }
      ]
    },
    {
      "cell_type": "code",
      "source": [
        "def create_vector_from_data(train_data_df, test_data_df):\n",
        "    train_sentence_list = [row.sentence for index, row in train_data_df.iterrows()]\n",
        "    train_labels_list = [row.label for index, row in train_data_df.iterrows()]\n",
        "    tokenizer = Tokenizer(oov_token='<UNK>')\n",
        "    tokenizer.fit_on_texts(train_sentence_list)\n",
        "    train_sequences = tokenizer.texts_to_sequences(train_sentence_list)\n",
        "    maxlen = max([len(x) for x in train_sequences])\n",
        "    train_padded = pad_sequences(train_sequences, padding='post', truncating='post', maxlen=maxlen)\n",
        "\n",
        "    test_sentence_list = [row.sentence for index, row in test_data_df.iterrows()]\n",
        "    test_labels_list = [row.label for index, row in test_data_df.iterrows()]\n",
        "    test_sequences = tokenizer.texts_to_sequences(test_sentence_list)\n",
        "    test_padded = pad_sequences(test_sequences, padding='post', truncating='post', maxlen=maxlen)\n",
        "    return train_padded, train_labels_list, test_padded, test_labels_list, len(tokenizer.word_index)+1, maxlen"
      ],
      "metadata": {
        "id": "tlPYfxJtcslB"
      },
      "execution_count": 4,
      "outputs": []
    },
    {
      "cell_type": "code",
      "source": [
        "def plot_history(history):\n",
        "    acc = history.history['accuracy']\n",
        "    val_acc = history.history['val_accuracy']\n",
        "    loss = history.history['loss']\n",
        "    val_loss = history.history['val_loss']\n",
        "    x = range(1, len(acc) + 1)\n",
        "    plt.figure(figsize=(12, 5))\n",
        "    plt.subplot(1, 2, 1)\n",
        "    plt.plot(x, acc, 'b', label='Training acc')\n",
        "    plt.plot(x, val_acc, 'r', label='Validation acc')\n",
        "    plt.title('Training and validation accuracy')\n",
        "    plt.legend()\n",
        "    plt.subplot(1, 2, 2)\n",
        "    plt.plot(x, loss, 'b', label='Training loss')\n",
        "    plt.plot(x, val_loss, 'r', label='Validation loss')\n",
        "    plt.title('Training and validation loss')\n",
        "    plt.legend()"
      ],
      "metadata": {
        "id": "TswkAtWNcvz2"
      },
      "execution_count": 5,
      "outputs": []
    },
    {
      "cell_type": "code",
      "source": [
        "train_ds = pd.read_csv('/content/drive/MyDrive/data/silver_dataset.csv')\n",
        "train_ds = preprocess.auto_preprocess(dataframe=train_ds, stop_words_type='custom', stemming=True)\n",
        "    \n",
        "test_ds = pd.read_csv('/content/drive/MyDrive/data/gold_dataset.csv')\n",
        "test_ds = preprocess.auto_preprocess(dataframe=test_ds, stop_words_type='custom', stemming=True)\n",
        "\n",
        "train_vectors, train_labels_list, test_vectors, test_labels_list, vocab_size, maxlen = create_vector_from_data(train_data_df=train_ds, test_data_df=test_ds)"
      ],
      "metadata": {
        "colab": {
          "base_uri": "https://localhost:8080/",
          "height": 254,
          "referenced_widgets": [
            "6764758e22f44fb48cfd681ad46199e1",
            "cab675008be64ab4835b034766d8e547",
            "91ce32b0f39948e4a18dbde0d0f0aaed",
            "9d77b36e1e1349499a7092b9e8e82ae7",
            "69724b0bafc54a02a9f7d6325b03e177",
            "c58b2652d66b45da810d4abb5aa4fe6a",
            "972e02b072c045e695bdaa7b4e27205b",
            "e76455034fdf4f9db3bc9ebcfbebc859",
            "b1784909e21a40d0ae9b1c3e3962a1b9",
            "d12b7c4eb7fc4e0ea9a80027b68b03d9",
            "5a176730119c4eb1bb97333e48e12ebb",
            "0e5171039ceb4f6db606f33ae75b46e2",
            "2747e742a72c4b60b227f2f0a8d124ce",
            "3921122b141b4af28420ab18a97e9c41",
            "92294c31e830472a9443d93b2492ec74",
            "119a9cdca5774fe19cbcfab0543c4475",
            "e79b953bb9f6480f8106e85a1b4c26a3",
            "90a122ec954d43538e4b477440449889",
            "cdc94da4f56b4d7bae82c9e076851f1b",
            "d863558ca00f4a619dddcecf4dd14a7f",
            "a6e810a1e35f422d80655e1000e010bb",
            "73461e59392d488ca04d8941a2ad6623"
          ]
        },
        "id": "SFyXQEVKcyjb",
        "outputId": "9c4e7f57-7bd6-474e-f2bc-ec85ddc1f493"
      },
      "execution_count": 7,
      "outputs": [
        {
          "output_type": "stream",
          "name": "stdout",
          "text": [
            "custom stop words selected\n"
          ]
        },
        {
          "output_type": "display_data",
          "data": {
            "text/plain": [
              "Downloading:   0%|          | 0.00/434 [00:00<?, ?B/s]"
            ],
            "application/vnd.jupyter.widget-view+json": {
              "version_major": 2,
              "version_minor": 0,
              "model_id": "6764758e22f44fb48cfd681ad46199e1"
            }
          },
          "metadata": {}
        },
        {
          "output_type": "display_data",
          "data": {
            "text/plain": [
              "Downloading:   0%|          | 0.00/1.16M [00:00<?, ?B/s]"
            ],
            "application/vnd.jupyter.widget-view+json": {
              "version_major": 2,
              "version_minor": 0,
              "model_id": "0e5171039ceb4f6db606f33ae75b46e2"
            }
          },
          "metadata": {}
        },
        {
          "output_type": "stream",
          "name": "stdout",
          "text": [
            "there are 3 outlier in data\n",
            "current dataframe length before remove 3 outlier sentence is: 15918\n",
            "current dataframe length after remove 3 outlier sentence is: 15915\n",
            "auto preprocess completed done on dataframe!\n",
            "Enjoy!\n",
            "custom stop words selected\n",
            "there is no outlier in data\n",
            "auto preprocess completed done on dataframe!\n",
            "Enjoy!\n"
          ]
        }
      ]
    },
    {
      "cell_type": "code",
      "source": [
        "dataset = tf.data.Dataset.from_tensor_slices((train_vectors, train_labels_list))\n",
        "train_data = dataset.shuffle(100).batch(48)\n",
        "test_dataset = tf.data.Dataset.from_tensor_slices((test_vectors, test_labels_list))\n",
        "test_data = test_dataset.batch(64)"
      ],
      "metadata": {
        "id": "syZlMe8-dJ0C"
      },
      "execution_count": 8,
      "outputs": []
    },
    {
      "cell_type": "code",
      "source": [
        "checkpoint_filepath = './'\n",
        "model_checkpoint_callback = tf.keras.callbacks.ModelCheckpoint(\n",
        "    filepath=checkpoint_filepath,\n",
        "    save_weights_only=True,\n",
        "    monitor='val_accuracy',\n",
        "    mode='max',\n",
        "    save_best_only=True)\n",
        "model = Sequential()\n",
        "model.add(Embedding(input_dim=vocab_size, output_dim=150, input_length=maxlen, mask_zero=True))\n",
        "model.add(LSTM(128, dropout=0.1))\n",
        "model.add(Dense(1, activation='sigmoid'))\n",
        "adam = tf.keras.optimizers.Adam(learning_rate=0.001)\n",
        "model.compile(loss=\"binary_crossentropy\", optimizer=adam, metrics=[\"accuracy\"])\n",
        "model.summary()\n",
        "history = model.fit(train_data, epochs=5, validation_data=test_data, callbacks=[model_checkpoint_callback])"
      ],
      "metadata": {
        "colab": {
          "base_uri": "https://localhost:8080/"
        },
        "id": "nr964c-WdReE",
        "outputId": "82f87424-aceb-4c4a-d301-7fc84302052a"
      },
      "execution_count": 9,
      "outputs": [
        {
          "output_type": "stream",
          "name": "stdout",
          "text": [
            "Model: \"sequential\"\n",
            "_________________________________________________________________\n",
            " Layer (type)                Output Shape              Param #   \n",
            "=================================================================\n",
            " embedding (Embedding)       (None, 110, 150)          1375500   \n",
            "                                                                 \n",
            " lstm (LSTM)                 (None, 128)               142848    \n",
            "                                                                 \n",
            " dense (Dense)               (None, 1)                 129       \n",
            "                                                                 \n",
            "=================================================================\n",
            "Total params: 1,518,477\n",
            "Trainable params: 1,518,477\n",
            "Non-trainable params: 0\n",
            "_________________________________________________________________\n",
            "Epoch 1/5\n",
            "332/332 [==============================] - 113s 325ms/step - loss: 0.2864 - accuracy: 0.8875 - val_loss: 0.1916 - val_accuracy: 0.9337\n",
            "Epoch 2/5\n",
            "332/332 [==============================] - 104s 312ms/step - loss: 0.1323 - accuracy: 0.9551 - val_loss: 0.2037 - val_accuracy: 0.9321\n",
            "Epoch 3/5\n",
            "332/332 [==============================] - 102s 306ms/step - loss: 0.0898 - accuracy: 0.9707 - val_loss: 0.2154 - val_accuracy: 0.9358\n",
            "Epoch 4/5\n",
            "332/332 [==============================] - 102s 307ms/step - loss: 0.0612 - accuracy: 0.9796 - val_loss: 0.2425 - val_accuracy: 0.9346\n",
            "Epoch 5/5\n",
            "332/332 [==============================] - 102s 307ms/step - loss: 0.0452 - accuracy: 0.9854 - val_loss: 0.3162 - val_accuracy: 0.9267\n"
          ]
        }
      ]
    },
    {
      "cell_type": "code",
      "source": [
        "plot_history(history)"
      ],
      "metadata": {
        "colab": {
          "base_uri": "https://localhost:8080/",
          "height": 336
        },
        "id": "KjS4oTu1dguh",
        "outputId": "f14d6753-6088-4c40-a3a4-44620c38640f"
      },
      "execution_count": 10,
      "outputs": [
        {
          "output_type": "display_data",
          "data": {
            "text/plain": [
              "<Figure size 864x360 with 2 Axes>"
            ],
            "image/png": "[encoded data removed]"
          },
          "metadata": {
            "needs_background": "light"
          }
        }
      ]
    },
    {
      "cell_type": "code",
      "source": [
        "model.load_weights(checkpoint_filepath)"
      ],
      "metadata": {
        "colab": {
          "base_uri": "https://localhost:8080/"
        },
        "id": "K3LFutOrdnAm",
        "outputId": "de06fca7-7c3c-458d-af58-b4372be47873"
      },
      "execution_count": 11,
      "outputs": [
        {
          "output_type": "execute_result",
          "data": {
            "text/plain": [
              "<tensorflow.python.training.tracking.util.CheckpointLoadStatus at 0x7f79327334d0>"
            ]
          },
          "metadata": {},
          "execution_count": 11
        }
      ]
    },
    {
      "cell_type": "code",
      "source": [
        "# results = model.predict_classes(test_data)\n",
        "results = (model.predict(test_data) > 0.5).astype(\"int32\")"
      ],
      "metadata": {
        "id": "q21NquHEdqK0"
      },
      "execution_count": 12,
      "outputs": []
    },
    {
      "cell_type": "code",
      "source": [
        "from sklearn.metrics import accuracy_score\n",
        "from sklearn.metrics import precision_score\n",
        "from sklearn.metrics import recall_score\n",
        "from sklearn.metrics import f1_score"
      ],
      "metadata": {
        "id": "kOZhSSL2dsNa"
      },
      "execution_count": 13,
      "outputs": []
    },
    {
      "cell_type": "code",
      "source": [
        "f1 = (f1_score(test_labels_list,results ))*100\n",
        "f1 = round(f1,2)\n",
        "print('f1 score is: ',f1)\n",
        "\n",
        "accuracy = (accuracy_score(test_labels_list,results ))*100\n",
        "accuracy = round(accuracy,2)\n",
        "print('accuracy score is: ',accuracy)\n",
        "\n",
        "precision = (precision_score(test_labels_list,results ))*100\n",
        "precision = round(precision,2)\n",
        "print('precision score is: ',precision)\n",
        "\n",
        "recall = (recall_score(test_labels_list,results ))*100\n",
        "recall = round(recall,2)\n",
        "print('recall score is: ',recall)"
      ],
      "metadata": {
        "colab": {
          "base_uri": "https://localhost:8080/"
        },
        "id": "loc05Iiwd7-c",
        "outputId": "67bda68b-6bac-44a5-d87b-a209df6eead6"
      },
      "execution_count": 14,
      "outputs": [
        {
          "output_type": "stream",
          "name": "stdout",
          "text": [
            "f1 score is:  93.77\n",
            "accuracy score is:  93.58\n",
            "precision score is:  91.12\n",
            "recall score is:  96.58\n"
          ]
        }
      ]
    }
  ]
}