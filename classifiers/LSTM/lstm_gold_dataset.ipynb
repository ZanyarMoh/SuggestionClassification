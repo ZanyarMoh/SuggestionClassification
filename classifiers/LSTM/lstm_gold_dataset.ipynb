{
  "nbformat": 4,
  "nbformat_minor": 0,
  "metadata": {
    "accelerator": "GPU",
    "colab": {
      "name": "Copy of lstm_gold.ipynb",
      "provenance": [],
      "collapsed_sections": []
    },
    "kernelspec": {
      "display_name": "Python 3",
      "name": "python3"
    },
    "widgets": {
      "application/vnd.jupyter.widget-state+json": {
        "db6bb347031a4ef58f7e3ac4dbc48ba0": {
          "model_module": "@jupyter-widgets/controls",
          "model_name": "HBoxModel",
          "state": {
            "_view_name": "HBoxView",
            "_dom_classes": [],
            "_model_name": "HBoxModel",
            "_view_module": "@jupyter-widgets/controls",
            "_model_module_version": "1.5.0",
            "_view_count": null,
            "_view_module_version": "1.5.0",
            "box_style": "",
            "layout": "IPY_MODEL_ada15b0c18ef4bd18c01cccfbad33ac9",
            "_model_module": "@jupyter-widgets/controls",
            "children": [
              "IPY_MODEL_5fad0261949343299c7c1079f9a99b84",
              "IPY_MODEL_faa6753b84724895828b941b984535f2"
            ]
          }
        },
        "ada15b0c18ef4bd18c01cccfbad33ac9": {
          "model_module": "@jupyter-widgets/base",
          "model_name": "LayoutModel",
          "state": {
            "_view_name": "LayoutView",
            "grid_template_rows": null,
            "right": null,
            "justify_content": null,
            "_view_module": "@jupyter-widgets/base",
            "overflow": null,
            "_model_module_version": "1.2.0",
            "_view_count": null,
            "flex_flow": null,
            "width": null,
            "min_width": null,
            "border": null,
            "align_items": null,
            "bottom": null,
            "_model_module": "@jupyter-widgets/base",
            "top": null,
            "grid_column": null,
            "overflow_y": null,
            "overflow_x": null,
            "grid_auto_flow": null,
            "grid_area": null,
            "grid_template_columns": null,
            "flex": null,
            "_model_name": "LayoutModel",
            "justify_items": null,
            "grid_row": null,
            "max_height": null,
            "align_content": null,
            "visibility": null,
            "align_self": null,
            "height": null,
            "min_height": null,
            "padding": null,
            "grid_auto_rows": null,
            "grid_gap": null,
            "max_width": null,
            "order": null,
            "_view_module_version": "1.2.0",
            "grid_template_areas": null,
            "object_position": null,
            "object_fit": null,
            "grid_auto_columns": null,
            "margin": null,
            "display": null,
            "left": null
          }
        },
        "5fad0261949343299c7c1079f9a99b84": {
          "model_module": "@jupyter-widgets/controls",
          "model_name": "FloatProgressModel",
          "state": {
            "_view_name": "ProgressView",
            "style": "IPY_MODEL_41bfdce0d12a4b79b8e9b5c494a5ad1f",
            "_dom_classes": [],
            "description": "Downloading: 100%",
            "_model_name": "FloatProgressModel",
            "bar_style": "success",
            "max": 434,
            "_view_module": "@jupyter-widgets/controls",
            "_model_module_version": "1.5.0",
            "value": 434,
            "_view_count": null,
            "_view_module_version": "1.5.0",
            "orientation": "horizontal",
            "min": 0,
            "description_tooltip": null,
            "_model_module": "@jupyter-widgets/controls",
            "layout": "IPY_MODEL_4809e46518fe4d35a008baffc3f4ce89"
          }
        },
        "faa6753b84724895828b941b984535f2": {
          "model_module": "@jupyter-widgets/controls",
          "model_name": "HTMLModel",
          "state": {
            "_view_name": "HTMLView",
            "style": "IPY_MODEL_12f59bc8593d4fad9ed8bcf1707f931f",
            "_dom_classes": [],
            "description": "",
            "_model_name": "HTMLModel",
            "placeholder": "​",
            "_view_module": "@jupyter-widgets/controls",
            "_model_module_version": "1.5.0",
            "value": " 434/434 [00:00&lt;00:00, 952B/s]",
            "_view_count": null,
            "_view_module_version": "1.5.0",
            "description_tooltip": null,
            "_model_module": "@jupyter-widgets/controls",
            "layout": "IPY_MODEL_a1f17df1b03d40a0b77949ce1f641a56"
          }
        },
        "41bfdce0d12a4b79b8e9b5c494a5ad1f": {
          "model_module": "@jupyter-widgets/controls",
          "model_name": "ProgressStyleModel",
          "state": {
            "_view_name": "StyleView",
            "_model_name": "ProgressStyleModel",
            "description_width": "initial",
            "_view_module": "@jupyter-widgets/base",
            "_model_module_version": "1.5.0",
            "_view_count": null,
            "_view_module_version": "1.2.0",
            "bar_color": null,
            "_model_module": "@jupyter-widgets/controls"
          }
        },
        "4809e46518fe4d35a008baffc3f4ce89": {
          "model_module": "@jupyter-widgets/base",
          "model_name": "LayoutModel",
          "state": {
            "_view_name": "LayoutView",
            "grid_template_rows": null,
            "right": null,
            "justify_content": null,
            "_view_module": "@jupyter-widgets/base",
            "overflow": null,
            "_model_module_version": "1.2.0",
            "_view_count": null,
            "flex_flow": null,
            "width": null,
            "min_width": null,
            "border": null,
            "align_items": null,
            "bottom": null,
            "_model_module": "@jupyter-widgets/base",
            "top": null,
            "grid_column": null,
            "overflow_y": null,
            "overflow_x": null,
            "grid_auto_flow": null,
            "grid_area": null,
            "grid_template_columns": null,
            "flex": null,
            "_model_name": "LayoutModel",
            "justify_items": null,
            "grid_row": null,
            "max_height": null,
            "align_content": null,
            "visibility": null,
            "align_self": null,
            "height": null,
            "min_height": null,
            "padding": null,
            "grid_auto_rows": null,
            "grid_gap": null,
            "max_width": null,
            "order": null,
            "_view_module_version": "1.2.0",
            "grid_template_areas": null,
            "object_position": null,
            "object_fit": null,
            "grid_auto_columns": null,
            "margin": null,
            "display": null,
            "left": null
          }
        },
        "12f59bc8593d4fad9ed8bcf1707f931f": {
          "model_module": "@jupyter-widgets/controls",
          "model_name": "DescriptionStyleModel",
          "state": {
            "_view_name": "StyleView",
            "_model_name": "DescriptionStyleModel",
            "description_width": "",
            "_view_module": "@jupyter-widgets/base",
            "_model_module_version": "1.5.0",
            "_view_count": null,
            "_view_module_version": "1.2.0",
            "_model_module": "@jupyter-widgets/controls"
          }
        },
        "a1f17df1b03d40a0b77949ce1f641a56": {
          "model_module": "@jupyter-widgets/base",
          "model_name": "LayoutModel",
          "state": {
            "_view_name": "LayoutView",
            "grid_template_rows": null,
            "right": null,
            "justify_content": null,
            "_view_module": "@jupyter-widgets/base",
            "overflow": null,
            "_model_module_version": "1.2.0",
            "_view_count": null,
            "flex_flow": null,
            "width": null,
            "min_width": null,
            "border": null,
            "align_items": null,
            "bottom": null,
            "_model_module": "@jupyter-widgets/base",
            "top": null,
            "grid_column": null,
            "overflow_y": null,
            "overflow_x": null,
            "grid_auto_flow": null,
            "grid_area": null,
            "grid_template_columns": null,
            "flex": null,
            "_model_name": "LayoutModel",
            "justify_items": null,
            "grid_row": null,
            "max_height": null,
            "align_content": null,
            "visibility": null,
            "align_self": null,
            "height": null,
            "min_height": null,
            "padding": null,
            "grid_auto_rows": null,
            "grid_gap": null,
            "max_width": null,
            "order": null,
            "_view_module_version": "1.2.0",
            "grid_template_areas": null,
            "object_position": null,
            "object_fit": null,
            "grid_auto_columns": null,
            "margin": null,
            "display": null,
            "left": null
          }
        },
        "eb1c77946e84447cac119663a9110beb": {
          "model_module": "@jupyter-widgets/controls",
          "model_name": "HBoxModel",
          "state": {
            "_view_name": "HBoxView",
            "_dom_classes": [],
            "_model_name": "HBoxModel",
            "_view_module": "@jupyter-widgets/controls",
            "_model_module_version": "1.5.0",
            "_view_count": null,
            "_view_module_version": "1.5.0",
            "box_style": "",
            "layout": "IPY_MODEL_b717fad22fbf40a18f00051b178803ed",
            "_model_module": "@jupyter-widgets/controls",
            "children": [
              "IPY_MODEL_49fa4f1617334da08aea17fd13eec36e",
              "IPY_MODEL_acc320d900424698b3132c68dc0a3add"
            ]
          }
        },
        "b717fad22fbf40a18f00051b178803ed": {
          "model_module": "@jupyter-widgets/base",
          "model_name": "LayoutModel",
          "state": {
            "_view_name": "LayoutView",
            "grid_template_rows": null,
            "right": null,
            "justify_content": null,
            "_view_module": "@jupyter-widgets/base",
            "overflow": null,
            "_model_module_version": "1.2.0",
            "_view_count": null,
            "flex_flow": null,
            "width": null,
            "min_width": null,
            "border": null,
            "align_items": null,
            "bottom": null,
            "_model_module": "@jupyter-widgets/base",
            "top": null,
            "grid_column": null,
            "overflow_y": null,
            "overflow_x": null,
            "grid_auto_flow": null,
            "grid_area": null,
            "grid_template_columns": null,
            "flex": null,
            "_model_name": "LayoutModel",
            "justify_items": null,
            "grid_row": null,
            "max_height": null,
            "align_content": null,
            "visibility": null,
            "align_self": null,
            "height": null,
            "min_height": null,
            "padding": null,
            "grid_auto_rows": null,
            "grid_gap": null,
            "max_width": null,
            "order": null,
            "_view_module_version": "1.2.0",
            "grid_template_areas": null,
            "object_position": null,
            "object_fit": null,
            "grid_auto_columns": null,
            "margin": null,
            "display": null,
            "left": null
          }
        },
        "49fa4f1617334da08aea17fd13eec36e": {
          "model_module": "@jupyter-widgets/controls",
          "model_name": "FloatProgressModel",
          "state": {
            "_view_name": "ProgressView",
            "style": "IPY_MODEL_747c622721d645b096ab79bb00744844",
            "_dom_classes": [],
            "description": "Downloading: 100%",
            "_model_name": "FloatProgressModel",
            "bar_style": "success",
            "max": 1215509,
            "_view_module": "@jupyter-widgets/controls",
            "_model_module_version": "1.5.0",
            "value": 1215509,
            "_view_count": null,
            "_view_module_version": "1.5.0",
            "orientation": "horizontal",
            "min": 0,
            "description_tooltip": null,
            "_model_module": "@jupyter-widgets/controls",
            "layout": "IPY_MODEL_801c6d24c6644b21a2f1e0a2d86d8a9b"
          }
        },
        "acc320d900424698b3132c68dc0a3add": {
          "model_module": "@jupyter-widgets/controls",
          "model_name": "HTMLModel",
          "state": {
            "_view_name": "HTMLView",
            "style": "IPY_MODEL_b22b4af538914151abc13b81023923d3",
            "_dom_classes": [],
            "description": "",
            "_model_name": "HTMLModel",
            "placeholder": "​",
            "_view_module": "@jupyter-widgets/controls",
            "_model_module_version": "1.5.0",
            "value": " 1.22M/1.22M [00:00&lt;00:00, 4.11MB/s]",
            "_view_count": null,
            "_view_module_version": "1.5.0",
            "description_tooltip": null,
            "_model_module": "@jupyter-widgets/controls",
            "layout": "IPY_MODEL_57023948bbff422dab33dfc1b28015c2"
          }
        },
        "747c622721d645b096ab79bb00744844": {
          "model_module": "@jupyter-widgets/controls",
          "model_name": "ProgressStyleModel",
          "state": {
            "_view_name": "StyleView",
            "_model_name": "ProgressStyleModel",
            "description_width": "initial",
            "_view_module": "@jupyter-widgets/base",
            "_model_module_version": "1.5.0",
            "_view_count": null,
            "_view_module_version": "1.2.0",
            "bar_color": null,
            "_model_module": "@jupyter-widgets/controls"
          }
        },
        "801c6d24c6644b21a2f1e0a2d86d8a9b": {
          "model_module": "@jupyter-widgets/base",
          "model_name": "LayoutModel",
          "state": {
            "_view_name": "LayoutView",
            "grid_template_rows": null,
            "right": null,
            "justify_content": null,
            "_view_module": "@jupyter-widgets/base",
            "overflow": null,
            "_model_module_version": "1.2.0",
            "_view_count": null,
            "flex_flow": null,
            "width": null,
            "min_width": null,
            "border": null,
            "align_items": null,
            "bottom": null,
            "_model_module": "@jupyter-widgets/base",
            "top": null,
            "grid_column": null,
            "overflow_y": null,
            "overflow_x": null,
            "grid_auto_flow": null,
            "grid_area": null,
            "grid_template_columns": null,
            "flex": null,
            "_model_name": "LayoutModel",
            "justify_items": null,
            "grid_row": null,
            "max_height": null,
            "align_content": null,
            "visibility": null,
            "align_self": null,
            "height": null,
            "min_height": null,
            "padding": null,
            "grid_auto_rows": null,
            "grid_gap": null,
            "max_width": null,
            "order": null,
            "_view_module_version": "1.2.0",
            "grid_template_areas": null,
            "object_position": null,
            "object_fit": null,
            "grid_auto_columns": null,
            "margin": null,
            "display": null,
            "left": null
          }
        },
        "b22b4af538914151abc13b81023923d3": {
          "model_module": "@jupyter-widgets/controls",
          "model_name": "DescriptionStyleModel",
          "state": {
            "_view_name": "StyleView",
            "_model_name": "DescriptionStyleModel",
            "description_width": "",
            "_view_module": "@jupyter-widgets/base",
            "_model_module_version": "1.5.0",
            "_view_count": null,
            "_view_module_version": "1.2.0",
            "_model_module": "@jupyter-widgets/controls"
          }
        },
        "57023948bbff422dab33dfc1b28015c2": {
          "model_module": "@jupyter-widgets/base",
          "model_name": "LayoutModel",
          "state": {
            "_view_name": "LayoutView",
            "grid_template_rows": null,
            "right": null,
            "justify_content": null,
            "_view_module": "@jupyter-widgets/base",
            "overflow": null,
            "_model_module_version": "1.2.0",
            "_view_count": null,
            "flex_flow": null,
            "width": null,
            "min_width": null,
            "border": null,
            "align_items": null,
            "bottom": null,
            "_model_module": "@jupyter-widgets/base",
            "top": null,
            "grid_column": null,
            "overflow_y": null,
            "overflow_x": null,
            "grid_auto_flow": null,
            "grid_area": null,
            "grid_template_columns": null,
            "flex": null,
            "_model_name": "LayoutModel",
            "justify_items": null,
            "grid_row": null,
            "max_height": null,
            "align_content": null,
            "visibility": null,
            "align_self": null,
            "height": null,
            "min_height": null,
            "padding": null,
            "grid_auto_rows": null,
            "grid_gap": null,
            "max_width": null,
            "order": null,
            "_view_module_version": "1.2.0",
            "grid_template_areas": null,
            "object_position": null,
            "object_fit": null,
            "grid_auto_columns": null,
            "margin": null,
            "display": null,
            "left": null
          }
        }
      }
    }
  },
  "cells": [
    {
      "cell_type": "code",
      "metadata": {
        "id": "V7VfePkEylPF",
        "colab": {
          "base_uri": "https://localhost:8080/"
        },
        "outputId": "76a51c9b-9c07-4df5-b047-d401895da398"
      },
      "source": [
        "!pip install PersianStemmer\n",
        "!pip install transformers\n",
        "!pip install https://github.com/htaghizadeh/PersianStemmer-Python/archive/master.zip --upgrade\n",
        "!pip install hazm\n",
        "!pip install demoji"
      ],
      "execution_count": 1,
      "outputs": [
        {
          "output_type": "stream",
          "text": [
            "Collecting PersianStemmer\n",
            "  Downloading persianstemmer-1.0.0.tar.gz (810 kB)\n",
            "\u001b[?25l\r\u001b[K     |▍                               | 10 kB 31.8 MB/s eta 0:00:01\r\u001b[K     |▉                               | 20 kB 34.0 MB/s eta 0:00:01\r\u001b[K     |█▏                              | 30 kB 37.0 MB/s eta 0:00:01\r\u001b[K     |█▋                              | 40 kB 40.3 MB/s eta 0:00:01\r\u001b[K     |██                              | 51 kB 38.6 MB/s eta 0:00:01\r\u001b[K     |██▍                             | 61 kB 40.9 MB/s eta 0:00:01\r\u001b[K     |██▉                             | 71 kB 29.2 MB/s eta 0:00:01\r\u001b[K     |███▎                            | 81 kB 25.8 MB/s eta 0:00:01\r\u001b[K     |███▋                            | 92 kB 27.1 MB/s eta 0:00:01\r\u001b[K     |████                            | 102 kB 25.6 MB/s eta 0:00:01\r\u001b[K     |████▌                           | 112 kB 25.6 MB/s eta 0:00:01\r\u001b[K     |████▉                           | 122 kB 25.6 MB/s eta 0:00:01\r\u001b[K     |█████▎                          | 133 kB 25.6 MB/s eta 0:00:01\r\u001b[K     |█████▋                          | 143 kB 25.6 MB/s eta 0:00:01\r\u001b[K     |██████                          | 153 kB 25.6 MB/s eta 0:00:01\r\u001b[K     |██████▌                         | 163 kB 25.6 MB/s eta 0:00:01\r\u001b[K     |██████▉                         | 174 kB 25.6 MB/s eta 0:00:01\r\u001b[K     |███████▎                        | 184 kB 25.6 MB/s eta 0:00:01\r\u001b[K     |███████▊                        | 194 kB 25.6 MB/s eta 0:00:01\r\u001b[K     |████████                        | 204 kB 25.6 MB/s eta 0:00:01\r\u001b[K     |████████▌                       | 215 kB 25.6 MB/s eta 0:00:01\r\u001b[K     |█████████                       | 225 kB 25.6 MB/s eta 0:00:01\r\u001b[K     |█████████▎                      | 235 kB 25.6 MB/s eta 0:00:01\r\u001b[K     |█████████▊                      | 245 kB 25.6 MB/s eta 0:00:01\r\u001b[K     |██████████▏                     | 256 kB 25.6 MB/s eta 0:00:01\r\u001b[K     |██████████▌                     | 266 kB 25.6 MB/s eta 0:00:01\r\u001b[K     |███████████                     | 276 kB 25.6 MB/s eta 0:00:01\r\u001b[K     |███████████▎                    | 286 kB 25.6 MB/s eta 0:00:01\r\u001b[K     |███████████▊                    | 296 kB 25.6 MB/s eta 0:00:01\r\u001b[K     |████████████▏                   | 307 kB 25.6 MB/s eta 0:00:01\r\u001b[K     |████████████▌                   | 317 kB 25.6 MB/s eta 0:00:01\r\u001b[K     |█████████████                   | 327 kB 25.6 MB/s eta 0:00:01\r\u001b[K     |█████████████▍                  | 337 kB 25.6 MB/s eta 0:00:01\r\u001b[K     |█████████████▊                  | 348 kB 25.6 MB/s eta 0:00:01\r\u001b[K     |██████████████▏                 | 358 kB 25.6 MB/s eta 0:00:01\r\u001b[K     |██████████████▋                 | 368 kB 25.6 MB/s eta 0:00:01\r\u001b[K     |███████████████                 | 378 kB 25.6 MB/s eta 0:00:01\r\u001b[K     |███████████████▍                | 389 kB 25.6 MB/s eta 0:00:01\r\u001b[K     |███████████████▊                | 399 kB 25.6 MB/s eta 0:00:01\r\u001b[K     |████████████████▏               | 409 kB 25.6 MB/s eta 0:00:01\r\u001b[K     |████████████████▋               | 419 kB 25.6 MB/s eta 0:00:01\r\u001b[K     |█████████████████               | 430 kB 25.6 MB/s eta 0:00:01\r\u001b[K     |█████████████████▍              | 440 kB 25.6 MB/s eta 0:00:01\r\u001b[K     |█████████████████▉              | 450 kB 25.6 MB/s eta 0:00:01\r\u001b[K     |██████████████████▏             | 460 kB 25.6 MB/s eta 0:00:01\r\u001b[K     |██████████████████▋             | 471 kB 25.6 MB/s eta 0:00:01\r\u001b[K     |███████████████████             | 481 kB 25.6 MB/s eta 0:00:01\r\u001b[K     |███████████████████▍            | 491 kB 25.6 MB/s eta 0:00:01\r\u001b[K     |███████████████████▉            | 501 kB 25.6 MB/s eta 0:00:01\r\u001b[K     |████████████████████▎           | 512 kB 25.6 MB/s eta 0:00:01\r\u001b[K     |████████████████████▋           | 522 kB 25.6 MB/s eta 0:00:01\r\u001b[K     |█████████████████████           | 532 kB 25.6 MB/s eta 0:00:01\r\u001b[K     |█████████████████████▍          | 542 kB 25.6 MB/s eta 0:00:01\r\u001b[K     |█████████████████████▉          | 552 kB 25.6 MB/s eta 0:00:01\r\u001b[K     |██████████████████████▎         | 563 kB 25.6 MB/s eta 0:00:01\r\u001b[K     |██████████████████████▋         | 573 kB 25.6 MB/s eta 0:00:01\r\u001b[K     |███████████████████████         | 583 kB 25.6 MB/s eta 0:00:01\r\u001b[K     |███████████████████████▌        | 593 kB 25.6 MB/s eta 0:00:01\r\u001b[K     |███████████████████████▉        | 604 kB 25.6 MB/s eta 0:00:01\r\u001b[K     |████████████████████████▎       | 614 kB 25.6 MB/s eta 0:00:01\r\u001b[K     |████████████████████████▊       | 624 kB 25.6 MB/s eta 0:00:01\r\u001b[K     |█████████████████████████       | 634 kB 25.6 MB/s eta 0:00:01\r\u001b[K     |█████████████████████████▌      | 645 kB 25.6 MB/s eta 0:00:01\r\u001b[K     |█████████████████████████▉      | 655 kB 25.6 MB/s eta 0:00:01\r\u001b[K     |██████████████████████████▎     | 665 kB 25.6 MB/s eta 0:00:01\r\u001b[K     |██████████████████████████▊     | 675 kB 25.6 MB/s eta 0:00:01\r\u001b[K     |███████████████████████████     | 686 kB 25.6 MB/s eta 0:00:01\r\u001b[K     |███████████████████████████▌    | 696 kB 25.6 MB/s eta 0:00:01\r\u001b[K     |████████████████████████████    | 706 kB 25.6 MB/s eta 0:00:01\r\u001b[K     |████████████████████████████▎   | 716 kB 25.6 MB/s eta 0:00:01\r\u001b[K     |████████████████████████████▊   | 727 kB 25.6 MB/s eta 0:00:01\r\u001b[K     |█████████████████████████████▏  | 737 kB 25.6 MB/s eta 0:00:01\r\u001b[K     |█████████████████████████████▌  | 747 kB 25.6 MB/s eta 0:00:01\r\u001b[K     |██████████████████████████████  | 757 kB 25.6 MB/s eta 0:00:01\r\u001b[K     |██████████████████████████████▍ | 768 kB 25.6 MB/s eta 0:00:01\r\u001b[K     |██████████████████████████████▊ | 778 kB 25.6 MB/s eta 0:00:01\r\u001b[K     |███████████████████████████████▏| 788 kB 25.6 MB/s eta 0:00:01\r\u001b[K     |███████████████████████████████▌| 798 kB 25.6 MB/s eta 0:00:01\r\u001b[K     |████████████████████████████████| 808 kB 25.6 MB/s eta 0:00:01\r\u001b[K     |████████████████████████████████| 810 kB 25.6 MB/s \n",
            "\u001b[?25hCollecting patricia-trie\n",
            "  Downloading patricia-trie-10.tar.gz (6.7 kB)\n",
            "Building wheels for collected packages: PersianStemmer, patricia-trie\n",
            "  Building wheel for PersianStemmer (setup.py) ... \u001b[?25l\u001b[?25hdone\n",
            "  Created wheel for PersianStemmer: filename=PersianStemmer-1.0.0-py3-none-any.whl size=810281 sha256=766129e7465d71086a2577890dedeea7e67b5dc3c2e35e1178e07217a4cdef09\n",
            "  Stored in directory: /root/.cache/pip/wheels/d2/f7/96/55f0070725e6ce1191aa9a931e962fc0f551b68ed919fb7f8e\n",
            "  Building wheel for patricia-trie (setup.py) ... \u001b[?25l\u001b[?25hdone\n",
            "  Created wheel for patricia-trie: filename=patricia_trie-10-py3-none-any.whl size=7768 sha256=de2abe0af9efe575f58869e735e0ef750ca5181d42071baea60a699524f02ba9\n",
            "  Stored in directory: /root/.cache/pip/wheels/32/89/b4/46456cda461ffee3f6ef09a68bccb5d175b65ff2b922b5b5b8\n",
            "Successfully built PersianStemmer patricia-trie\n",
            "Installing collected packages: patricia-trie, PersianStemmer\n",
            "Successfully installed PersianStemmer-1.0.0 patricia-trie-10\n",
            "Collecting transformers\n",
            "  Downloading transformers-4.9.0-py3-none-any.whl (2.6 MB)\n",
            "\u001b[K     |████████████████████████████████| 2.6 MB 34.4 MB/s \n",
            "\u001b[?25hRequirement already satisfied: filelock in /usr/local/lib/python3.7/dist-packages (from transformers) (3.0.12)\n",
            "Collecting huggingface-hub==0.0.12\n",
            "  Downloading huggingface_hub-0.0.12-py3-none-any.whl (37 kB)\n",
            "Collecting sacremoses\n",
            "  Downloading sacremoses-0.0.45-py3-none-any.whl (895 kB)\n",
            "\u001b[K     |████████████████████████████████| 895 kB 59.1 MB/s \n",
            "\u001b[?25hRequirement already satisfied: importlib-metadata in /usr/local/lib/python3.7/dist-packages (from transformers) (4.6.1)\n",
            "Requirement already satisfied: regex!=2019.12.17 in /usr/local/lib/python3.7/dist-packages (from transformers) (2019.12.20)\n",
            "Collecting pyyaml>=5.1\n",
            "  Downloading PyYAML-5.4.1-cp37-cp37m-manylinux1_x86_64.whl (636 kB)\n",
            "\u001b[K     |████████████████████████████████| 636 kB 66.5 MB/s \n",
            "\u001b[?25hCollecting tokenizers<0.11,>=0.10.1\n",
            "  Downloading tokenizers-0.10.3-cp37-cp37m-manylinux_2_5_x86_64.manylinux1_x86_64.manylinux_2_12_x86_64.manylinux2010_x86_64.whl (3.3 MB)\n",
            "\u001b[K     |████████████████████████████████| 3.3 MB 45.2 MB/s \n",
            "\u001b[?25hRequirement already satisfied: numpy>=1.17 in /usr/local/lib/python3.7/dist-packages (from transformers) (1.19.5)\n",
            "Requirement already satisfied: tqdm>=4.27 in /usr/local/lib/python3.7/dist-packages (from transformers) (4.41.1)\n",
            "Requirement already satisfied: requests in /usr/local/lib/python3.7/dist-packages (from transformers) (2.23.0)\n",
            "Requirement already satisfied: packaging in /usr/local/lib/python3.7/dist-packages (from transformers) (21.0)\n",
            "Requirement already satisfied: typing-extensions in /usr/local/lib/python3.7/dist-packages (from huggingface-hub==0.0.12->transformers) (3.7.4.3)\n",
            "Requirement already satisfied: pyparsing>=2.0.2 in /usr/local/lib/python3.7/dist-packages (from packaging->transformers) (2.4.7)\n",
            "Requirement already satisfied: zipp>=0.5 in /usr/local/lib/python3.7/dist-packages (from importlib-metadata->transformers) (3.5.0)\n",
            "Requirement already satisfied: idna<3,>=2.5 in /usr/local/lib/python3.7/dist-packages (from requests->transformers) (2.10)\n",
            "Requirement already satisfied: urllib3!=1.25.0,!=1.25.1,<1.26,>=1.21.1 in /usr/local/lib/python3.7/dist-packages (from requests->transformers) (1.24.3)\n",
            "Requirement already satisfied: certifi>=2017.4.17 in /usr/local/lib/python3.7/dist-packages (from requests->transformers) (2021.5.30)\n",
            "Requirement already satisfied: chardet<4,>=3.0.2 in /usr/local/lib/python3.7/dist-packages (from requests->transformers) (3.0.4)\n",
            "Requirement already satisfied: six in /usr/local/lib/python3.7/dist-packages (from sacremoses->transformers) (1.15.0)\n",
            "Requirement already satisfied: joblib in /usr/local/lib/python3.7/dist-packages (from sacremoses->transformers) (1.0.1)\n",
            "Requirement already satisfied: click in /usr/local/lib/python3.7/dist-packages (from sacremoses->transformers) (7.1.2)\n",
            "Installing collected packages: tokenizers, sacremoses, pyyaml, huggingface-hub, transformers\n",
            "  Attempting uninstall: pyyaml\n",
            "    Found existing installation: PyYAML 3.13\n",
            "    Uninstalling PyYAML-3.13:\n",
            "      Successfully uninstalled PyYAML-3.13\n",
            "Successfully installed huggingface-hub-0.0.12 pyyaml-5.4.1 sacremoses-0.0.45 tokenizers-0.10.3 transformers-4.9.0\n",
            "Collecting https://github.com/htaghizadeh/PersianStemmer-Python/archive/master.zip\n",
            "  Downloading https://github.com/htaghizadeh/PersianStemmer-Python/archive/master.zip\n",
            "\u001b[K     \\ 811 kB 1.5 MB/s\n",
            "\u001b[?25hRequirement already satisfied: patricia-trie in /usr/local/lib/python3.7/dist-packages (from PersianStemmer==1.0.1) (10)\n",
            "Building wheels for collected packages: PersianStemmer\n",
            "  Building wheel for PersianStemmer (setup.py) ... \u001b[?25l\u001b[?25hdone\n",
            "  Created wheel for PersianStemmer: filename=PersianStemmer-1.0.1-py3-none-any.whl size=809905 sha256=b794f43d1ed9bbebd9601b93877e05de17e945bc28326faa11615cac23ef1656\n",
            "  Stored in directory: /tmp/pip-ephem-wheel-cache-_0pqrlqa/wheels/7c/4f/ee/84dac1abee1c37b411c746dff1a9cdccf9d8cf9c8f5e15f734\n",
            "Successfully built PersianStemmer\n",
            "Installing collected packages: PersianStemmer\n",
            "  Attempting uninstall: PersianStemmer\n",
            "    Found existing installation: PersianStemmer 1.0.0\n",
            "    Uninstalling PersianStemmer-1.0.0:\n",
            "      Successfully uninstalled PersianStemmer-1.0.0\n",
            "Successfully installed PersianStemmer-1.0.1\n",
            "Collecting hazm\n",
            "  Downloading hazm-0.7.0-py3-none-any.whl (316 kB)\n",
            "\u001b[K     |████████████████████████████████| 316 kB 28.2 MB/s \n",
            "\u001b[?25hCollecting nltk==3.3\n",
            "  Downloading nltk-3.3.0.zip (1.4 MB)\n",
            "\u001b[K     |████████████████████████████████| 1.4 MB 52.9 MB/s \n",
            "\u001b[?25hCollecting libwapiti>=0.2.1\n",
            "  Downloading libwapiti-0.2.1.tar.gz (233 kB)\n",
            "\u001b[K     |████████████████████████████████| 233 kB 51.5 MB/s \n",
            "\u001b[?25hRequirement already satisfied: six in /usr/local/lib/python3.7/dist-packages (from nltk==3.3->hazm) (1.15.0)\n",
            "Building wheels for collected packages: nltk, libwapiti\n",
            "  Building wheel for nltk (setup.py) ... \u001b[?25l\u001b[?25hdone\n",
            "  Created wheel for nltk: filename=nltk-3.3-py3-none-any.whl size=1394487 sha256=b3ae070ff5902576f9cd15aaed0b0562b01060925c36054f3769779d383296a5\n",
            "  Stored in directory: /root/.cache/pip/wheels/9b/fd/0c/d92302c876e5de87ebd7fc0979d82edb93e2d8d768bf71fac4\n",
            "  Building wheel for libwapiti (setup.py) ... \u001b[?25l\u001b[?25hdone\n",
            "  Created wheel for libwapiti: filename=libwapiti-0.2.1-cp37-cp37m-linux_x86_64.whl size=154032 sha256=031f1e7ef3f8238488d6c3a3fa2a29839bf4cb724f2a6b7d6c62dba50fd95db5\n",
            "  Stored in directory: /root/.cache/pip/wheels/ab/b2/5b/0fe4b8f5c0e65341e8ea7bb3f4a6ebabfe8b1ac31322392dbf\n",
            "Successfully built nltk libwapiti\n",
            "Installing collected packages: nltk, libwapiti, hazm\n",
            "  Attempting uninstall: nltk\n",
            "    Found existing installation: nltk 3.2.5\n",
            "    Uninstalling nltk-3.2.5:\n",
            "      Successfully uninstalled nltk-3.2.5\n",
            "Successfully installed hazm-0.7.0 libwapiti-0.2.1 nltk-3.3\n",
            "Collecting demoji\n",
            "  Downloading demoji-0.4.0-py2.py3-none-any.whl (10 kB)\n",
            "Requirement already satisfied: requests<3.0.0 in /usr/local/lib/python3.7/dist-packages (from demoji) (2.23.0)\n",
            "Collecting colorama\n",
            "  Downloading colorama-0.4.4-py2.py3-none-any.whl (16 kB)\n",
            "Requirement already satisfied: urllib3!=1.25.0,!=1.25.1,<1.26,>=1.21.1 in /usr/local/lib/python3.7/dist-packages (from requests<3.0.0->demoji) (1.24.3)\n",
            "Requirement already satisfied: chardet<4,>=3.0.2 in /usr/local/lib/python3.7/dist-packages (from requests<3.0.0->demoji) (3.0.4)\n",
            "Requirement already satisfied: certifi>=2017.4.17 in /usr/local/lib/python3.7/dist-packages (from requests<3.0.0->demoji) (2021.5.30)\n",
            "Requirement already satisfied: idna<3,>=2.5 in /usr/local/lib/python3.7/dist-packages (from requests<3.0.0->demoji) (2.10)\n",
            "Installing collected packages: colorama, demoji\n",
            "Successfully installed colorama-0.4.4 demoji-0.4.0\n"
          ],
          "name": "stdout"
        }
      ]
    },
    {
      "cell_type": "code",
      "metadata": {
        "id": "m_pW2wESKOgM",
        "colab": {
          "base_uri": "https://localhost:8080/"
        },
        "outputId": "76f627e2-ec6f-44fd-db58-4724ddbe2de4"
      },
      "source": [
        "from google.colab import drive\n",
        "import sys\n",
        "drive.mount('/content/drive')\n",
        "sys.path.insert(0, '/content/drive/My Drive/modules')"
      ],
      "execution_count": 2,
      "outputs": [
        {
          "output_type": "stream",
          "text": [
            "Mounted at /content/drive\n"
          ],
          "name": "stdout"
        }
      ]
    },
    {
      "cell_type": "code",
      "metadata": {
        "id": "HGz500ubzCrf",
        "colab": {
          "base_uri": "https://localhost:8080/"
        },
        "outputId": "2461a40f-f707-49c9-9566-e17b0c0525e7"
      },
      "source": [
        "import pandas as pd\n",
        "import preprocess\n",
        "import numpy as np\n",
        "import tensorflow as tf\n",
        "import demoji\n",
        "from tensorflow.keras.preprocessing.text import Tokenizer\n",
        "from tensorflow.keras.preprocessing.sequence import pad_sequences\n",
        "from sklearn.model_selection import train_test_split\n",
        "from tensorflow import keras\n",
        "from keras.models import Sequential\n",
        "from keras.layers import Embedding\n",
        "from keras.layers import Dropout\n",
        "from keras.layers import LSTM\n",
        "from keras.layers import Dense\n",
        "import matplotlib.pyplot as plt\n",
        "np.random.seed(42)\n",
        "tf.random.set_seed(42)\n",
        "demoji.download_codes()"
      ],
      "execution_count": 3,
      "outputs": [
        {
          "output_type": "stream",
          "text": [
            "Downloading emoji data ...\n",
            "... OK (Got response in 0.13 seconds)\n",
            "Writing emoji data to /root/.demoji/codes.json ...\n",
            "... OK\n"
          ],
          "name": "stdout"
        }
      ]
    },
    {
      "cell_type": "code",
      "metadata": {
        "id": "z8COkEpA7fIM"
      },
      "source": [
        "def create_vector_from_data(train_data_df, test_data_df):\n",
        "    train_sentence_list = [row.sentence for index, row in train_data_df.iterrows()]\n",
        "    train_labels_list = [row.label for index, row in train_data_df.iterrows()]\n",
        "    tokenizer = Tokenizer(oov_token='<UNK>')\n",
        "    tokenizer.fit_on_texts(train_sentence_list)\n",
        "    train_sequences = tokenizer.texts_to_sequences(train_sentence_list)\n",
        "    maxlen = max([len(x) for x in train_sequences])\n",
        "    train_padded = pad_sequences(train_sequences, padding='post', truncating='post', maxlen=maxlen)\n",
        "\n",
        "    test_sentence_list = [row.sentence for index, row in test_data_df.iterrows()]\n",
        "    test_labels_list = [row.label for index, row in test_data_df.iterrows()]\n",
        "    test_sequences = tokenizer.texts_to_sequences(test_sentence_list)\n",
        "    test_padded = pad_sequences(test_sequences, padding='post', truncating='post', maxlen=maxlen)\n",
        "    return train_padded, train_labels_list, test_padded, test_labels_list, len(tokenizer.word_index)+1, maxlen"
      ],
      "execution_count": 4,
      "outputs": []
    },
    {
      "cell_type": "code",
      "metadata": {
        "id": "sRUZ3oEEzztw"
      },
      "source": [
        "def plot_history(history):\n",
        "    acc = history.history['accuracy']\n",
        "    val_acc = history.history['val_accuracy']\n",
        "    loss = history.history['loss']\n",
        "    val_loss = history.history['val_loss']\n",
        "    x = range(1, len(acc) + 1)\n",
        "    plt.figure(figsize=(12, 5))\n",
        "    plt.subplot(1, 2, 1)\n",
        "    plt.plot(x, acc, 'b', label='Training acc')\n",
        "    plt.plot(x, val_acc, 'r', label='Validation acc')\n",
        "    plt.title('Training and validation accuracy')\n",
        "    plt.legend()\n",
        "    plt.subplot(1, 2, 2)\n",
        "    plt.plot(x, loss, 'b', label='Training loss')\n",
        "    plt.plot(x, val_loss, 'r', label='Validation loss')\n",
        "    plt.title('Training and validation loss')\n",
        "    plt.legend()"
      ],
      "execution_count": 5,
      "outputs": []
    },
    {
      "cell_type": "code",
      "metadata": {
        "id": "tVcwFNWBzvLM",
        "colab": {
          "base_uri": "https://localhost:8080/",
          "height": 181,
          "referenced_widgets": [
            "db6bb347031a4ef58f7e3ac4dbc48ba0",
            "ada15b0c18ef4bd18c01cccfbad33ac9",
            "5fad0261949343299c7c1079f9a99b84",
            "faa6753b84724895828b941b984535f2",
            "41bfdce0d12a4b79b8e9b5c494a5ad1f",
            "4809e46518fe4d35a008baffc3f4ce89",
            "12f59bc8593d4fad9ed8bcf1707f931f",
            "a1f17df1b03d40a0b77949ce1f641a56",
            "eb1c77946e84447cac119663a9110beb",
            "b717fad22fbf40a18f00051b178803ed",
            "49fa4f1617334da08aea17fd13eec36e",
            "acc320d900424698b3132c68dc0a3add",
            "747c622721d645b096ab79bb00744844",
            "801c6d24c6644b21a2f1e0a2d86d8a9b",
            "b22b4af538914151abc13b81023923d3",
            "57023948bbff422dab33dfc1b28015c2"
          ]
        },
        "outputId": "1c8daa8f-afc0-4b72-b8f0-38f315010226"
      },
      "source": [
        "dataset = pd.read_csv('/content/drive/MyDrive/data/gold_dataset.csv')\n",
        "dataset = preprocess.auto_preprocess(dataframe=dataset, stop_words_type='custom', stemming = True)\n",
        "train, test = train_test_split(dataset, test_size=0.2, random_state=42)\n",
        "train_vectors, train_labels_list, test_vectors, test_labels_list, vocab_size, maxlen = create_vector_from_data(train_data_df=train, test_data_df=test)"
      ],
      "execution_count": 6,
      "outputs": [
        {
          "output_type": "stream",
          "text": [
            "custom stop words selected\n"
          ],
          "name": "stdout"
        },
        {
          "output_type": "display_data",
          "data": {
            "application/vnd.jupyter.widget-view+json": {
              "model_id": "db6bb347031a4ef58f7e3ac4dbc48ba0",
              "version_minor": 0,
              "version_major": 2
            },
            "text/plain": [
              "HBox(children=(FloatProgress(value=0.0, description='Downloading', max=434.0, style=ProgressStyle(description_…"
            ]
          },
          "metadata": {
            "tags": []
          }
        },
        {
          "output_type": "stream",
          "text": [
            "\n"
          ],
          "name": "stdout"
        },
        {
          "output_type": "display_data",
          "data": {
            "application/vnd.jupyter.widget-view+json": {
              "model_id": "eb1c77946e84447cac119663a9110beb",
              "version_minor": 0,
              "version_major": 2
            },
            "text/plain": [
              "HBox(children=(FloatProgress(value=0.0, description='Downloading', max=1215509.0, style=ProgressStyle(descript…"
            ]
          },
          "metadata": {
            "tags": []
          }
        },
        {
          "output_type": "stream",
          "text": [
            "\n",
            "there is no outlier in data\n",
            "auto preprocess completed done on dataframe!\n",
            "Enjoy!\n"
          ],
          "name": "stdout"
        }
      ]
    },
    {
      "cell_type": "code",
      "metadata": {
        "id": "2ZskqoduH6Rw"
      },
      "source": [
        "dataset = tf.data.Dataset.from_tensor_slices((train_vectors, train_labels_list))\n",
        "train_data = dataset.shuffle(100).batch(32)\n",
        "test_dataset = tf.data.Dataset.from_tensor_slices((test_vectors, test_labels_list))\n",
        "test_data = test_dataset.batch(64)"
      ],
      "execution_count": 7,
      "outputs": []
    },
    {
      "cell_type": "code",
      "metadata": {
        "id": "qIOVcjFRACXH",
        "colab": {
          "base_uri": "https://localhost:8080/"
        },
        "outputId": "08fa7bfe-8d89-4402-f0ae-b721d4dedc68"
      },
      "source": [
        "checkpoint_filepath = './'\n",
        "model_checkpoint_callback = tf.keras.callbacks.ModelCheckpoint(\n",
        "    filepath=checkpoint_filepath,\n",
        "    save_weights_only=True,\n",
        "    monitor='val_accuracy',\n",
        "    mode='max',\n",
        "    save_best_only=True)\n",
        "model = Sequential()\n",
        "model.add(Embedding(input_dim=vocab_size, output_dim=300, input_length=maxlen, mask_zero=True))\n",
        "model.add(LSTM(128, dropout=0.3))\n",
        "model.add(Dense(1, activation='sigmoid'))\n",
        "adam = tf.keras.optimizers.Adam(learning_rate=0.001)\n",
        "model.compile(loss=\"binary_crossentropy\", optimizer=adam, metrics=[\"accuracy\"])\n",
        "model.summary()\n",
        "history = model.fit(train_data, epochs=7, validation_data = test_data, callbacks=[model_checkpoint_callback])"
      ],
      "execution_count": 8,
      "outputs": [
        {
          "output_type": "stream",
          "text": [
            "Model: \"sequential\"\n",
            "_________________________________________________________________\n",
            "Layer (type)                 Output Shape              Param #   \n",
            "=================================================================\n",
            "embedding (Embedding)        (None, 108, 300)          1118100   \n",
            "_________________________________________________________________\n",
            "lstm (LSTM)                  (None, 128)               219648    \n",
            "_________________________________________________________________\n",
            "dense (Dense)                (None, 1)                 129       \n",
            "=================================================================\n",
            "Total params: 1,337,877\n",
            "Trainable params: 1,337,877\n",
            "Non-trainable params: 0\n",
            "_________________________________________________________________\n",
            "Epoch 1/7\n",
            "60/60 [==============================] - 27s 49ms/step - loss: 0.5829 - accuracy: 0.7183 - val_loss: 0.2441 - val_accuracy: 0.9292\n",
            "Epoch 2/7\n",
            "60/60 [==============================] - 2s 25ms/step - loss: 0.1788 - accuracy: 0.9408 - val_loss: 0.2285 - val_accuracy: 0.9396\n",
            "Epoch 3/7\n",
            "60/60 [==============================] - 2s 26ms/step - loss: 0.0826 - accuracy: 0.9780 - val_loss: 0.2392 - val_accuracy: 0.9438\n",
            "Epoch 4/7\n",
            "60/60 [==============================] - 2s 26ms/step - loss: 0.0688 - accuracy: 0.9850 - val_loss: 0.2380 - val_accuracy: 0.9375\n",
            "Epoch 5/7\n",
            "60/60 [==============================] - 1s 25ms/step - loss: 0.0501 - accuracy: 0.9865 - val_loss: 0.3012 - val_accuracy: 0.9208\n",
            "Epoch 6/7\n",
            "60/60 [==============================] - 2s 25ms/step - loss: 0.0253 - accuracy: 0.9936 - val_loss: 0.3529 - val_accuracy: 0.9167\n",
            "Epoch 7/7\n",
            "60/60 [==============================] - 2s 25ms/step - loss: 0.0114 - accuracy: 0.9953 - val_loss: 0.3778 - val_accuracy: 0.9125\n"
          ],
          "name": "stdout"
        }
      ]
    },
    {
      "cell_type": "code",
      "metadata": {
        "id": "_T1DmpwU8dm5"
      },
      "source": [
        "# keras.utils.plot_model(model)"
      ],
      "execution_count": 9,
      "outputs": []
    },
    {
      "cell_type": "code",
      "metadata": {
        "colab": {
          "base_uri": "https://localhost:8080/",
          "height": 336
        },
        "id": "fTKjpayhz6xj",
        "outputId": "0e282ea0-2b08-4c2f-c404-4bcf0e7b7437"
      },
      "source": [
        "plot_history(history)"
      ],
      "execution_count": 10,
      "outputs": [
        {
          "output_type": "display_data",
          "data": {
            "image/png": "[encoded data removed]",
            "text/plain": [
              "<Figure size 864x360 with 2 Axes>"
            ]
          },
          "metadata": {
            "tags": [],
            "needs_background": "light"
          }
        }
      ]
    },
    {
      "cell_type": "code",
      "metadata": {
        "id": "ih0Bcz_Y-et7",
        "colab": {
          "base_uri": "https://localhost:8080/"
        },
        "outputId": "7aa2b093-f527-4db6-da5e-8a1d616cc454"
      },
      "source": [
        "model.load_weights(checkpoint_filepath)"
      ],
      "execution_count": 11,
      "outputs": [
        {
          "output_type": "execute_result",
          "data": {
            "text/plain": [
              "<tensorflow.python.training.tracking.util.CheckpointLoadStatus at 0x7f7e202b6d50>"
            ]
          },
          "metadata": {
            "tags": []
          },
          "execution_count": 11
        }
      ]
    },
    {
      "cell_type": "code",
      "metadata": {
        "id": "SZqKprnutwsK"
      },
      "source": [
        "results = (model.predict(test_data) > 0.5).astype(\"int32\")"
      ],
      "execution_count": 12,
      "outputs": []
    },
    {
      "cell_type": "code",
      "metadata": {
        "id": "3pZYWawBBYEH"
      },
      "source": [
        "from sklearn.metrics import accuracy_score\n",
        "from sklearn.metrics import precision_score\n",
        "from sklearn.metrics import recall_score\n",
        "from sklearn.metrics import f1_score"
      ],
      "execution_count": 13,
      "outputs": []
    },
    {
      "cell_type": "code",
      "metadata": {
        "id": "hp68eTZPB56l",
        "colab": {
          "base_uri": "https://localhost:8080/"
        },
        "outputId": "09c4722c-0bf2-45c0-d714-91caefb24ca4"
      },
      "source": [
        "f1 = (f1_score(test_labels_list,results ))*100\n",
        "f1 = round(f1,2)\n",
        "print('f1 score is: ',f1)\n",
        "\n",
        "accuracy = (accuracy_score(test_labels_list,results ))*100\n",
        "accuracy = round(accuracy,2)\n",
        "print('accuracy score is: ',accuracy)\n",
        "\n",
        "precision = (precision_score(test_labels_list,results ))*100\n",
        "precision = round(precision,2)\n",
        "print('precision score is: ',precision)\n",
        "\n",
        "recall = (recall_score(test_labels_list,results ))*100\n",
        "recall = round(recall,2)\n",
        "print('recall score is: ',recall)\n"
      ],
      "execution_count": 14,
      "outputs": [
        {
          "output_type": "stream",
          "text": [
            "f1 score is:  94.52\n",
            "accuracy score is:  94.38\n",
            "precision score is:  93.95\n",
            "recall score is:  95.1\n"
          ],
          "name": "stdout"
        }
      ]
    }
  ]
}