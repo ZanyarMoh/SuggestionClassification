{
  "nbformat": 4,
  "nbformat_minor": 0,
  "metadata": {
    "accelerator": "GPU",
    "colab": {
      "name": "parsbert_gold_dataset_generate_silver_dataset.ipynb",
      "provenance": [],
      "collapsed_sections": []
    },
    "kernelspec": {
      "display_name": "Python 3",
      "name": "python3"
    },
    "widgets": {
      "application/vnd.jupyter.widget-state+json": {
        "f23580525d9744128649b19c836a63f6": {
          "model_module": "@jupyter-widgets/controls",
          "model_name": "HBoxModel",
          "state": {
            "_view_name": "HBoxView",
            "_dom_classes": [],
            "_model_name": "HBoxModel",
            "_view_module": "@jupyter-widgets/controls",
            "_model_module_version": "1.5.0",
            "_view_count": null,
            "_view_module_version": "1.5.0",
            "box_style": "",
            "layout": "IPY_MODEL_1b410ae56a304bc8a0244486a5a7c689",
            "_model_module": "@jupyter-widgets/controls",
            "children": [
              "IPY_MODEL_b6711ece5340407ba193ecd349be40ed",
              "IPY_MODEL_a85bbf74264542439ceb91ed33c00750"
            ]
          }
        },
        "1b410ae56a304bc8a0244486a5a7c689": {
          "model_module": "@jupyter-widgets/base",
          "model_name": "LayoutModel",
          "state": {
            "_view_name": "LayoutView",
            "grid_template_rows": null,
            "right": null,
            "justify_content": null,
            "_view_module": "@jupyter-widgets/base",
            "overflow": null,
            "_model_module_version": "1.2.0",
            "_view_count": null,
            "flex_flow": null,
            "width": null,
            "min_width": null,
            "border": null,
            "align_items": null,
            "bottom": null,
            "_model_module": "@jupyter-widgets/base",
            "top": null,
            "grid_column": null,
            "overflow_y": null,
            "overflow_x": null,
            "grid_auto_flow": null,
            "grid_area": null,
            "grid_template_columns": null,
            "flex": null,
            "_model_name": "LayoutModel",
            "justify_items": null,
            "grid_row": null,
            "max_height": null,
            "align_content": null,
            "visibility": null,
            "align_self": null,
            "height": null,
            "min_height": null,
            "padding": null,
            "grid_auto_rows": null,
            "grid_gap": null,
            "max_width": null,
            "order": null,
            "_view_module_version": "1.2.0",
            "grid_template_areas": null,
            "object_position": null,
            "object_fit": null,
            "grid_auto_columns": null,
            "margin": null,
            "display": null,
            "left": null
          }
        },
        "b6711ece5340407ba193ecd349be40ed": {
          "model_module": "@jupyter-widgets/controls",
          "model_name": "FloatProgressModel",
          "state": {
            "_view_name": "ProgressView",
            "style": "IPY_MODEL_3efea0784cdf48bea1a0a8555a1ae6f3",
            "_dom_classes": [],
            "description": "Downloading: 100%",
            "_model_name": "FloatProgressModel",
            "bar_style": "success",
            "max": 1215509,
            "_view_module": "@jupyter-widgets/controls",
            "_model_module_version": "1.5.0",
            "value": 1215509,
            "_view_count": null,
            "_view_module_version": "1.5.0",
            "orientation": "horizontal",
            "min": 0,
            "description_tooltip": null,
            "_model_module": "@jupyter-widgets/controls",
            "layout": "IPY_MODEL_8374a0d0cbd2443f8ef00f944a91a687"
          }
        },
        "a85bbf74264542439ceb91ed33c00750": {
          "model_module": "@jupyter-widgets/controls",
          "model_name": "HTMLModel",
          "state": {
            "_view_name": "HTMLView",
            "style": "IPY_MODEL_73a093afc3434fd1aadcfb3970c1f217",
            "_dom_classes": [],
            "description": "",
            "_model_name": "HTMLModel",
            "placeholder": "​",
            "_view_module": "@jupyter-widgets/controls",
            "_model_module_version": "1.5.0",
            "value": " 1.22M/1.22M [00:01&lt;00:00, 746kB/s]",
            "_view_count": null,
            "_view_module_version": "1.5.0",
            "description_tooltip": null,
            "_model_module": "@jupyter-widgets/controls",
            "layout": "IPY_MODEL_d732cf0fa7c04f7eaeb4211278b1c9d9"
          }
        },
        "3efea0784cdf48bea1a0a8555a1ae6f3": {
          "model_module": "@jupyter-widgets/controls",
          "model_name": "ProgressStyleModel",
          "state": {
            "_view_name": "StyleView",
            "_model_name": "ProgressStyleModel",
            "description_width": "initial",
            "_view_module": "@jupyter-widgets/base",
            "_model_module_version": "1.5.0",
            "_view_count": null,
            "_view_module_version": "1.2.0",
            "bar_color": null,
            "_model_module": "@jupyter-widgets/controls"
          }
        },
        "8374a0d0cbd2443f8ef00f944a91a687": {
          "model_module": "@jupyter-widgets/base",
          "model_name": "LayoutModel",
          "state": {
            "_view_name": "LayoutView",
            "grid_template_rows": null,
            "right": null,
            "justify_content": null,
            "_view_module": "@jupyter-widgets/base",
            "overflow": null,
            "_model_module_version": "1.2.0",
            "_view_count": null,
            "flex_flow": null,
            "width": null,
            "min_width": null,
            "border": null,
            "align_items": null,
            "bottom": null,
            "_model_module": "@jupyter-widgets/base",
            "top": null,
            "grid_column": null,
            "overflow_y": null,
            "overflow_x": null,
            "grid_auto_flow": null,
            "grid_area": null,
            "grid_template_columns": null,
            "flex": null,
            "_model_name": "LayoutModel",
            "justify_items": null,
            "grid_row": null,
            "max_height": null,
            "align_content": null,
            "visibility": null,
            "align_self": null,
            "height": null,
            "min_height": null,
            "padding": null,
            "grid_auto_rows": null,
            "grid_gap": null,
            "max_width": null,
            "order": null,
            "_view_module_version": "1.2.0",
            "grid_template_areas": null,
            "object_position": null,
            "object_fit": null,
            "grid_auto_columns": null,
            "margin": null,
            "display": null,
            "left": null
          }
        },
        "73a093afc3434fd1aadcfb3970c1f217": {
          "model_module": "@jupyter-widgets/controls",
          "model_name": "DescriptionStyleModel",
          "state": {
            "_view_name": "StyleView",
            "_model_name": "DescriptionStyleModel",
            "description_width": "",
            "_view_module": "@jupyter-widgets/base",
            "_model_module_version": "1.5.0",
            "_view_count": null,
            "_view_module_version": "1.2.0",
            "_model_module": "@jupyter-widgets/controls"
          }
        },
        "d732cf0fa7c04f7eaeb4211278b1c9d9": {
          "model_module": "@jupyter-widgets/base",
          "model_name": "LayoutModel",
          "state": {
            "_view_name": "LayoutView",
            "grid_template_rows": null,
            "right": null,
            "justify_content": null,
            "_view_module": "@jupyter-widgets/base",
            "overflow": null,
            "_model_module_version": "1.2.0",
            "_view_count": null,
            "flex_flow": null,
            "width": null,
            "min_width": null,
            "border": null,
            "align_items": null,
            "bottom": null,
            "_model_module": "@jupyter-widgets/base",
            "top": null,
            "grid_column": null,
            "overflow_y": null,
            "overflow_x": null,
            "grid_auto_flow": null,
            "grid_area": null,
            "grid_template_columns": null,
            "flex": null,
            "_model_name": "LayoutModel",
            "justify_items": null,
            "grid_row": null,
            "max_height": null,
            "align_content": null,
            "visibility": null,
            "align_self": null,
            "height": null,
            "min_height": null,
            "padding": null,
            "grid_auto_rows": null,
            "grid_gap": null,
            "max_width": null,
            "order": null,
            "_view_module_version": "1.2.0",
            "grid_template_areas": null,
            "object_position": null,
            "object_fit": null,
            "grid_auto_columns": null,
            "margin": null,
            "display": null,
            "left": null
          }
        },
        "6262a1bb63db4b39b8da79745a6433e1": {
          "model_module": "@jupyter-widgets/controls",
          "model_name": "HBoxModel",
          "state": {
            "_view_name": "HBoxView",
            "_dom_classes": [],
            "_model_name": "HBoxModel",
            "_view_module": "@jupyter-widgets/controls",
            "_model_module_version": "1.5.0",
            "_view_count": null,
            "_view_module_version": "1.5.0",
            "box_style": "",
            "layout": "IPY_MODEL_cd662d1161f24fbbaab6918861a5159f",
            "_model_module": "@jupyter-widgets/controls",
            "children": [
              "IPY_MODEL_7337c643d9c94f0fb64629af960c4de4",
              "IPY_MODEL_85dc902a637244e0a4497abe6c6c6371"
            ]
          }
        },
        "cd662d1161f24fbbaab6918861a5159f": {
          "model_module": "@jupyter-widgets/base",
          "model_name": "LayoutModel",
          "state": {
            "_view_name": "LayoutView",
            "grid_template_rows": null,
            "right": null,
            "justify_content": null,
            "_view_module": "@jupyter-widgets/base",
            "overflow": null,
            "_model_module_version": "1.2.0",
            "_view_count": null,
            "flex_flow": null,
            "width": null,
            "min_width": null,
            "border": null,
            "align_items": null,
            "bottom": null,
            "_model_module": "@jupyter-widgets/base",
            "top": null,
            "grid_column": null,
            "overflow_y": null,
            "overflow_x": null,
            "grid_auto_flow": null,
            "grid_area": null,
            "grid_template_columns": null,
            "flex": null,
            "_model_name": "LayoutModel",
            "justify_items": null,
            "grid_row": null,
            "max_height": null,
            "align_content": null,
            "visibility": null,
            "align_self": null,
            "height": null,
            "min_height": null,
            "padding": null,
            "grid_auto_rows": null,
            "grid_gap": null,
            "max_width": null,
            "order": null,
            "_view_module_version": "1.2.0",
            "grid_template_areas": null,
            "object_position": null,
            "object_fit": null,
            "grid_auto_columns": null,
            "margin": null,
            "display": null,
            "left": null
          }
        },
        "7337c643d9c94f0fb64629af960c4de4": {
          "model_module": "@jupyter-widgets/controls",
          "model_name": "FloatProgressModel",
          "state": {
            "_view_name": "ProgressView",
            "style": "IPY_MODEL_52f626359da74464a232fe66b01c8172",
            "_dom_classes": [],
            "description": "Downloading: 100%",
            "_model_name": "FloatProgressModel",
            "bar_style": "success",
            "max": 434,
            "_view_module": "@jupyter-widgets/controls",
            "_model_module_version": "1.5.0",
            "value": 434,
            "_view_count": null,
            "_view_module_version": "1.5.0",
            "orientation": "horizontal",
            "min": 0,
            "description_tooltip": null,
            "_model_module": "@jupyter-widgets/controls",
            "layout": "IPY_MODEL_63c101f7a9be482a94de52630e76efe5"
          }
        },
        "85dc902a637244e0a4497abe6c6c6371": {
          "model_module": "@jupyter-widgets/controls",
          "model_name": "HTMLModel",
          "state": {
            "_view_name": "HTMLView",
            "style": "IPY_MODEL_abd56d6c801f4d2581709678cf29f969",
            "_dom_classes": [],
            "description": "",
            "_model_name": "HTMLModel",
            "placeholder": "​",
            "_view_module": "@jupyter-widgets/controls",
            "_model_module_version": "1.5.0",
            "value": " 434/434 [00:26&lt;00:00, 16.5B/s]",
            "_view_count": null,
            "_view_module_version": "1.5.0",
            "description_tooltip": null,
            "_model_module": "@jupyter-widgets/controls",
            "layout": "IPY_MODEL_b1912cc03be543d9a49273858e70251e"
          }
        },
        "52f626359da74464a232fe66b01c8172": {
          "model_module": "@jupyter-widgets/controls",
          "model_name": "ProgressStyleModel",
          "state": {
            "_view_name": "StyleView",
            "_model_name": "ProgressStyleModel",
            "description_width": "initial",
            "_view_module": "@jupyter-widgets/base",
            "_model_module_version": "1.5.0",
            "_view_count": null,
            "_view_module_version": "1.2.0",
            "bar_color": null,
            "_model_module": "@jupyter-widgets/controls"
          }
        },
        "63c101f7a9be482a94de52630e76efe5": {
          "model_module": "@jupyter-widgets/base",
          "model_name": "LayoutModel",
          "state": {
            "_view_name": "LayoutView",
            "grid_template_rows": null,
            "right": null,
            "justify_content": null,
            "_view_module": "@jupyter-widgets/base",
            "overflow": null,
            "_model_module_version": "1.2.0",
            "_view_count": null,
            "flex_flow": null,
            "width": null,
            "min_width": null,
            "border": null,
            "align_items": null,
            "bottom": null,
            "_model_module": "@jupyter-widgets/base",
            "top": null,
            "grid_column": null,
            "overflow_y": null,
            "overflow_x": null,
            "grid_auto_flow": null,
            "grid_area": null,
            "grid_template_columns": null,
            "flex": null,
            "_model_name": "LayoutModel",
            "justify_items": null,
            "grid_row": null,
            "max_height": null,
            "align_content": null,
            "visibility": null,
            "align_self": null,
            "height": null,
            "min_height": null,
            "padding": null,
            "grid_auto_rows": null,
            "grid_gap": null,
            "max_width": null,
            "order": null,
            "_view_module_version": "1.2.0",
            "grid_template_areas": null,
            "object_position": null,
            "object_fit": null,
            "grid_auto_columns": null,
            "margin": null,
            "display": null,
            "left": null
          }
        },
        "abd56d6c801f4d2581709678cf29f969": {
          "model_module": "@jupyter-widgets/controls",
          "model_name": "DescriptionStyleModel",
          "state": {
            "_view_name": "StyleView",
            "_model_name": "DescriptionStyleModel",
            "description_width": "",
            "_view_module": "@jupyter-widgets/base",
            "_model_module_version": "1.5.0",
            "_view_count": null,
            "_view_module_version": "1.2.0",
            "_model_module": "@jupyter-widgets/controls"
          }
        },
        "b1912cc03be543d9a49273858e70251e": {
          "model_module": "@jupyter-widgets/base",
          "model_name": "LayoutModel",
          "state": {
            "_view_name": "LayoutView",
            "grid_template_rows": null,
            "right": null,
            "justify_content": null,
            "_view_module": "@jupyter-widgets/base",
            "overflow": null,
            "_model_module_version": "1.2.0",
            "_view_count": null,
            "flex_flow": null,
            "width": null,
            "min_width": null,
            "border": null,
            "align_items": null,
            "bottom": null,
            "_model_module": "@jupyter-widgets/base",
            "top": null,
            "grid_column": null,
            "overflow_y": null,
            "overflow_x": null,
            "grid_auto_flow": null,
            "grid_area": null,
            "grid_template_columns": null,
            "flex": null,
            "_model_name": "LayoutModel",
            "justify_items": null,
            "grid_row": null,
            "max_height": null,
            "align_content": null,
            "visibility": null,
            "align_self": null,
            "height": null,
            "min_height": null,
            "padding": null,
            "grid_auto_rows": null,
            "grid_gap": null,
            "max_width": null,
            "order": null,
            "_view_module_version": "1.2.0",
            "grid_template_areas": null,
            "object_position": null,
            "object_fit": null,
            "grid_auto_columns": null,
            "margin": null,
            "display": null,
            "left": null
          }
        },
        "0d4e58f7f03e4722a9be3b7eec8a8fe1": {
          "model_module": "@jupyter-widgets/controls",
          "model_name": "HBoxModel",
          "state": {
            "_view_name": "HBoxView",
            "_dom_classes": [],
            "_model_name": "HBoxModel",
            "_view_module": "@jupyter-widgets/controls",
            "_model_module_version": "1.5.0",
            "_view_count": null,
            "_view_module_version": "1.5.0",
            "box_style": "",
            "layout": "IPY_MODEL_9d85124aa4ba4ce8b46c992ed7469730",
            "_model_module": "@jupyter-widgets/controls",
            "children": [
              "IPY_MODEL_0b27db8c1abb49fa9ea658db907676cb",
              "IPY_MODEL_5da4da36975444c7b1e06aec3ec636df"
            ]
          }
        },
        "9d85124aa4ba4ce8b46c992ed7469730": {
          "model_module": "@jupyter-widgets/base",
          "model_name": "LayoutModel",
          "state": {
            "_view_name": "LayoutView",
            "grid_template_rows": null,
            "right": null,
            "justify_content": null,
            "_view_module": "@jupyter-widgets/base",
            "overflow": null,
            "_model_module_version": "1.2.0",
            "_view_count": null,
            "flex_flow": null,
            "width": null,
            "min_width": null,
            "border": null,
            "align_items": null,
            "bottom": null,
            "_model_module": "@jupyter-widgets/base",
            "top": null,
            "grid_column": null,
            "overflow_y": null,
            "overflow_x": null,
            "grid_auto_flow": null,
            "grid_area": null,
            "grid_template_columns": null,
            "flex": null,
            "_model_name": "LayoutModel",
            "justify_items": null,
            "grid_row": null,
            "max_height": null,
            "align_content": null,
            "visibility": null,
            "align_self": null,
            "height": null,
            "min_height": null,
            "padding": null,
            "grid_auto_rows": null,
            "grid_gap": null,
            "max_width": null,
            "order": null,
            "_view_module_version": "1.2.0",
            "grid_template_areas": null,
            "object_position": null,
            "object_fit": null,
            "grid_auto_columns": null,
            "margin": null,
            "display": null,
            "left": null
          }
        },
        "0b27db8c1abb49fa9ea658db907676cb": {
          "model_module": "@jupyter-widgets/controls",
          "model_name": "FloatProgressModel",
          "state": {
            "_view_name": "ProgressView",
            "style": "IPY_MODEL_8ed9d7d14ea74212a0e4729bb8657367",
            "_dom_classes": [],
            "description": "Downloading: 100%",
            "_model_name": "FloatProgressModel",
            "bar_style": "success",
            "max": 963211760,
            "_view_module": "@jupyter-widgets/controls",
            "_model_module_version": "1.5.0",
            "value": 963211760,
            "_view_count": null,
            "_view_module_version": "1.5.0",
            "orientation": "horizontal",
            "min": 0,
            "description_tooltip": null,
            "_model_module": "@jupyter-widgets/controls",
            "layout": "IPY_MODEL_881649d7d1214eada05d7ed37b07c43b"
          }
        },
        "5da4da36975444c7b1e06aec3ec636df": {
          "model_module": "@jupyter-widgets/controls",
          "model_name": "HTMLModel",
          "state": {
            "_view_name": "HTMLView",
            "style": "IPY_MODEL_6afa0772ca564074a797b98ba62a4fb1",
            "_dom_classes": [],
            "description": "",
            "_model_name": "HTMLModel",
            "placeholder": "​",
            "_view_module": "@jupyter-widgets/controls",
            "_model_module_version": "1.5.0",
            "value": " 963M/963M [00:25&lt;00:00, 37.6MB/s]",
            "_view_count": null,
            "_view_module_version": "1.5.0",
            "description_tooltip": null,
            "_model_module": "@jupyter-widgets/controls",
            "layout": "IPY_MODEL_7ce627f6eac24e6589a24fbb197c8890"
          }
        },
        "8ed9d7d14ea74212a0e4729bb8657367": {
          "model_module": "@jupyter-widgets/controls",
          "model_name": "ProgressStyleModel",
          "state": {
            "_view_name": "StyleView",
            "_model_name": "ProgressStyleModel",
            "description_width": "initial",
            "_view_module": "@jupyter-widgets/base",
            "_model_module_version": "1.5.0",
            "_view_count": null,
            "_view_module_version": "1.2.0",
            "bar_color": null,
            "_model_module": "@jupyter-widgets/controls"
          }
        },
        "881649d7d1214eada05d7ed37b07c43b": {
          "model_module": "@jupyter-widgets/base",
          "model_name": "LayoutModel",
          "state": {
            "_view_name": "LayoutView",
            "grid_template_rows": null,
            "right": null,
            "justify_content": null,
            "_view_module": "@jupyter-widgets/base",
            "overflow": null,
            "_model_module_version": "1.2.0",
            "_view_count": null,
            "flex_flow": null,
            "width": null,
            "min_width": null,
            "border": null,
            "align_items": null,
            "bottom": null,
            "_model_module": "@jupyter-widgets/base",
            "top": null,
            "grid_column": null,
            "overflow_y": null,
            "overflow_x": null,
            "grid_auto_flow": null,
            "grid_area": null,
            "grid_template_columns": null,
            "flex": null,
            "_model_name": "LayoutModel",
            "justify_items": null,
            "grid_row": null,
            "max_height": null,
            "align_content": null,
            "visibility": null,
            "align_self": null,
            "height": null,
            "min_height": null,
            "padding": null,
            "grid_auto_rows": null,
            "grid_gap": null,
            "max_width": null,
            "order": null,
            "_view_module_version": "1.2.0",
            "grid_template_areas": null,
            "object_position": null,
            "object_fit": null,
            "grid_auto_columns": null,
            "margin": null,
            "display": null,
            "left": null
          }
        },
        "6afa0772ca564074a797b98ba62a4fb1": {
          "model_module": "@jupyter-widgets/controls",
          "model_name": "DescriptionStyleModel",
          "state": {
            "_view_name": "StyleView",
            "_model_name": "DescriptionStyleModel",
            "description_width": "",
            "_view_module": "@jupyter-widgets/base",
            "_model_module_version": "1.5.0",
            "_view_count": null,
            "_view_module_version": "1.2.0",
            "_model_module": "@jupyter-widgets/controls"
          }
        },
        "7ce627f6eac24e6589a24fbb197c8890": {
          "model_module": "@jupyter-widgets/base",
          "model_name": "LayoutModel",
          "state": {
            "_view_name": "LayoutView",
            "grid_template_rows": null,
            "right": null,
            "justify_content": null,
            "_view_module": "@jupyter-widgets/base",
            "overflow": null,
            "_model_module_version": "1.2.0",
            "_view_count": null,
            "flex_flow": null,
            "width": null,
            "min_width": null,
            "border": null,
            "align_items": null,
            "bottom": null,
            "_model_module": "@jupyter-widgets/base",
            "top": null,
            "grid_column": null,
            "overflow_y": null,
            "overflow_x": null,
            "grid_auto_flow": null,
            "grid_area": null,
            "grid_template_columns": null,
            "flex": null,
            "_model_name": "LayoutModel",
            "justify_items": null,
            "grid_row": null,
            "max_height": null,
            "align_content": null,
            "visibility": null,
            "align_self": null,
            "height": null,
            "min_height": null,
            "padding": null,
            "grid_auto_rows": null,
            "grid_gap": null,
            "max_width": null,
            "order": null,
            "_view_module_version": "1.2.0",
            "grid_template_areas": null,
            "object_position": null,
            "object_fit": null,
            "grid_auto_columns": null,
            "margin": null,
            "display": null,
            "left": null
          }
        }
      }
    }
  },
  "cells": [
    {
      "cell_type": "markdown",
      "metadata": {
        "id": "YwR1Qc1rQGwQ"
      },
      "source": [
        "**To convert Persian sentences to ParsBERT input format, the solution provided in this link has been used.**\n",
        "\n",
        "https://sci2lab.github.io/ml_tutorial/bert_farsi_sentiment/"
      ]
    },
    {
      "cell_type": "code",
      "metadata": {
        "id": "Pp3pEeb3Gfn3"
      },
      "source": [
        "!pip install transformers\n",
        "!pip install PersianStemmer\n",
        "!pip install https://github.com/htaghizadeh/PersianStemmer-Python/archive/master.zip --upgrade\n",
        "!pip install hazm\n",
        "!pip install demoji"
      ],
      "execution_count": null,
      "outputs": []
    },
    {
      "cell_type": "code",
      "metadata": {
        "id": "mxl-kD83w0g_",
        "colab": {
          "base_uri": "https://localhost:8080/"
        },
        "outputId": "63f5bb36-9c21-4445-e063-8ef9b74d76f1"
      },
      "source": [
        "from google.colab import drive\n",
        "import sys\n",
        "drive.mount('/content/drive')\n",
        "sys.path.insert(0, '/content/drive/My Drive/modules') #Adds preprocessing module to current session."
      ],
      "execution_count": null,
      "outputs": [
        {
          "output_type": "stream",
          "text": [
            "Mounted at /content/drive\n"
          ],
          "name": "stdout"
        }
      ]
    },
    {
      "cell_type": "code",
      "metadata": {
        "id": "Tosqb1FjzVVh",
        "colab": {
          "base_uri": "https://localhost:8080/"
        },
        "outputId": "1084a812-ac42-4798-d235-a677b80a4d13"
      },
      "source": [
        "import pandas as pd\n",
        "from sklearn.model_selection import train_test_split\n",
        "from transformers import InputExample, glue_convert_examples_to_features, TFBertModel, TFBertPreTrainedModel, TFBertForSequenceClassification, BertTokenizer\n",
        "import numpy as np\n",
        "import tensorflow as tf\n",
        "import demoji\n",
        "import random\n",
        "import matplotlib.pyplot as plt\n",
        "import preprocess\n",
        "np.random.seed(42)\n",
        "tf.random.set_seed(42)\n",
        "demoji.download_codes()"
      ],
      "execution_count": null,
      "outputs": [
        {
          "output_type": "stream",
          "text": [
            "Downloading emoji data ...\n",
            "... OK (Got response in 0.39 seconds)\n",
            "Writing emoji data to /root/.demoji/codes.json ...\n",
            "... OK\n"
          ],
          "name": "stdout"
        }
      ]
    },
    {
      "cell_type": "code",
      "metadata": {
        "id": "vOVURF370ssY"
      },
      "source": [
        "def convert_data_into_input_example(data):\n",
        "    input_examples = []\n",
        "    for i in range(len(data)):\n",
        "        example = InputExample(\n",
        "            guid=None,\n",
        "            text_a=data.iloc[i]['sentence'],\n",
        "            text_b=None,\n",
        "            label=data.iloc[i]['label']\n",
        "        )\n",
        "        input_examples.append(example)\n",
        "    return input_examples"
      ],
      "execution_count": null,
      "outputs": []
    },
    {
      "cell_type": "code",
      "metadata": {
        "id": "3dfh2OtP04FV"
      },
      "source": [
        "def solution(bdset):\n",
        "    \"\"\" Create a list of input tensors required to be in the first argument of the\n",
        "        model call function for training. e.g. `model([input_ids, attention_mask, token_type_ids])`.\n",
        "    \"\"\"\n",
        "    input_ids, attention_mask, token_type_ids, label = [], [], [], []\n",
        "    for in_ex in bdset:\n",
        "        input_ids.append(in_ex.input_ids)\n",
        "        attention_mask.append(in_ex.attention_mask)\n",
        "        token_type_ids.append(in_ex.token_type_ids)\n",
        "        label.append(in_ex.label)\n",
        "\n",
        "    input_ids = np.vstack(input_ids)\n",
        "    attention_mask = np.vstack(attention_mask)\n",
        "    token_type_ids = np.vstack(token_type_ids)\n",
        "    label = np.vstack(label)\n",
        "    return [input_ids, attention_mask, token_type_ids], label"
      ],
      "execution_count": null,
      "outputs": []
    },
    {
      "cell_type": "code",
      "metadata": {
        "id": "o-bxyxGR1I9j"
      },
      "source": [
        "def example_to_features(input_ids, attention_masks, token_type_ids, y):\n",
        "    return {\"input_ids\": input_ids,\n",
        "            \"attention_mask\": attention_masks,\n",
        "            \"token_type_ids\": token_type_ids}, y"
      ],
      "execution_count": null,
      "outputs": []
    },
    {
      "cell_type": "code",
      "metadata": {
        "id": "Mfl6cCcYfuM9"
      },
      "source": [
        "def plot_history(history):\n",
        "    acc = history.history['accuracy']\n",
        "    val_acc = history.history['val_accuracy']\n",
        "    loss = history.history['loss']\n",
        "    val_loss = history.history['val_loss']\n",
        "    x = range(1, len(acc) + 1)\n",
        "    plt.figure(figsize=(12, 5))\n",
        "    plt.subplot(1, 2, 1)\n",
        "    plt.plot(x, acc, 'b', label='Training acc')\n",
        "    plt.plot(x, val_acc, 'r', label='Validation acc')\n",
        "    plt.title('Training and validation accuracy')\n",
        "    plt.legend()\n",
        "    plt.subplot(1, 2, 2)\n",
        "    plt.plot(x, loss, 'b', label='Training loss')\n",
        "    plt.plot(x, val_loss, 'r', label='Validation loss')\n",
        "    plt.title('Training and validation loss')\n",
        "    plt.legend()"
      ],
      "execution_count": null,
      "outputs": []
    },
    {
      "cell_type": "code",
      "metadata": {
        "id": "GAbh3I-b6ejK"
      },
      "source": [
        "dataset = pd.read_csv('/content/drive/MyDrive/data/gold_dataset.csv')\n",
        "dataset = preprocess.remove_emoji(dataset)\n",
        "dataset = dataset.astype({'label': 'str'})\n",
        "train_df, test_df = train_test_split(dataset, test_size=0.2, random_state=42)"
      ],
      "execution_count": null,
      "outputs": []
    },
    {
      "cell_type": "code",
      "metadata": {
        "id": "ydu96wbSIDoq"
      },
      "source": [
        "train_input_examples = convert_data_into_input_example(train_df)\n",
        "test_input_examples = convert_data_into_input_example(test_df)"
      ],
      "execution_count": null,
      "outputs": []
    },
    {
      "cell_type": "code",
      "metadata": {
        "id": "fLCNk0Rw0mJY",
        "colab": {
          "base_uri": "https://localhost:8080/",
          "height": 67,
          "referenced_widgets": [
            "f23580525d9744128649b19c836a63f6",
            "1b410ae56a304bc8a0244486a5a7c689",
            "b6711ece5340407ba193ecd349be40ed",
            "a85bbf74264542439ceb91ed33c00750",
            "3efea0784cdf48bea1a0a8555a1ae6f3",
            "8374a0d0cbd2443f8ef00f944a91a687",
            "73a093afc3434fd1aadcfb3970c1f217",
            "d732cf0fa7c04f7eaeb4211278b1c9d9"
          ]
        },
        "outputId": "cca3a86c-4696-4769-ed81-f60eeab76971"
      },
      "source": [
        "tokenizer = BertTokenizer.from_pretrained(\"HooshvareLab/bert-base-parsbert-uncased\")"
      ],
      "execution_count": null,
      "outputs": [
        {
          "output_type": "display_data",
          "data": {
            "application/vnd.jupyter.widget-view+json": {
              "model_id": "f23580525d9744128649b19c836a63f6",
              "version_minor": 0,
              "version_major": 2
            },
            "text/plain": [
              "HBox(children=(FloatProgress(value=0.0, description='Downloading', max=1215509.0, style=ProgressStyle(descript…"
            ]
          },
          "metadata": {
            "tags": []
          }
        },
        {
          "output_type": "stream",
          "text": [
            "\n"
          ],
          "name": "stdout"
        }
      ]
    },
    {
      "cell_type": "code",
      "metadata": {
        "id": "TQN0q3OZILav",
        "colab": {
          "base_uri": "https://localhost:8080/"
        },
        "outputId": "1ed75972-a666-4e1b-e359-7a3b40b5fca4"
      },
      "source": [
        "label_list = ['0', '1']\n",
        "\n",
        "MAX_SEQ_LENGTH = 160\n",
        "\n",
        "bert_train_dataset = glue_convert_examples_to_features(examples=train_input_examples, tokenizer=tokenizer,\n",
        "                                                          max_length=MAX_SEQ_LENGTH, task='mrpc', label_list=label_list)\n",
        "\n",
        "bert_test_dataset = glue_convert_examples_to_features(examples=test_input_examples, tokenizer=tokenizer,\n",
        "                                                        max_length=MAX_SEQ_LENGTH, task='mrpc', label_list=label_list)\n"
      ],
      "execution_count": null,
      "outputs": [
        {
          "output_type": "stream",
          "text": [
            "/usr/local/lib/python3.7/dist-packages/transformers/data/processors/glue.py:67: FutureWarning: This function will be removed from the library soon, preprocessing should be handled with the 🤗 Datasets library. You can have a look at this example script for pointers: https://github.com/huggingface/transformers/blob/master/examples/text-classification/run_glue.py\n",
            "  warnings.warn(DEPRECATION_WARNING.format(\"function\"), FutureWarning)\n",
            "/usr/local/lib/python3.7/dist-packages/transformers/data/processors/glue.py:175: FutureWarning: This processor will be removed from the library soon, preprocessing should be handled with the 🤗 Datasets library. You can have a look at this example script for pointers: https://github.com/huggingface/transformers/blob/master/examples/text-classification/run_glue.py\n",
            "  warnings.warn(DEPRECATION_WARNING.format(\"processor\"), FutureWarning)\n"
          ],
          "name": "stderr"
        }
      ]
    },
    {
      "cell_type": "code",
      "metadata": {
        "id": "a4NWOJxMIF_1"
      },
      "source": [
        "x_train, y_train = solution(bert_train_dataset)\n",
        "x_val, y_val = solution(bert_test_dataset)\n",
        "\n",
        "train_ds = tf.data.Dataset.from_tensor_slices((x_train[0], x_train[1], x_train[2], y_train)).map(example_to_features).shuffle(100).batch(32)\n",
        "test_ds = tf.data.Dataset.from_tensor_slices((x_val[0], x_val[1], x_val[2], y_val)).map(example_to_features).batch(64)"
      ],
      "execution_count": null,
      "outputs": []
    },
    {
      "cell_type": "code",
      "metadata": {
        "id": "APuowKH5IodH",
        "colab": {
          "base_uri": "https://localhost:8080/",
          "height": 210,
          "referenced_widgets": [
            "6262a1bb63db4b39b8da79745a6433e1",
            "cd662d1161f24fbbaab6918861a5159f",
            "7337c643d9c94f0fb64629af960c4de4",
            "85dc902a637244e0a4497abe6c6c6371",
            "52f626359da74464a232fe66b01c8172",
            "63c101f7a9be482a94de52630e76efe5",
            "abd56d6c801f4d2581709678cf29f969",
            "b1912cc03be543d9a49273858e70251e",
            "0d4e58f7f03e4722a9be3b7eec8a8fe1",
            "9d85124aa4ba4ce8b46c992ed7469730",
            "0b27db8c1abb49fa9ea658db907676cb",
            "5da4da36975444c7b1e06aec3ec636df",
            "8ed9d7d14ea74212a0e4729bb8657367",
            "881649d7d1214eada05d7ed37b07c43b",
            "6afa0772ca564074a797b98ba62a4fb1",
            "7ce627f6eac24e6589a24fbb197c8890"
          ]
        },
        "outputId": "7abf1b28-5404-4985-dbdb-68cac73f17c5"
      },
      "source": [
        "model = TFBertForSequenceClassification.from_pretrained('HooshvareLab/bert-base-parsbert-uncased') #ParsBert"
      ],
      "execution_count": null,
      "outputs": [
        {
          "output_type": "display_data",
          "data": {
            "application/vnd.jupyter.widget-view+json": {
              "model_id": "6262a1bb63db4b39b8da79745a6433e1",
              "version_minor": 0,
              "version_major": 2
            },
            "text/plain": [
              "HBox(children=(FloatProgress(value=0.0, description='Downloading', max=434.0, style=ProgressStyle(description_…"
            ]
          },
          "metadata": {
            "tags": []
          }
        },
        {
          "output_type": "stream",
          "text": [
            "\n"
          ],
          "name": "stdout"
        },
        {
          "output_type": "display_data",
          "data": {
            "application/vnd.jupyter.widget-view+json": {
              "model_id": "0d4e58f7f03e4722a9be3b7eec8a8fe1",
              "version_minor": 0,
              "version_major": 2
            },
            "text/plain": [
              "HBox(children=(FloatProgress(value=0.0, description='Downloading', max=963211760.0, style=ProgressStyle(descri…"
            ]
          },
          "metadata": {
            "tags": []
          }
        },
        {
          "output_type": "stream",
          "text": [
            "\n"
          ],
          "name": "stdout"
        },
        {
          "output_type": "stream",
          "text": [
            "All model checkpoint layers were used when initializing TFBertForSequenceClassification.\n",
            "\n",
            "Some layers of TFBertForSequenceClassification were not initialized from the model checkpoint at HooshvareLab/bert-base-parsbert-uncased and are newly initialized: ['classifier']\n",
            "You should probably TRAIN this model on a down-stream task to be able to use it for predictions and inference.\n"
          ],
          "name": "stderr"
        }
      ]
    },
    {
      "cell_type": "code",
      "metadata": {
        "id": "o3XtoAeHIvZc",
        "colab": {
          "base_uri": "https://localhost:8080/"
        },
        "outputId": "f20b85d5-bd63-4dc7-e786-78c49b372d2d"
      },
      "source": [
        "loss = tf.keras.losses.SparseCategoricalCrossentropy(from_logits=True)\n",
        "optimizer = tf.keras.optimizers.Adam(learning_rate=2e-5)\n",
        "metric = tf.keras.metrics.SparseCategoricalAccuracy('accuracy')\n",
        "model.compile(optimizer = optimizer, loss = loss, metrics= metric)\n",
        "model.summary()\n",
        "history = model.fit(train_ds, validation_data = test_ds, epochs=3)"
      ],
      "execution_count": null,
      "outputs": [
        {
          "output_type": "stream",
          "text": [
            "Model: \"tf_bert_for_sequence_classification\"\n",
            "_________________________________________________________________\n",
            "Layer (type)                 Output Shape              Param #   \n",
            "=================================================================\n",
            "bert (TFBertMainLayer)       multiple                  162841344 \n",
            "_________________________________________________________________\n",
            "dropout_37 (Dropout)         multiple                  0         \n",
            "_________________________________________________________________\n",
            "classifier (Dense)           multiple                  1538      \n",
            "=================================================================\n",
            "Total params: 162,842,882\n",
            "Trainable params: 162,842,882\n",
            "Non-trainable params: 0\n",
            "_________________________________________________________________\n",
            "Epoch 1/3\n",
            "WARNING:tensorflow:The parameters `output_attentions`, `output_hidden_states` and `use_cache` cannot be updated when calling a model.They have to be set to True/False in the config object (i.e.: `config=XConfig.from_pretrained('name', output_attentions=True)`).\n",
            "WARNING:tensorflow:AutoGraph could not transform <bound method Socket.send of <zmq.sugar.socket.Socket object at 0x7fe6194cad70>> and will run it as-is.\n",
            "Please report this to the TensorFlow team. When filing the bug, set the verbosity to 10 (on Linux, `export AUTOGRAPH_VERBOSITY=10`) and attach the full output.\n",
            "Cause: module, class, method, function, traceback, frame, or code object was expected, got cython_function_or_method\n",
            "To silence this warning, decorate the function with @tf.autograph.experimental.do_not_convert\n",
            "WARNING: AutoGraph could not transform <bound method Socket.send of <zmq.sugar.socket.Socket object at 0x7fe6194cad70>> and will run it as-is.\n",
            "Please report this to the TensorFlow team. When filing the bug, set the verbosity to 10 (on Linux, `export AUTOGRAPH_VERBOSITY=10`) and attach the full output.\n",
            "Cause: module, class, method, function, traceback, frame, or code object was expected, got cython_function_or_method\n",
            "To silence this warning, decorate the function with @tf.autograph.experimental.do_not_convert\n",
            "WARNING:tensorflow:AutoGraph could not transform <function wrap at 0x7fe634d77c20> and will run it as-is.\n",
            "Cause: while/else statement not yet supported\n",
            "To silence this warning, decorate the function with @tf.autograph.experimental.do_not_convert\n",
            "WARNING:tensorflow:The parameter `return_dict` cannot be set in graph mode and will always be set to `True`.\n",
            "WARNING: AutoGraph could not transform <function wrap at 0x7fe634d77c20> and will run it as-is.\n",
            "Cause: while/else statement not yet supported\n",
            "To silence this warning, decorate the function with @tf.autograph.experimental.do_not_convert\n",
            "WARNING:tensorflow:The parameters `output_attentions`, `output_hidden_states` and `use_cache` cannot be updated when calling a model.They have to be set to True/False in the config object (i.e.: `config=XConfig.from_pretrained('name', output_attentions=True)`).\n",
            "WARNING:tensorflow:The parameter `return_dict` cannot be set in graph mode and will always be set to `True`.\n",
            "60/60 [==============================] - ETA: 0s - loss: 0.4036 - accuracy: 0.8151WARNING:tensorflow:The parameters `output_attentions`, `output_hidden_states` and `use_cache` cannot be updated when calling a model.They have to be set to True/False in the config object (i.e.: `config=XConfig.from_pretrained('name', output_attentions=True)`).\n",
            "WARNING:tensorflow:The parameter `return_dict` cannot be set in graph mode and will always be set to `True`.\n",
            "60/60 [==============================] - 193s 2s/step - loss: 0.4011 - accuracy: 0.8165 - val_loss: 0.1241 - val_accuracy: 0.9521\n",
            "Epoch 2/3\n",
            "60/60 [==============================] - 124s 2s/step - loss: 0.1166 - accuracy: 0.9624 - val_loss: 0.1152 - val_accuracy: 0.9625\n",
            "Epoch 3/3\n",
            "60/60 [==============================] - 124s 2s/step - loss: 0.0459 - accuracy: 0.9868 - val_loss: 0.1078 - val_accuracy: 0.9729\n"
          ],
          "name": "stdout"
        }
      ]
    },
    {
      "cell_type": "code",
      "metadata": {
        "id": "9tHipvJwgUPg",
        "colab": {
          "base_uri": "https://localhost:8080/",
          "height": 336
        },
        "outputId": "adb37426-6908-4b7d-d0a2-da7729ded59a"
      },
      "source": [
        "plot_history(history)"
      ],
      "execution_count": null,
      "outputs": [
        {
          "output_type": "display_data",
          "data": {
            "image/png": "[encoded data removed]",
            "text/plain": [
              "<Figure size 864x360 with 2 Axes>"
            ]
          },
          "metadata": {
            "tags": [],
            "needs_background": "light"
          }
        }
      ]
    },
    {
      "cell_type": "code",
      "metadata": {
        "id": "VU0PrjPX0oMj",
        "colab": {
          "base_uri": "https://localhost:8080/"
        },
        "outputId": "db61ca53-288a-4474-c1fb-673013724c4e"
      },
      "source": [
        "y_predict = model.predict(test_ds)\n",
        "predictions_classes = (np.argmax(y_predict[0], axis = 1)).tolist()"
      ],
      "execution_count": null,
      "outputs": [
        {
          "output_type": "stream",
          "text": [
            "WARNING:tensorflow:The parameters `output_attentions`, `output_hidden_states` and `use_cache` cannot be updated when calling a model.They have to be set to True/False in the config object (i.e.: `config=XConfig.from_pretrained('name', output_attentions=True)`).\n",
            "WARNING:tensorflow:The parameter `return_dict` cannot be set in graph mode and will always be set to `True`.\n"
          ],
          "name": "stdout"
        }
      ]
    },
    {
      "cell_type": "code",
      "metadata": {
        "id": "95ielSlnACtK",
        "colab": {
          "base_uri": "https://localhost:8080/"
        },
        "outputId": "5a676ecd-517a-49d1-a85e-85cd662ba19e"
      },
      "source": [
        "from sklearn.metrics import accuracy_score\n",
        "from sklearn.metrics import precision_score\n",
        "from sklearn.metrics import recall_score\n",
        "from sklearn.metrics import f1_score\n",
        "labels_list = [int(test_df['label'].iloc[index]) for index in range(len(test_df)) ]\n",
        "f1 = round((f1_score(labels_list, predictions_classes)*100),2)\n",
        "print('f1: ',f1)\n",
        "acc = round((accuracy_score(labels_list,predictions_classes)*100),2)\n",
        "print('accuracy: ', acc)\n",
        "pre = round((precision_score(labels_list,predictions_classes)*100),2)\n",
        "print('precision: ', pre)\n",
        "rec = round((recall_score(labels_list,predictions_classes)*100),2)\n",
        "rec = round(rec, 2)\n",
        "print('recall: ', rec)"
      ],
      "execution_count": null,
      "outputs": [
        {
          "output_type": "stream",
          "text": [
            "f1:  97.32\n",
            "accuracy:  97.29\n",
            "precision:  98.33\n",
            "recall:  96.33\n"
          ],
          "name": "stdout"
        }
      ]
    },
    {
      "cell_type": "markdown",
      "metadata": {
        "id": "4pM6poKDXywb"
      },
      "source": [
        "**Generate Labeled Data**"
      ]
    },
    {
      "cell_type": "code",
      "metadata": {
        "id": "ShKR8mzibWvS"
      },
      "source": [
        "raw_data = pd.read_excel('/content/drive/MyDrive/data/raw_data.csv')\n",
        "raw_data['label'] = '0' #dummy label\n",
        "\n",
        "raw_Data = preprocess.remove_emoji(raw_data)"
      ],
      "execution_count": null,
      "outputs": []
    },
    {
      "cell_type": "code",
      "metadata": {
        "id": "AZchiLrPc2K4",
        "colab": {
          "base_uri": "https://localhost:8080/"
        },
        "outputId": "8b9499ab-a9ea-4a84-d51a-198f68c49a7d"
      },
      "source": [
        "input_examples = convert_data_into_input_example(raw_data)\n",
        "bert_format = glue_convert_examples_to_features(examples=input_examples, tokenizer=tokenizer,\n",
        "                                                        max_length=MAX_SEQ_LENGTH, task='mrpc', label_list=label_list)\n",
        "\n",
        "x, y= solution(bert_format)\n",
        "raw_ds = tf.data.Dataset.from_tensor_slices((x[0], x[1], x[2], y)).map(example_to_features).batch(64)"
      ],
      "execution_count": null,
      "outputs": [
        {
          "output_type": "stream",
          "text": [
            "/usr/local/lib/python3.7/dist-packages/transformers/data/processors/glue.py:67: FutureWarning: This function will be removed from the library soon, preprocessing should be handled with the 🤗 Datasets library. You can have a look at this example script for pointers: https://github.com/huggingface/transformers/blob/master/examples/text-classification/run_glue.py\n",
            "  warnings.warn(DEPRECATION_WARNING.format(\"function\"), FutureWarning)\n",
            "/usr/local/lib/python3.7/dist-packages/transformers/data/processors/glue.py:175: FutureWarning: This processor will be removed from the library soon, preprocessing should be handled with the 🤗 Datasets library. You can have a look at this example script for pointers: https://github.com/huggingface/transformers/blob/master/examples/text-classification/run_glue.py\n",
            "  warnings.warn(DEPRECATION_WARNING.format(\"processor\"), FutureWarning)\n"
          ],
          "name": "stderr"
        }
      ]
    },
    {
      "cell_type": "code",
      "metadata": {
        "id": "TATmdg8CjHAU"
      },
      "source": [
        "predict_labels = model.predict(raw_ds)\n",
        "predictions_classes = (np.argmax(predict_labels[0], axis = 1)).tolist()\n",
        "raw_data['label'] = predictions_classes"
      ],
      "execution_count": null,
      "outputs": []
    },
    {
      "cell_type": "code",
      "metadata": {
        "id": "SldKAeDeiuJk"
      },
      "source": [
        "raw_data.to_csv('/content/drive/MyDrive/data/silver_labeled_data_imbalance.csv', encoding='utf-8-sig', index=False)"
      ],
      "execution_count": null,
      "outputs": []
    },
    {
      "cell_type": "code",
      "metadata": {
        "id": "XfH8_hPwl92p",
        "colab": {
          "base_uri": "https://localhost:8080/"
        },
        "outputId": "425039f6-0a1b-4cfe-a519-e5d25cd7d8f8"
      },
      "source": [
        "print(f'dataframe len before remove outlier {len(raw_data)}')\n",
        "outlier_index = [index for index, row in raw_data.iterrows() if len(row.sentence) < 11 or len(row.sentence) > 600]\n",
        "for i in outlier_index:\n",
        "    raw_data.drop([i], inplace=True)\n",
        "print(f'dataframe len after remove outlier {len(raw_data)}')\n",
        "raw_data.reset_index(drop=True, inplace=True)\n",
        "new_df = pd.DataFrame(columns=['sentence', 'label'])\n",
        "positive_instance = 0\n",
        "negative_index = []\n",
        "for index, row in raw_data.iterrows():\n",
        "    if row.label == 1:\n",
        "        positive_instance += 1\n",
        "        new_df = new_df.append({'sentence': row.sentence, 'label': row.label}, ignore_index=True)\n",
        "    else:\n",
        "        negative_index.append(index)\n",
        "\n",
        "sampled_negative_index = random.sample(negative_index, positive_instance)\n",
        "\n",
        "for index in sampled_negative_index:\n",
        "    new_df = new_df.append({'sentence': raw_data['sentence'].iloc[index],\n",
        "                            'label': raw_data['label'].iloc[index]}, ignore_index=True)\n",
        "    \n",
        "new_df = new_df.sample(frac=1, random_state=42).reset_index(drop=True)\n",
        "\n",
        "new_df.to_csv('/content/drive/MyDrive/data/silver_labeled_data_balanced.csv', encoding='utf-8-sig', index=False)"
      ],
      "execution_count": null,
      "outputs": [
        {
          "output_type": "stream",
          "text": [
            "dataframe len before remove outlier 65292\n",
            "dataframe len after remove outlier 65208\n"
          ],
          "name": "stdout"
        }
      ]
    }
  ]
}
