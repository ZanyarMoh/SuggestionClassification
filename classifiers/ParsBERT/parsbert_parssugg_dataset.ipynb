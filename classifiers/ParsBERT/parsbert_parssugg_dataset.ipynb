{
  "nbformat": 4,
  "nbformat_minor": 0,
  "metadata": {
    "accelerator": "GPU",
    "colab": {
      "name": "parsbert_parssugg_dataset.ipynb",
      "provenance": [],
      "collapsed_sections": []
    },
    "kernelspec": {
      "display_name": "Python 3",
      "name": "python3"
    }
  },
  "cells": [
    {
      "cell_type": "markdown",
      "metadata": {
        "id": "n6yeIWnmRKmV"
      },
      "source": [
        "**To convert Persian sentences to ParsBERT input format, the solution provided in this link has been used.**\n",
        "\n",
        "https://sci2lab.github.io/ml_tutorial/bert_farsi_sentiment/"
      ]
    },
    {
      "cell_type": "code",
      "metadata": {
        "id": "Pp3pEeb3Gfn3"
      },
      "source": [
        "!pip install transformers\n",
        "!pip install PersianStemmer\n",
        "!pip install https://github.com/htaghizadeh/PersianStemmer-Python/archive/master.zip --upgrade\n",
        "!pip install hazm\n",
        "!pip install demoji"
      ],
      "execution_count": null,
      "outputs": []
    },
    {
      "cell_type": "code",
      "metadata": {
        "id": "mxl-kD83w0g_",
        "colab": {
          "base_uri": "https://localhost:8080/"
        },
        "outputId": "25d4080d-c9eb-4e2c-b7a3-0c7088a8e5d5"
      },
      "source": [
        "from google.colab import drive\n",
        "import sys\n",
        "drive.mount('/content/drive')\n",
        "sys.path.insert(0, '/content/drive/My Drive/modules') #Adds preprocessing module to current session."
      ],
      "execution_count": null,
      "outputs": [
        {
          "output_type": "stream",
          "text": [
            "Drive already mounted at /content/drive; to attempt to forcibly remount, call drive.mount(\"/content/drive\", force_remount=True).\n"
          ],
          "name": "stdout"
        }
      ]
    },
    {
      "cell_type": "code",
      "metadata": {
        "id": "Tosqb1FjzVVh",
        "colab": {
          "base_uri": "https://localhost:8080/"
        },
        "outputId": "8ee652d5-6e64-425c-816e-21fdf546bed3"
      },
      "source": [
        "import pandas as pd\n",
        "from sklearn.model_selection import train_test_split\n",
        "from transformers import InputExample, glue_convert_examples_to_features, TFBertModel, TFBertPreTrainedModel, TFBertForSequenceClassification, BertTokenizer\n",
        "import numpy as np\n",
        "import tensorflow as tf\n",
        "import demoji\n",
        "import random\n",
        "import matplotlib.pyplot as plt\n",
        "import preprocess\n",
        "np.random.seed(42)\n",
        "tf.random.set_seed(42)\n",
        "demoji.download_codes()"
      ],
      "execution_count": null,
      "outputs": [
        {
          "output_type": "stream",
          "text": [
            "Downloading emoji data ...\n",
            "... OK (Got response in 0.17 seconds)\n",
            "Writing emoji data to /root/.demoji/codes.json ...\n",
            "... OK\n"
          ],
          "name": "stdout"
        }
      ]
    },
    {
      "cell_type": "code",
      "metadata": {
        "id": "vOVURF370ssY"
      },
      "source": [
        "def convert_data_into_input_example(data):\n",
        "    input_examples = []\n",
        "    for i in range(len(data)):\n",
        "        example = InputExample(\n",
        "            guid=None,\n",
        "            text_a=data.iloc[i]['sentence'],\n",
        "            text_b=None,\n",
        "            label=data.iloc[i]['label']\n",
        "        )\n",
        "        input_examples.append(example)\n",
        "    return input_examples"
      ],
      "execution_count": null,
      "outputs": []
    },
    {
      "cell_type": "code",
      "metadata": {
        "id": "3dfh2OtP04FV"
      },
      "source": [
        "def solution(bdset):\n",
        "    \"\"\" Create a list of input tensors required to be in the first argument of the\n",
        "        model call function for training. e.g. `model([input_ids, attention_mask, token_type_ids])`.\n",
        "    \"\"\"\n",
        "    input_ids, attention_mask, token_type_ids, label = [], [], [], []\n",
        "    for in_ex in bdset:\n",
        "        input_ids.append(in_ex.input_ids)\n",
        "        attention_mask.append(in_ex.attention_mask)\n",
        "        token_type_ids.append(in_ex.token_type_ids)\n",
        "        label.append(in_ex.label)\n",
        "\n",
        "    input_ids = np.vstack(input_ids)\n",
        "    attention_mask = np.vstack(attention_mask)\n",
        "    token_type_ids = np.vstack(token_type_ids)\n",
        "    label = np.vstack(label)\n",
        "    return [input_ids, attention_mask, token_type_ids], label"
      ],
      "execution_count": null,
      "outputs": []
    },
    {
      "cell_type": "code",
      "metadata": {
        "id": "o-bxyxGR1I9j"
      },
      "source": [
        "def example_to_features(input_ids, attention_masks, token_type_ids, y):\n",
        "    return {\"input_ids\": input_ids,\n",
        "            \"attention_mask\": attention_masks,\n",
        "            \"token_type_ids\": token_type_ids}, y"
      ],
      "execution_count": null,
      "outputs": []
    },
    {
      "cell_type": "code",
      "metadata": {
        "id": "Mfl6cCcYfuM9"
      },
      "source": [
        "def plot_history(history):\n",
        "    acc = history.history['accuracy']\n",
        "    val_acc = history.history['val_accuracy']\n",
        "    loss = history.history['loss']\n",
        "    val_loss = history.history['val_loss']\n",
        "    x = range(1, len(acc) + 1)\n",
        "    plt.figure(figsize=(12, 5))\n",
        "    plt.subplot(1, 2, 1)\n",
        "    plt.plot(x, acc, 'b', label='Training acc')\n",
        "    plt.plot(x, val_acc, 'r', label='Validation acc')\n",
        "    plt.title('Training and validation accuracy')\n",
        "    plt.legend()\n",
        "    plt.subplot(1, 2, 2)\n",
        "    plt.plot(x, loss, 'b', label='Training loss')\n",
        "    plt.plot(x, val_loss, 'r', label='Validation loss')\n",
        "    plt.title('Training and validation loss')\n",
        "    plt.legend()"
      ],
      "execution_count": null,
      "outputs": []
    },
    {
      "cell_type": "code",
      "metadata": {
        "id": "4YWrgm8q1YJE"
      },
      "source": [
        "train_df =preprocess.remove_emoji(pd.read_csv('/content/drive/MyDrive/data/silver_dataset.csv'))\n",
        "test_df =preprocess.remove_emoji(pd.read_csv('/content/drive/MyDrive/data/gold_dataset.csv'))\n",
        "\n",
        "train_df = train_df.astype({'label': 'str'})\n",
        "test_df = test_df.astype({'label': 'str'})"
      ],
      "execution_count": null,
      "outputs": []
    },
    {
      "cell_type": "code",
      "metadata": {
        "id": "ydu96wbSIDoq"
      },
      "source": [
        "train_input_examples = convert_data_into_input_example(train_df)\n",
        "test_input_examples = convert_data_into_input_example(test_df)"
      ],
      "execution_count": null,
      "outputs": []
    },
    {
      "cell_type": "code",
      "metadata": {
        "id": "fLCNk0Rw0mJY"
      },
      "source": [
        "tokenizer = BertTokenizer.from_pretrained(\"HooshvareLab/bert-base-parsbert-uncased\")"
      ],
      "execution_count": null,
      "outputs": []
    },
    {
      "cell_type": "code",
      "metadata": {
        "id": "TQN0q3OZILav",
        "colab": {
          "base_uri": "https://localhost:8080/"
        },
        "outputId": "8fe317db-ab27-4abf-fe9a-b2dc4ac29a82"
      },
      "source": [
        "label_list = ['0', '1']\n",
        "\n",
        "MAX_SEQ_LENGTH = 128\n",
        "\n",
        "bert_train_dataset = glue_convert_examples_to_features(examples=train_input_examples, tokenizer=tokenizer,\n",
        "                                                          max_length=MAX_SEQ_LENGTH, task='mrpc', label_list=label_list)\n",
        "\n",
        "bert_test_dataset = glue_convert_examples_to_features(examples=test_input_examples, tokenizer=tokenizer,\n",
        "                                                        max_length=MAX_SEQ_LENGTH, task='mrpc', label_list=label_list)\n"
      ],
      "execution_count": null,
      "outputs": [
        {
          "output_type": "stream",
          "text": [
            "/usr/local/lib/python3.7/dist-packages/transformers/data/processors/glue.py:67: FutureWarning: This function will be removed from the library soon, preprocessing should be handled with the 🤗 Datasets library. You can have a look at this example script for pointers: https://github.com/huggingface/transformers/blob/master/examples/text-classification/run_glue.py\n",
            "  warnings.warn(DEPRECATION_WARNING.format(\"function\"), FutureWarning)\n",
            "/usr/local/lib/python3.7/dist-packages/transformers/data/processors/glue.py:175: FutureWarning: This processor will be removed from the library soon, preprocessing should be handled with the 🤗 Datasets library. You can have a look at this example script for pointers: https://github.com/huggingface/transformers/blob/master/examples/text-classification/run_glue.py\n",
            "  warnings.warn(DEPRECATION_WARNING.format(\"processor\"), FutureWarning)\n"
          ],
          "name": "stderr"
        }
      ]
    },
    {
      "cell_type": "code",
      "metadata": {
        "id": "a4NWOJxMIF_1"
      },
      "source": [
        "x_train, y_train = solution(bert_train_dataset)\n",
        "x_val, y_val = solution(bert_test_dataset)\n",
        "\n",
        "train_ds = tf.data.Dataset.from_tensor_slices((x_train[0], x_train[1], x_train[2], y_train)).map(example_to_features).shuffle(100).batch(32)\n",
        "test_ds = tf.data.Dataset.from_tensor_slices((x_val[0], x_val[1], x_val[2], y_val)).map(example_to_features).batch(64)"
      ],
      "execution_count": null,
      "outputs": []
    },
    {
      "cell_type": "code",
      "metadata": {
        "id": "APuowKH5IodH",
        "colab": {
          "base_uri": "https://localhost:8080/"
        },
        "outputId": "e22f4bbe-4280-4545-f171-033db00d0f88"
      },
      "source": [
        "model = TFBertForSequenceClassification.from_pretrained('HooshvareLab/bert-base-parsbert-uncased') #ParsBert"
      ],
      "execution_count": null,
      "outputs": [
        {
          "output_type": "stream",
          "text": [
            "All model checkpoint layers were used when initializing TFBertForSequenceClassification.\n",
            "\n",
            "Some layers of TFBertForSequenceClassification were not initialized from the model checkpoint at HooshvareLab/bert-base-parsbert-uncased and are newly initialized: ['classifier']\n",
            "You should probably TRAIN this model on a down-stream task to be able to use it for predictions and inference.\n"
          ],
          "name": "stderr"
        }
      ]
    },
    {
      "cell_type": "code",
      "metadata": {
        "id": "o3XtoAeHIvZc",
        "colab": {
          "base_uri": "https://localhost:8080/"
        },
        "outputId": "28027134-569f-416d-9dc4-e9b6ba3a6ba1"
      },
      "source": [
        "loss = tf.keras.losses.SparseCategoricalCrossentropy(from_logits=True)\n",
        "optimizer = tf.keras.optimizers.Adam(learning_rate=2e-5)\n",
        "metric = tf.keras.metrics.SparseCategoricalAccuracy('accuracy')\n",
        "model.compile(optimizer = optimizer, loss = loss, metrics= metric)\n",
        "model.summary()\n",
        "history = model.fit(train_ds, validation_data = test_ds, epochs=3)"
      ],
      "execution_count": null,
      "outputs": [
        {
          "output_type": "stream",
          "text": [
            "Model: \"tf_bert_for_sequence_classification\"\n",
            "_________________________________________________________________\n",
            "Layer (type)                 Output Shape              Param #   \n",
            "=================================================================\n",
            "bert (TFBertMainLayer)       multiple                  162841344 \n",
            "_________________________________________________________________\n",
            "dropout_37 (Dropout)         multiple                  0         \n",
            "_________________________________________________________________\n",
            "classifier (Dense)           multiple                  1538      \n",
            "=================================================================\n",
            "Total params: 162,842,882\n",
            "Trainable params: 162,842,882\n",
            "Non-trainable params: 0\n",
            "_________________________________________________________________\n",
            "Epoch 1/3\n",
            "WARNING:tensorflow:The parameters `output_attentions`, `output_hidden_states` and `use_cache` cannot be updated when calling a model.They have to be set to True/False in the config object (i.e.: `config=XConfig.from_pretrained('name', output_attentions=True)`).\n",
            "WARNING:tensorflow:AutoGraph could not transform <bound method Socket.send of <zmq.sugar.socket.Socket object at 0x7fd5c11b67c0>> and will run it as-is.\n",
            "Please report this to the TensorFlow team. When filing the bug, set the verbosity to 10 (on Linux, `export AUTOGRAPH_VERBOSITY=10`) and attach the full output.\n",
            "Cause: module, class, method, function, traceback, frame, or code object was expected, got cython_function_or_method\n",
            "To silence this warning, decorate the function with @tf.autograph.experimental.do_not_convert\n",
            "WARNING: AutoGraph could not transform <bound method Socket.send of <zmq.sugar.socket.Socket object at 0x7fd5c11b67c0>> and will run it as-is.\n",
            "Please report this to the TensorFlow team. When filing the bug, set the verbosity to 10 (on Linux, `export AUTOGRAPH_VERBOSITY=10`) and attach the full output.\n",
            "Cause: module, class, method, function, traceback, frame, or code object was expected, got cython_function_or_method\n",
            "To silence this warning, decorate the function with @tf.autograph.experimental.do_not_convert\n",
            "WARNING:tensorflow:AutoGraph could not transform <function wrap at 0x7fd5dca54cb0> and will run it as-is.\n",
            "Cause: while/else statement not yet supported\n",
            "To silence this warning, decorate the function with @tf.autograph.experimental.do_not_convert\n",
            "WARNING:tensorflow:The parameter `return_dict` cannot be set in graph mode and will always be set to `True`.\n",
            "WARNING: AutoGraph could not transform <function wrap at 0x7fd5dca54cb0> and will run it as-is.\n",
            "Cause: while/else statement not yet supported\n",
            "To silence this warning, decorate the function with @tf.autograph.experimental.do_not_convert\n",
            "WARNING:tensorflow:The parameters `output_attentions`, `output_hidden_states` and `use_cache` cannot be updated when calling a model.They have to be set to True/False in the config object (i.e.: `config=XConfig.from_pretrained('name', output_attentions=True)`).\n",
            "WARNING:tensorflow:The parameter `return_dict` cannot be set in graph mode and will always be set to `True`.\n",
            "498/498 [==============================] - ETA: 0s - loss: 0.1883 - accuracy: 0.9257WARNING:tensorflow:The parameters `output_attentions`, `output_hidden_states` and `use_cache` cannot be updated when calling a model.They have to be set to True/False in the config object (i.e.: `config=XConfig.from_pretrained('name', output_attentions=True)`).\n",
            "WARNING:tensorflow:The parameter `return_dict` cannot be set in graph mode and will always be set to `True`.\n",
            "498/498 [==============================] - 478s 836ms/step - loss: 0.1882 - accuracy: 0.9257 - val_loss: 0.1014 - val_accuracy: 0.9692\n",
            "Epoch 2/3\n",
            "498/498 [==============================] - 414s 832ms/step - loss: 0.0476 - accuracy: 0.9830 - val_loss: 0.1080 - val_accuracy: 0.9708\n",
            "Epoch 3/3\n",
            "498/498 [==============================] - 414s 832ms/step - loss: 0.0248 - accuracy: 0.9913 - val_loss: 0.1040 - val_accuracy: 0.9725\n"
          ],
          "name": "stdout"
        }
      ]
    },
    {
      "cell_type": "code",
      "metadata": {
        "id": "9tHipvJwgUPg",
        "colab": {
          "base_uri": "https://localhost:8080/",
          "height": 336
        },
        "outputId": "eb1e2bf2-c833-42ff-f299-8fbea2c453cb"
      },
      "source": [
        "plot_history(history)"
      ],
      "execution_count": null,
      "outputs": [
        {
          "output_type": "display_data",
          "data": {
            "image/png": "[encoded data removed]",
            "text/plain": [
              "<Figure size 864x360 with 2 Axes>"
            ]
          },
          "metadata": {
            "tags": [],
            "needs_background": "light"
          }
        }
      ]
    },
    {
      "cell_type": "code",
      "metadata": {
        "id": "VU0PrjPX0oMj",
        "colab": {
          "base_uri": "https://localhost:8080/"
        },
        "outputId": "c9e84453-1ef9-431d-ee90-ed7890401fd5"
      },
      "source": [
        "y_predict = model.predict(test_ds)\n",
        "predictions_classes = (np.argmax(y_predict[0], axis = 1)).tolist()"
      ],
      "execution_count": null,
      "outputs": [
        {
          "output_type": "stream",
          "text": [
            "WARNING:tensorflow:The parameters `output_attentions`, `output_hidden_states` and `use_cache` cannot be updated when calling a model.They have to be set to True/False in the config object (i.e.: `config=XConfig.from_pretrained('name', output_attentions=True)`).\n",
            "WARNING:tensorflow:The parameter `return_dict` cannot be set in graph mode and will always be set to `True`.\n"
          ],
          "name": "stdout"
        }
      ]
    },
    {
      "cell_type": "code",
      "metadata": {
        "id": "95ielSlnACtK",
        "colab": {
          "base_uri": "https://localhost:8080/"
        },
        "outputId": "800bfe2c-86c4-4b23-c1df-90d568a72051"
      },
      "source": [
        "from sklearn.metrics import accuracy_score\n",
        "from sklearn.metrics import precision_score\n",
        "from sklearn.metrics import recall_score\n",
        "from sklearn.metrics import f1_score\n",
        "labels_list = [int(test_df['label'].iloc[index]) for index in range(len(test_df)) ]\n",
        "f1 = round((f1_score(labels_list, predictions_classes)*100),2)\n",
        "print('f1: ',f1)\n",
        "acc = round((accuracy_score(labels_list,predictions_classes)*100),2)\n",
        "print('accuracy: ', acc)\n",
        "pre = round((precision_score(labels_list,predictions_classes)*100),2)\n",
        "print('precision: ', pre)\n",
        "rec = round((recall_score(labels_list,predictions_classes)*100),2)\n",
        "rec = round(rec, 2)\n",
        "print('recall: ', rec)"
      ],
      "execution_count": null,
      "outputs": [
        {
          "output_type": "stream",
          "text": [
            "f1:  97.27\n",
            "accuracy:  97.25\n",
            "precision:  96.63\n",
            "recall:  97.92\n"
          ],
          "name": "stdout"
        }
      ]
    }
  ]
}
