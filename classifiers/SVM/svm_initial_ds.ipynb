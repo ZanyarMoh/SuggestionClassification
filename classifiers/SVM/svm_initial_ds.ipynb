{
  "nbformat": 4,
  "nbformat_minor": 0,
  "metadata": {
    "colab": {
      "name": "svm_initial_ds.ipynb",
      "provenance": []
    },
    "kernelspec": {
      "name": "python3",
      "display_name": "Python 3"
    }
  },
  "cells": [
    {
      "cell_type": "code",
      "metadata": {
        "id": "wYGmjSAXs-Vc",
        "colab": {
          "base_uri": "https://localhost:8080/"
        },
        "outputId": "5bbe1d76-31e8-460f-c38e-2eb70d48dad8"
      },
      "source": [
        "!pip install transformers\n",
        "!pip install PersianStemmer\n",
        "!pip install https://github.com/htaghizadeh/PersianStemmer-Python/archive/master.zip --upgrade\n",
        "!pip install hazm\n",
        "!pip install demoji"
      ],
      "execution_count": 1,
      "outputs": [
        {
          "output_type": "stream",
          "text": [
            "Requirement already satisfied: transformers in /usr/local/lib/python3.7/dist-packages (4.8.2)\n",
            "Requirement already satisfied: packaging in /usr/local/lib/python3.7/dist-packages (from transformers) (21.0)\n",
            "Requirement already satisfied: pyyaml in /usr/local/lib/python3.7/dist-packages (from transformers) (3.13)\n",
            "Requirement already satisfied: requests in /usr/local/lib/python3.7/dist-packages (from transformers) (2.23.0)\n",
            "Requirement already satisfied: tqdm>=4.27 in /usr/local/lib/python3.7/dist-packages (from transformers) (4.41.1)\n",
            "Requirement already satisfied: importlib-metadata in /usr/local/lib/python3.7/dist-packages (from transformers) (4.6.1)\n",
            "Requirement already satisfied: numpy>=1.17 in /usr/local/lib/python3.7/dist-packages (from transformers) (1.19.5)\n",
            "Requirement already satisfied: sacremoses in /usr/local/lib/python3.7/dist-packages (from transformers) (0.0.45)\n",
            "Requirement already satisfied: tokenizers<0.11,>=0.10.1 in /usr/local/lib/python3.7/dist-packages (from transformers) (0.10.3)\n",
            "Requirement already satisfied: filelock in /usr/local/lib/python3.7/dist-packages (from transformers) (3.0.12)\n",
            "Requirement already satisfied: huggingface-hub==0.0.12 in /usr/local/lib/python3.7/dist-packages (from transformers) (0.0.12)\n",
            "Requirement already satisfied: regex!=2019.12.17 in /usr/local/lib/python3.7/dist-packages (from transformers) (2019.12.20)\n",
            "Requirement already satisfied: typing-extensions in /usr/local/lib/python3.7/dist-packages (from huggingface-hub==0.0.12->transformers) (3.7.4.3)\n",
            "Requirement already satisfied: pyparsing>=2.0.2 in /usr/local/lib/python3.7/dist-packages (from packaging->transformers) (2.4.7)\n",
            "Requirement already satisfied: zipp>=0.5 in /usr/local/lib/python3.7/dist-packages (from importlib-metadata->transformers) (3.5.0)\n",
            "Requirement already satisfied: urllib3!=1.25.0,!=1.25.1,<1.26,>=1.21.1 in /usr/local/lib/python3.7/dist-packages (from requests->transformers) (1.24.3)\n",
            "Requirement already satisfied: idna<3,>=2.5 in /usr/local/lib/python3.7/dist-packages (from requests->transformers) (2.10)\n",
            "Requirement already satisfied: chardet<4,>=3.0.2 in /usr/local/lib/python3.7/dist-packages (from requests->transformers) (3.0.4)\n",
            "Requirement already satisfied: certifi>=2017.4.17 in /usr/local/lib/python3.7/dist-packages (from requests->transformers) (2021.5.30)\n",
            "Requirement already satisfied: six in /usr/local/lib/python3.7/dist-packages (from sacremoses->transformers) (1.15.0)\n",
            "Requirement already satisfied: joblib in /usr/local/lib/python3.7/dist-packages (from sacremoses->transformers) (1.0.1)\n",
            "Requirement already satisfied: click in /usr/local/lib/python3.7/dist-packages (from sacremoses->transformers) (7.1.2)\n",
            "Requirement already satisfied: PersianStemmer in /usr/local/lib/python3.7/dist-packages (1.0.1)\n",
            "Requirement already satisfied: patricia-trie in /usr/local/lib/python3.7/dist-packages (from PersianStemmer) (10)\n",
            "Collecting https://github.com/htaghizadeh/PersianStemmer-Python/archive/master.zip\n",
            "  Using cached https://github.com/htaghizadeh/PersianStemmer-Python/archive/master.zip\n",
            "Requirement already satisfied: patricia-trie in /usr/local/lib/python3.7/dist-packages (from PersianStemmer==1.0.1) (10)\n",
            "Requirement already satisfied: hazm in /usr/local/lib/python3.7/dist-packages (0.7.0)\n",
            "Requirement already satisfied: nltk==3.3 in /usr/local/lib/python3.7/dist-packages (from hazm) (3.3)\n",
            "Requirement already satisfied: libwapiti>=0.2.1 in /usr/local/lib/python3.7/dist-packages (from hazm) (0.2.1)\n",
            "Requirement already satisfied: six in /usr/local/lib/python3.7/dist-packages (from nltk==3.3->hazm) (1.15.0)\n",
            "Requirement already satisfied: demoji in /usr/local/lib/python3.7/dist-packages (0.4.0)\n",
            "Requirement already satisfied: requests<3.0.0 in /usr/local/lib/python3.7/dist-packages (from demoji) (2.23.0)\n",
            "Requirement already satisfied: colorama in /usr/local/lib/python3.7/dist-packages (from demoji) (0.4.4)\n",
            "Requirement already satisfied: idna<3,>=2.5 in /usr/local/lib/python3.7/dist-packages (from requests<3.0.0->demoji) (2.10)\n",
            "Requirement already satisfied: certifi>=2017.4.17 in /usr/local/lib/python3.7/dist-packages (from requests<3.0.0->demoji) (2021.5.30)\n",
            "Requirement already satisfied: urllib3!=1.25.0,!=1.25.1,<1.26,>=1.21.1 in /usr/local/lib/python3.7/dist-packages (from requests<3.0.0->demoji) (1.24.3)\n",
            "Requirement already satisfied: chardet<4,>=3.0.2 in /usr/local/lib/python3.7/dist-packages (from requests<3.0.0->demoji) (3.0.4)\n"
          ],
          "name": "stdout"
        }
      ]
    },
    {
      "cell_type": "code",
      "metadata": {
        "id": "cgPEBP-GsQU2",
        "colab": {
          "base_uri": "https://localhost:8080/"
        },
        "outputId": "09e3c777-dedd-4d39-ccc0-170223ee6f09"
      },
      "source": [
        "from google.colab import drive\n",
        "import sys\n",
        "drive.mount('/content/drive')\n",
        "sys.path.insert(0, '/content/drive/My Drive/modules')"
      ],
      "execution_count": 2,
      "outputs": [
        {
          "output_type": "stream",
          "text": [
            "Drive already mounted at /content/drive; to attempt to forcibly remount, call drive.mount(\"/content/drive\", force_remount=True).\n"
          ],
          "name": "stdout"
        }
      ]
    },
    {
      "cell_type": "code",
      "metadata": {
        "id": "I-vbMuDbtC_n",
        "colab": {
          "base_uri": "https://localhost:8080/"
        },
        "outputId": "a3d481c9-18a3-4250-ed44-3368b3ba8030"
      },
      "source": [
        "import pandas as pd\n",
        "from sklearn import svm\n",
        "from sklearn.feature_extraction.text import CountVectorizer\n",
        "from sklearn.metrics import accuracy_score, f1_score, recall_score,precision_score\n",
        "from sklearn.model_selection import StratifiedKFold, GridSearchCV\n",
        "import preprocess\n",
        "from statistics import mean\n",
        "import demoji\n",
        "demoji.download_codes()"
      ],
      "execution_count": 3,
      "outputs": [
        {
          "output_type": "stream",
          "text": [
            "Downloading emoji data ...\n",
            "... OK (Got response in 0.18 seconds)\n",
            "Writing emoji data to /root/.demoji/codes.json ...\n",
            "... OK\n"
          ],
          "name": "stdout"
        }
      ]
    },
    {
      "cell_type": "code",
      "metadata": {
        "id": "4fczv87DtWzB"
      },
      "source": [
        "def run_svm():\n",
        "    SVM_model.fit(x_train, y_train)\n",
        "    prediction_SVM = SVM_model.predict(x_test)\n",
        "    f_score = round(((f1_score(y_test, prediction_SVM)) * 100), 2)\n",
        "    accuracy = round((accuracy_score(y_test, prediction_SVM) * 100), 2)\n",
        "    precision = round((precision_score(y_test, prediction_SVM) * 100), 2)\n",
        "    recall = round((recall_score(y_test, prediction_SVM) * 100), 2)\n",
        "    return f_score, accuracy, precision, recall"
      ],
      "execution_count": 4,
      "outputs": []
    },
    {
      "cell_type": "code",
      "metadata": {
        "id": "SGLr9xVItXlE",
        "colab": {
          "base_uri": "https://localhost:8080/"
        },
        "outputId": "126aa46c-e6f4-4cfd-fa95-77878d900284"
      },
      "source": [
        "stop_words = 'custom'\n",
        "stemming = True\n",
        "dataset = preprocess.auto_preprocess(pd.read_csv('/content/drive/MyDrive/data/initial_dataset.csv'), stop_words_type=stop_words, stemming=stemming)\n",
        "skf = StratifiedKFold(n_splits=5, shuffle=True, random_state=42)"
      ],
      "execution_count": 6,
      "outputs": [
        {
          "output_type": "stream",
          "text": [
            "custom stop words selected\n",
            "there are 5 outlier in data\n",
            "current dataframe length before remove 5 outlier sentence is: 2000\n",
            "current dataframe length after remove 5 outlier sentence is: 1995\n",
            "auto preprocess completed done on dataframe!\n",
            "Enjoy!\n"
          ],
          "name": "stdout"
        }
      ]
    },
    {
      "cell_type": "code",
      "metadata": {
        "id": "UdmSZt4Jt06p",
        "colab": {
          "base_uri": "https://localhost:8080/"
        },
        "outputId": "3fcf8e01-5dae-41b0-a3f9-2c4a7f668d31"
      },
      "source": [
        "vectorizer = CountVectorizer(ngram_range=(1,3), min_df=4, max_df=0.8)\n",
        "x = vectorizer.fit_transform(dataset['sentence'])\n",
        "y = (dataset['label'].to_numpy())\n",
        "SVM_model = svm.SVC(random_state=42)\n",
        "params = {'C': 50, 'class_weight': {0: 1, 1: 4}, 'gamma': 'auto', 'kernel': 'sigmoid'} \n",
        "SVM_model.set_params(**params)\n",
        "\n",
        "f1_list = []\n",
        "accuracy_list = []\n",
        "precision_list = []\n",
        "recall_list = []\n",
        "\n",
        "for train_index, test_index in skf.split(dataset['sentence'], dataset['label']):\n",
        "\n",
        "    x_train, x_test = x[train_index], x[test_index]\n",
        "    y_train, y_test = y[train_index], y[test_index]\n",
        "    f1, accuracy, precision, recall = run_svm()\n",
        "    f1_list.append(round(f1, 2))\n",
        "    accuracy_list.append(round(accuracy, 2))\n",
        "    precision_list.append(round(precision, 2))\n",
        "    recall_list.append(round(recall, 2))\n",
        "\n",
        "print (f\"f1 is: {mean(f1_list)}\\naccuracy is: {mean(accuracy_list)}\\nprecision is: {mean(precision_list)}\\nrecall is: {mean(recall_list)}\")      "
      ],
      "execution_count": 7,
      "outputs": [
        {
          "output_type": "stream",
          "text": [
            "f1 is: 72.89\n",
            "accuracy is: 91.278\n",
            "precision is: 78.164\n",
            "recall is: 68.532\n"
          ],
          "name": "stdout"
        }
      ]
    }
  ]
}
