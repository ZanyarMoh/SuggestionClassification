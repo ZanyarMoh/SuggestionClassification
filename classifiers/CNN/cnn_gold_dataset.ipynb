{
  "nbformat": 4,
  "nbformat_minor": 0,
  "metadata": {
    "accelerator": "GPU",
    "colab": {
      "name": "cnn_gold_dataset.ipynb",
      "provenance": [],
      "collapsed_sections": []
    },
    "kernelspec": {
      "display_name": "Python 3",
      "language": "python",
      "name": "python3"
    },
    "language_info": {
      "codemirror_mode": {
        "name": "ipython",
        "version": 3
      },
      "file_extension": ".py",
      "mimetype": "text/x-python",
      "name": "python",
      "nbconvert_exporter": "python",
      "pygments_lexer": "ipython3",
      "version": "3.6.8"
    }
  },
  "cells": [
    {
      "cell_type": "code",
      "metadata": {
        "id": "k0bHjbjc4c7c"
      },
      "source": [
        "!pip install PersianStemmer\n",
        "!pip install transformers\n",
        "!pip install https://github.com/htaghizadeh/PersianStemmer-Python/archive/master.zip --upgrade\n",
        "!pip install hazm\n",
        "!pip install demoji"
      ],
      "execution_count": null,
      "outputs": []
    },
    {
      "cell_type": "code",
      "metadata": {
        "id": "Vco6YJjt4gPj"
      },
      "source": [
        "from google.colab import drive\n",
        "import sys\n",
        "drive.mount('/content/drive')\n",
        "sys.path.insert(0, '/content/drive/My Drive/modules') #Adds preprocessing module to current session."
      ],
      "execution_count": null,
      "outputs": []
    },
    {
      "cell_type": "code",
      "metadata": {
        "id": "ZcikNNcbSmqi"
      },
      "source": [
        "import pandas as pd\n",
        "import preprocess\n",
        "import numpy as np\n",
        "import tensorflow as tf\n",
        "import demoji\n",
        "from tensorflow.keras.preprocessing.text import Tokenizer\n",
        "from tensorflow.keras.preprocessing.sequence import pad_sequences\n",
        "from tensorflow import keras\n",
        "from keras.models import Sequential\n",
        "from keras.layers import Dense\n",
        "from keras.layers import Flatten\n",
        "from keras.layers import Embedding\n",
        "from keras.layers import Dropout\n",
        "from keras.layers.convolutional import Conv1D\n",
        "from keras.layers.convolutional import MaxPooling1D\n",
        "from sklearn.model_selection import train_test_split\n",
        "import matplotlib.pyplot as plt\n",
        "demoji.download_codes()\n",
        "np.random.seed(42)\n",
        "tf.random.set_seed(42)"
      ],
      "execution_count": null,
      "outputs": []
    },
    {
      "cell_type": "code",
      "metadata": {
        "id": "KGhe4pkkzHVz"
      },
      "source": [
        "def plot_history(history):\n",
        "    acc = history.history['accuracy']\n",
        "    val_acc = history.history['val_accuracy']\n",
        "    loss = history.history['loss']\n",
        "    val_loss = history.history['val_loss']\n",
        "    x = range(1, len(acc) + 1)\n",
        "    plt.figure(figsize=(12, 5))\n",
        "    plt.subplot(1, 2, 1)\n",
        "    plt.plot(x, acc, 'b', label='Training acc')\n",
        "    plt.plot(x, val_acc, 'r', label='Validation acc')\n",
        "    plt.title('Training and validation accuracy')\n",
        "    plt.legend()\n",
        "    plt.subplot(1, 2, 2)\n",
        "    plt.plot(x, loss, 'b', label='Training loss')\n",
        "    plt.plot(x, val_loss, 'r', label='Validation loss')\n",
        "    plt.title('Training and validation loss')\n",
        "    plt.legend()"
      ],
      "execution_count": null,
      "outputs": []
    },
    {
      "cell_type": "code",
      "metadata": {
        "id": "TarjnblE3cNO"
      },
      "source": [
        "def create_vector_from_data(train_data_df, test_data_df):\n",
        "\n",
        "    train_sentence_list = [row.sentence for index, row in train_data_df.iterrows()]\n",
        "    train_labels_list = [row.label for index, row in train_data_df.iterrows()]\n",
        "    tokenizer = Tokenizer(oov_token='<UNK>')\n",
        "    tokenizer.fit_on_texts(train_sentence_list)\n",
        "    train_sequences = tokenizer.texts_to_sequences(train_sentence_list)\n",
        "    maxlen = max([len(x) for x in train_sequences])\n",
        "    train_padded = pad_sequences(train_sequences, padding='post', truncating='post', maxlen=maxlen)\n",
        "\n",
        "    test_sentence_list = [row.sentence for index, row in test_data_df.iterrows()]\n",
        "    test_labels_list = [row.label for index, row in test_data_df.iterrows()]\n",
        "    test_sequences = tokenizer.texts_to_sequences(test_sentence_list)\n",
        "    test_padded = pad_sequences(test_sequences, padding='post', truncating='post', maxlen=maxlen)\n",
        "    return train_padded, train_labels_list, test_padded, test_labels_list, len(tokenizer.word_index)+1, maxlen"
      ],
      "execution_count": null,
      "outputs": []
    },
    {
      "cell_type": "code",
      "metadata": {
        "id": "ZknFxFOkSmqs"
      },
      "source": [
        "dataset = pd.read_csv('/content/drive/MyDrive/data/gold_dataset.csv')\n",
        "dataset = preprocess.auto_preprocess(dataframe=dataset, stop_words_type='general', stemming=False)\n",
        "train, test = train_test_split(dataset, test_size=0.2, random_state=42)\n",
        "train_vectors, train_labels_list, test_vectors, test_labels_list, vocab_size, maxlen = create_vector_from_data(train_data_df=train, test_data_df=test)"
      ],
      "execution_count": null,
      "outputs": []
    },
    {
      "cell_type": "code",
      "metadata": {
        "id": "eSes98Lw6qHT"
      },
      "source": [
        "train_dataset = tf.data.Dataset.from_tensor_slices((train_vectors, train_labels_list))\n",
        "train_data = train_dataset.shuffle(100).batch(48)\n",
        "test_dataset = tf.data.Dataset.from_tensor_slices((test_vectors, test_labels_list))\n",
        "test_data = test_dataset.batch(64)"
      ],
      "execution_count": null,
      "outputs": []
    },
    {
      "cell_type": "code",
      "metadata": {
        "id": "VYS-UWkl5bpL",
        "colab": {
          "base_uri": "https://localhost:8080/"
        },
        "outputId": "ad43e1da-0903-42e9-e31f-1bb6840c7fc7"
      },
      "source": [
        "checkpoint_filepath = './'\n",
        "model_checkpoint_callback = tf.keras.callbacks.ModelCheckpoint(\n",
        "    filepath=checkpoint_filepath,\n",
        "    save_weights_only=True,\n",
        "    monitor='val_accuracy',\n",
        "    mode='max',\n",
        "    save_best_only=True)\n",
        "model = Sequential()\n",
        "model.add(Embedding(input_dim=vocab_size,output_dim=300, input_length=maxlen))\n",
        "model.add(Conv1D(filters=50, kernel_size=2, activation='relu'))\n",
        "model.add(MaxPooling1D(pool_size=2))\n",
        "model.add(Flatten())\n",
        "model.add(Dense(10, activation='relu'))\n",
        "model.add(Dense(1, activation='sigmoid'))\n",
        "print(model.summary())\n",
        "opt = keras.optimizers.Adam(learning_rate=0.001)\n",
        "model.compile(loss='binary_crossentropy', optimizer='adam', metrics=['accuracy'])\n",
        "history = model.fit(train_data, epochs=10, validation_data = test_data, callbacks=[model_checkpoint_callback])"
      ],
      "execution_count": null,
      "outputs": [
        {
          "output_type": "stream",
          "text": [
            "Model: \"sequential\"\n",
            "_________________________________________________________________\n",
            "Layer (type)                 Output Shape              Param #   \n",
            "=================================================================\n",
            "embedding (Embedding)        (None, 90, 300)           1294200   \n",
            "_________________________________________________________________\n",
            "conv1d (Conv1D)              (None, 89, 50)            30050     \n",
            "_________________________________________________________________\n",
            "max_pooling1d (MaxPooling1D) (None, 44, 50)            0         \n",
            "_________________________________________________________________\n",
            "flatten (Flatten)            (None, 2200)              0         \n",
            "_________________________________________________________________\n",
            "dense (Dense)                (None, 10)                22010     \n",
            "_________________________________________________________________\n",
            "dense_1 (Dense)              (None, 1)                 11        \n",
            "=================================================================\n",
            "Total params: 1,346,271\n",
            "Trainable params: 1,346,271\n",
            "Non-trainable params: 0\n",
            "_________________________________________________________________\n",
            "None\n",
            "Epoch 1/10\n",
            "40/40 [==============================] - 5s 33ms/step - loss: 0.6863 - accuracy: 0.5145 - val_loss: 0.6179 - val_accuracy: 0.7188\n",
            "Epoch 2/10\n",
            "40/40 [==============================] - 1s 19ms/step - loss: 0.5171 - accuracy: 0.8076 - val_loss: 0.2704 - val_accuracy: 0.9021\n",
            "Epoch 3/10\n",
            "40/40 [==============================] - 1s 20ms/step - loss: 0.1507 - accuracy: 0.9580 - val_loss: 0.2164 - val_accuracy: 0.9167\n",
            "Epoch 4/10\n",
            "40/40 [==============================] - 1s 21ms/step - loss: 0.0512 - accuracy: 0.9843 - val_loss: 0.2168 - val_accuracy: 0.9250\n",
            "Epoch 5/10\n",
            "40/40 [==============================] - 1s 20ms/step - loss: 0.0213 - accuracy: 0.9936 - val_loss: 0.2402 - val_accuracy: 0.9396\n",
            "Epoch 6/10\n",
            "40/40 [==============================] - 1s 21ms/step - loss: 0.0071 - accuracy: 0.9987 - val_loss: 0.2438 - val_accuracy: 0.9396\n",
            "Epoch 7/10\n",
            "40/40 [==============================] - 1s 20ms/step - loss: 0.0041 - accuracy: 1.0000 - val_loss: 0.2579 - val_accuracy: 0.9271\n",
            "Epoch 8/10\n",
            "40/40 [==============================] - 1s 19ms/step - loss: 0.0055 - accuracy: 0.9978 - val_loss: 0.2859 - val_accuracy: 0.9187\n",
            "Epoch 9/10\n",
            "40/40 [==============================] - 1s 19ms/step - loss: 0.0031 - accuracy: 1.0000 - val_loss: 0.2843 - val_accuracy: 0.9229\n",
            "Epoch 10/10\n",
            "40/40 [==============================] - 1s 20ms/step - loss: 0.0016 - accuracy: 1.0000 - val_loss: 0.2758 - val_accuracy: 0.9312\n"
          ],
          "name": "stdout"
        }
      ]
    },
    {
      "cell_type": "code",
      "metadata": {
        "colab": {
          "base_uri": "https://localhost:8080/",
          "height": 336
        },
        "id": "zkN4FNKfzNO0",
        "outputId": "533af77e-4ed5-457d-d722-22a11cd0c859"
      },
      "source": [
        "plot_history(history)"
      ],
      "execution_count": null,
      "outputs": [
        {
          "output_type": "display_data",
          "data": {
            "image/png": "[encoded data removed]",
            "text/plain": [
              "<Figure size 864x360 with 2 Axes>"
            ]
          },
          "metadata": {
            "tags": [],
            "needs_background": "light"
          }
        }
      ]
    },
    {
      "cell_type": "code",
      "metadata": {
        "id": "P3yxB1REX7Oa"
      },
      "source": [
        "# keras.utils.plot_model(model)"
      ],
      "execution_count": null,
      "outputs": []
    },
    {
      "cell_type": "code",
      "metadata": {
        "id": "ITP6usy2N_iK",
        "colab": {
          "base_uri": "https://localhost:8080/"
        },
        "outputId": "54931d09-b8f3-4f9a-e289-53599d2b9cc2"
      },
      "source": [
        "model.load_weights(checkpoint_filepath)"
      ],
      "execution_count": null,
      "outputs": [
        {
          "output_type": "execute_result",
          "data": {
            "text/plain": [
              "<tensorflow.python.training.tracking.util.CheckpointLoadStatus at 0x7f19805eb490>"
            ]
          },
          "metadata": {
            "tags": []
          },
          "execution_count": 10
        }
      ]
    },
    {
      "cell_type": "code",
      "metadata": {
        "id": "8PEYQkfuMOUN"
      },
      "source": [
        "results = (model.predict(test_data) > 0.5).astype(\"int32\")"
      ],
      "execution_count": null,
      "outputs": []
    },
    {
      "cell_type": "code",
      "metadata": {
        "id": "OCrDC-mnMNgW"
      },
      "source": [
        "from sklearn.metrics import accuracy_score\n",
        "from sklearn.metrics import precision_score\n",
        "from sklearn.metrics import recall_score\n",
        "from sklearn.metrics import f1_score"
      ],
      "execution_count": null,
      "outputs": []
    },
    {
      "cell_type": "code",
      "metadata": {
        "id": "Lr-9S0aQi8PO",
        "colab": {
          "base_uri": "https://localhost:8080/"
        },
        "outputId": "6ca5a6dd-164e-4155-e480-acc377dfc98a"
      },
      "source": [
        "f1 = (f1_score(test_labels_list,results ))*100\n",
        "f1 = round(f1,2)\n",
        "print('f1 score is: ',f1)\n",
        "\n",
        "accuracy = (accuracy_score(test_labels_list,results ))*100\n",
        "accuracy = round(accuracy,2)\n",
        "print('accuracy score is: ',accuracy)\n",
        "\n",
        "precision = (precision_score(test_labels_list,results ))*100\n",
        "precision = round(precision,2)\n",
        "print('precision score is: ',precision)\n",
        "\n",
        "recall = (recall_score(test_labels_list,results ))*100\n",
        "recall = round(recall,2)\n",
        "print('recall score is: ',recall)"
      ],
      "execution_count": null,
      "outputs": [
        {
          "output_type": "stream",
          "text": [
            "f1 score is:  94.16\n",
            "accuracy score is:  93.96\n",
            "precision score is:  92.86\n",
            "recall score is:  95.51\n"
          ],
          "name": "stdout"
        }
      ]
    }
  ]
}
